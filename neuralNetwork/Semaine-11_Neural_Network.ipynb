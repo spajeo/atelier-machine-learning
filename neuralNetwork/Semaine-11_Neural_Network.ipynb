{
 "cells": [
  {
   "cell_type": "markdown",
   "metadata": {},
   "source": [
    "# Semaine 11 - Réseau de neurones de base"
   ]
  },
  {
   "cell_type": "markdown",
   "metadata": {},
   "source": [
    "Cette semaine nous allons écrire un réseau de neurones de base, que nous allons entraîner afin qu'il inverse des séquences de bits. Si vous réussissez à l'implémenter, vous pourrez ensuite vous amuser à l'utiliser sur d'autres types de données"
   ]
  },
  {
   "cell_type": "markdown",
   "metadata": {},
   "source": [
    "## Importations et initialisations de variables"
   ]
  },
  {
   "cell_type": "markdown",
   "metadata": {},
   "source": [
    "Nous n'allons utiliser que numpy pour cet exercice"
   ]
  },
  {
   "cell_type": "code",
   "execution_count": 13,
   "metadata": {
    "collapsed": true
   },
   "outputs": [],
   "source": [
    "import numpy as np"
   ]
  },
  {
   "cell_type": "markdown",
   "metadata": {},
   "source": [
    "Nous avons un réseau à deux couches (l'input ne comptant pas pour une couche). Nous allons utiliser 300 séquences de bits pour l'entraînement."
   ]
  },
  {
   "cell_type": "code",
   "execution_count": 14,
   "metadata": {
    "collapsed": true
   },
   "outputs": [],
   "source": [
    "# Nb de neurones sur chaque couche\n",
    "n_in = 10\n",
    "n_hidden = 100\n",
    "n_out = 10\n",
    "\n",
    "# Nb de 'training examples'\n",
    "m = 300"
   ]
  },
  {
   "cell_type": "code",
   "execution_count": 15,
   "metadata": {
    "collapsed": true
   },
   "outputs": [],
   "source": [
    "alpha = 0.1  # Learning rate\n",
    "epochs = 500  # nb iterations du gradient descent"
   ]
  },
  {
   "cell_type": "markdown",
   "metadata": {},
   "source": [
    "## Définition des fonctions d'activation"
   ]
  },
  {
   "cell_type": "markdown",
   "metadata": {},
   "source": [
    "Nous utiliserons la fonction tanh pour l'activation de la \"hidden layer\", et la sigmoïde pour la dernière couche. Implémentez-les si elle n'existent pas déjà dans numpy. Implémentez aussi la dérivée de l'une ou l'autre d'entre elles, le cas échéant.\n",
    "Attention! Les fonctions doivent pouvoir traiter des vecteurs ou des matrices en effectuant l'opération sur chaque élément de ces derniers."
   ]
  },
  {
   "cell_type": "code",
   "execution_count": 16,
   "metadata": {
    "collapsed": true
   },
   "outputs": [],
   "source": [
    "def sigmoid(x):\n",
    "    return 1 / (1 + np.exp(-x))"
   ]
  },
  {
   "cell_type": "code",
   "execution_count": 17,
   "metadata": {
    "collapsed": true
   },
   "outputs": [],
   "source": [
    "# Dérivée de tanh\n",
    "def tanh_prime(x):\n",
    "    return 1 - np.tanh(x)"
   ]
  },
  {
   "cell_type": "markdown",
   "metadata": {},
   "source": [
    "## Entraînement du réseau de neurones"
   ]
  },
  {
   "cell_type": "markdown",
   "metadata": {},
   "source": [
    "Nous allons écrire une fonction qui fait une activation puis une rétropropagation, puis renvoie l'erreur (loss) et le gradient (toutes ces variables qui commencent par d...). L'itération sur les 200 epochs se fera dans un deuxième temps."
   ]
  },
  {
   "cell_type": "code",
   "execution_count": 18,
   "metadata": {
    "collapsed": true
   },
   "outputs": [],
   "source": [
    "def train(X, Y, W1, W2, b1, b2):\n",
    "    loss_history = []\n",
    "    \n",
    "    for epoch in range(epochs):\n",
    "        # Forward\n",
    "        Z1 = np.add(np.dot(W1, X), b1)\n",
    "        A1 = np.tanh(Z1)\n",
    "        Z2 = np.add(np.dot(W2, A1), b2)\n",
    "        A2 = sigmoid(Z2)\n",
    "        \n",
    "        # Backward\n",
    "        dZ2 = A2 - Y\n",
    "        dW2 = (1 / X.shape[1]) * np.dot(dZ2, A1.T)\n",
    "        db2 = (1 / X.shape[1]) * np.sum(dZ2, axis = 1, keepdims=True)\n",
    "        \n",
    "        dZ1 = np.multiply(np.dot(W2.T, dZ2), tanh_prime(Z1))\n",
    "        dW1 = (1 / X.shape[1]) * np.dot(dZ1, X.T)\n",
    "        db1 = (1 / X.shape[1]) * np.sum(dZ1, axis = 1, keepdims=True)    \n",
    "\n",
    "        # Parameter update (use the learning rate alpha here!)\n",
    "        W1 -= alpha * dW1\n",
    "        W2 -= alpha * dW2\n",
    "        b1 -= alpha * db1\n",
    "        b2 -= alpha * db2\n",
    "       \n",
    "    \n",
    "        # Compute loss\n",
    "        loss = np.mean(-np.add(np.multiply(Y,np.log(A2)),\n",
    "            np.multiply(np.subtract(1, Y),np.log(np.subtract(1, A2)))))\n",
    "        \n",
    "        \n",
    "        loss_history.append(loss)\n",
    "        print(\"Epoch %d, Loss: %.8f\" % (epoch, loss))\n",
    "    \n",
    "    return loss_history, W1, W2, b1, b2"
   ]
  },
  {
   "cell_type": "markdown",
   "metadata": {},
   "source": [
    "### Initialisation des paramètres du réseau"
   ]
  },
  {
   "cell_type": "markdown",
   "metadata": {},
   "source": [
    "Attention, certains paramètres sont initalisés à zéro, d'autres non..."
   ]
  },
  {
   "cell_type": "code",
   "execution_count": 19,
   "metadata": {},
   "outputs": [],
   "source": [
    "W1 = np.random.randn(n_hidden, n_in) * 1\n",
    "W2 = np.random.randn(n_out, n_hidden) * 1\n",
    "b1 = np.zeros((n_hidden, 1))\n",
    "b2 = np.zeros((n_out, 1))"
   ]
  },
  {
   "cell_type": "markdown",
   "metadata": {},
   "source": [
    "## Génération des données d'entraînement"
   ]
  },
  {
   "cell_type": "markdown",
   "metadata": {},
   "source": [
    "Ici il s'agit créer 300 séries de 10 chiffres binaires (1 et 0) pour les X.\n",
    "Les Y seront ces mêmes séries, inversées."
   ]
  },
  {
   "cell_type": "code",
   "execution_count": 20,
   "metadata": {},
   "outputs": [
    {
     "name": "stdout",
     "output_type": "stream",
     "text": [
      "300\n"
     ]
    }
   ],
   "source": [
    "# Data generation\n",
    "X = np.random.binomial(1, 0.5, (n_in, m))\n",
    "print(X.shape[1])\n",
    "Y = X ^ 1"
   ]
  },
  {
   "cell_type": "markdown",
   "metadata": {},
   "source": [
    "## Lancer l'entraînement du réseau"
   ]
  },
  {
   "cell_type": "code",
   "execution_count": 21,
   "metadata": {},
   "outputs": [
    {
     "name": "stdout",
     "output_type": "stream",
     "text": [
      "Epoch 0, Loss: 3.29748794\n",
      "Epoch 1, Loss: 2.25929391\n",
      "Epoch 2, Loss: 1.74787036\n",
      "Epoch 3, Loss: 1.38598872\n",
      "Epoch 4, Loss: 1.09995564\n",
      "Epoch 5, Loss: 0.88154490\n",
      "Epoch 6, Loss: 0.71705355\n",
      "Epoch 7, Loss: 0.59617900\n",
      "Epoch 8, Loss: 0.50525781\n",
      "Epoch 9, Loss: 0.43732201\n",
      "Epoch 10, Loss: 0.38396912\n",
      "Epoch 11, Loss: 0.34198902\n",
      "Epoch 12, Loss: 0.30741057\n",
      "Epoch 13, Loss: 0.27895606\n",
      "Epoch 14, Loss: 0.25482030\n",
      "Epoch 15, Loss: 0.23432941\n",
      "Epoch 16, Loss: 0.21661360\n",
      "Epoch 17, Loss: 0.20123639\n",
      "Epoch 18, Loss: 0.18774228\n",
      "Epoch 19, Loss: 0.17583881\n",
      "Epoch 20, Loss: 0.16526487\n",
      "Epoch 21, Loss: 0.15582497\n",
      "Epoch 22, Loss: 0.14735464\n",
      "Epoch 23, Loss: 0.13972086\n",
      "Epoch 24, Loss: 0.13281236\n",
      "Epoch 25, Loss: 0.12653622\n",
      "Epoch 26, Loss: 0.12081406\n",
      "Epoch 27, Loss: 0.11557948\n",
      "Epoch 28, Loss: 0.11077592\n",
      "Epoch 29, Loss: 0.10635500\n",
      "Epoch 30, Loss: 0.10227509\n",
      "Epoch 31, Loss: 0.09850028\n",
      "Epoch 32, Loss: 0.09499937\n",
      "Epoch 33, Loss: 0.09174521\n",
      "Epoch 34, Loss: 0.08871403\n",
      "Epoch 35, Loss: 0.08588497\n",
      "Epoch 36, Loss: 0.08323962\n",
      "Epoch 37, Loss: 0.08076172\n",
      "Epoch 38, Loss: 0.07843682\n",
      "Epoch 39, Loss: 0.07625207\n",
      "Epoch 40, Loss: 0.07419599\n",
      "Epoch 41, Loss: 0.07225830\n",
      "Epoch 42, Loss: 0.07042974\n",
      "Epoch 43, Loss: 0.06870201\n",
      "Epoch 44, Loss: 0.06706757\n",
      "Epoch 45, Loss: 0.06551962\n",
      "Epoch 46, Loss: 0.06405198\n",
      "Epoch 47, Loss: 0.06265901\n",
      "Epoch 48, Loss: 0.06133558\n",
      "Epoch 49, Loss: 0.06007698\n",
      "Epoch 50, Loss: 0.05887892\n",
      "Epoch 51, Loss: 0.05773744\n",
      "Epoch 52, Loss: 0.05664890\n",
      "Epoch 53, Loss: 0.05560995\n",
      "Epoch 54, Loss: 0.05461751\n",
      "Epoch 55, Loss: 0.05366871\n",
      "Epoch 56, Loss: 0.05276091\n",
      "Epoch 57, Loss: 0.05189165\n",
      "Epoch 58, Loss: 0.05105866\n",
      "Epoch 59, Loss: 0.05025983\n",
      "Epoch 60, Loss: 0.04949319\n",
      "Epoch 61, Loss: 0.04875691\n",
      "Epoch 62, Loss: 0.04804928\n",
      "Epoch 63, Loss: 0.04736873\n",
      "Epoch 64, Loss: 0.04671375\n",
      "Epoch 65, Loss: 0.04608297\n",
      "Epoch 66, Loss: 0.04547508\n",
      "Epoch 67, Loss: 0.04488888\n",
      "Epoch 68, Loss: 0.04432322\n",
      "Epoch 69, Loss: 0.04377704\n",
      "Epoch 70, Loss: 0.04324935\n",
      "Epoch 71, Loss: 0.04273921\n",
      "Epoch 72, Loss: 0.04224573\n",
      "Epoch 73, Loss: 0.04176810\n",
      "Epoch 74, Loss: 0.04130553\n",
      "Epoch 75, Loss: 0.04085729\n",
      "Epoch 76, Loss: 0.04042270\n",
      "Epoch 77, Loss: 0.04000111\n",
      "Epoch 78, Loss: 0.03959192\n",
      "Epoch 79, Loss: 0.03919453\n",
      "Epoch 80, Loss: 0.03880843\n",
      "Epoch 81, Loss: 0.03843309\n",
      "Epoch 82, Loss: 0.03806804\n",
      "Epoch 83, Loss: 0.03771281\n",
      "Epoch 84, Loss: 0.03736699\n",
      "Epoch 85, Loss: 0.03703016\n",
      "Epoch 86, Loss: 0.03670194\n",
      "Epoch 87, Loss: 0.03638197\n",
      "Epoch 88, Loss: 0.03606990\n",
      "Epoch 89, Loss: 0.03576541\n",
      "Epoch 90, Loss: 0.03546819\n",
      "Epoch 91, Loss: 0.03517795\n",
      "Epoch 92, Loss: 0.03489441\n",
      "Epoch 93, Loss: 0.03461731\n",
      "Epoch 94, Loss: 0.03434639\n",
      "Epoch 95, Loss: 0.03408143\n",
      "Epoch 96, Loss: 0.03382219\n",
      "Epoch 97, Loss: 0.03356846\n",
      "Epoch 98, Loss: 0.03332003\n",
      "Epoch 99, Loss: 0.03307671\n",
      "Epoch 100, Loss: 0.03283831\n",
      "Epoch 101, Loss: 0.03260466\n",
      "Epoch 102, Loss: 0.03237559\n",
      "Epoch 103, Loss: 0.03215092\n",
      "Epoch 104, Loss: 0.03193051\n",
      "Epoch 105, Loss: 0.03171422\n",
      "Epoch 106, Loss: 0.03150189\n",
      "Epoch 107, Loss: 0.03129339\n",
      "Epoch 108, Loss: 0.03108859\n",
      "Epoch 109, Loss: 0.03088736\n",
      "Epoch 110, Loss: 0.03068959\n",
      "Epoch 111, Loss: 0.03049516\n",
      "Epoch 112, Loss: 0.03030397\n",
      "Epoch 113, Loss: 0.03011589\n",
      "Epoch 114, Loss: 0.02993084\n",
      "Epoch 115, Loss: 0.02974871\n",
      "Epoch 116, Loss: 0.02956941\n",
      "Epoch 117, Loss: 0.02939285\n",
      "Epoch 118, Loss: 0.02921894\n",
      "Epoch 119, Loss: 0.02904760\n",
      "Epoch 120, Loss: 0.02887875\n",
      "Epoch 121, Loss: 0.02871232\n",
      "Epoch 122, Loss: 0.02854822\n",
      "Epoch 123, Loss: 0.02838638\n",
      "Epoch 124, Loss: 0.02822675\n",
      "Epoch 125, Loss: 0.02806924\n",
      "Epoch 126, Loss: 0.02791381\n",
      "Epoch 127, Loss: 0.02776039\n",
      "Epoch 128, Loss: 0.02760891\n",
      "Epoch 129, Loss: 0.02745933\n",
      "Epoch 130, Loss: 0.02731159\n",
      "Epoch 131, Loss: 0.02716564\n",
      "Epoch 132, Loss: 0.02702142\n",
      "Epoch 133, Loss: 0.02687890\n",
      "Epoch 134, Loss: 0.02673803\n",
      "Epoch 135, Loss: 0.02659875\n",
      "Epoch 136, Loss: 0.02646104\n",
      "Epoch 137, Loss: 0.02632484\n",
      "Epoch 138, Loss: 0.02619013\n",
      "Epoch 139, Loss: 0.02605685\n",
      "Epoch 140, Loss: 0.02592499\n",
      "Epoch 141, Loss: 0.02579450\n",
      "Epoch 142, Loss: 0.02566534\n",
      "Epoch 143, Loss: 0.02553750\n",
      "Epoch 144, Loss: 0.02541093\n",
      "Epoch 145, Loss: 0.02528561\n",
      "Epoch 146, Loss: 0.02516151\n",
      "Epoch 147, Loss: 0.02503860\n",
      "Epoch 148, Loss: 0.02491686\n",
      "Epoch 149, Loss: 0.02479626\n",
      "Epoch 150, Loss: 0.02467678\n",
      "Epoch 151, Loss: 0.02455839\n",
      "Epoch 152, Loss: 0.02444108\n",
      "Epoch 153, Loss: 0.02432481\n",
      "Epoch 154, Loss: 0.02420958\n",
      "Epoch 155, Loss: 0.02409535\n",
      "Epoch 156, Loss: 0.02398212\n",
      "Epoch 157, Loss: 0.02386986\n",
      "Epoch 158, Loss: 0.02375855\n",
      "Epoch 159, Loss: 0.02364818\n",
      "Epoch 160, Loss: 0.02353872\n",
      "Epoch 161, Loss: 0.02343018\n",
      "Epoch 162, Loss: 0.02332251\n",
      "Epoch 163, Loss: 0.02321572\n",
      "Epoch 164, Loss: 0.02310979\n",
      "Epoch 165, Loss: 0.02300471\n",
      "Epoch 166, Loss: 0.02290045\n",
      "Epoch 167, Loss: 0.02279701\n",
      "Epoch 168, Loss: 0.02269437\n",
      "Epoch 169, Loss: 0.02259252\n",
      "Epoch 170, Loss: 0.02249145\n",
      "Epoch 171, Loss: 0.02239115\n",
      "Epoch 172, Loss: 0.02229160\n",
      "Epoch 173, Loss: 0.02219280\n",
      "Epoch 174, Loss: 0.02209473\n",
      "Epoch 175, Loss: 0.02199739\n",
      "Epoch 176, Loss: 0.02190076\n",
      "Epoch 177, Loss: 0.02180483\n",
      "Epoch 178, Loss: 0.02170959\n",
      "Epoch 179, Loss: 0.02161504\n",
      "Epoch 180, Loss: 0.02152116\n",
      "Epoch 181, Loss: 0.02142795\n",
      "Epoch 182, Loss: 0.02133540\n",
      "Epoch 183, Loss: 0.02124350\n",
      "Epoch 184, Loss: 0.02115224\n",
      "Epoch 185, Loss: 0.02106161\n",
      "Epoch 186, Loss: 0.02097161\n",
      "Epoch 187, Loss: 0.02088223\n",
      "Epoch 188, Loss: 0.02079347\n",
      "Epoch 189, Loss: 0.02070530\n",
      "Epoch 190, Loss: 0.02061774\n",
      "Epoch 191, Loss: 0.02053077\n",
      "Epoch 192, Loss: 0.02044439\n",
      "Epoch 193, Loss: 0.02035858\n",
      "Epoch 194, Loss: 0.02027335\n",
      "Epoch 195, Loss: 0.02018869\n",
      "Epoch 196, Loss: 0.02010460\n",
      "Epoch 197, Loss: 0.02002106\n",
      "Epoch 198, Loss: 0.01993808\n",
      "Epoch 199, Loss: 0.01985564\n",
      "Epoch 200, Loss: 0.01977375\n",
      "Epoch 201, Loss: 0.01969240\n",
      "Epoch 202, Loss: 0.01961159\n",
      "Epoch 203, Loss: 0.01953130\n",
      "Epoch 204, Loss: 0.01945154\n",
      "Epoch 205, Loss: 0.01937231\n",
      "Epoch 206, Loss: 0.01929360\n",
      "Epoch 207, Loss: 0.01921540\n",
      "Epoch 208, Loss: 0.01913771\n",
      "Epoch 209, Loss: 0.01906054\n",
      "Epoch 210, Loss: 0.01898387\n",
      "Epoch 211, Loss: 0.01890770\n",
      "Epoch 212, Loss: 0.01883203\n",
      "Epoch 213, Loss: 0.01875686\n",
      "Epoch 214, Loss: 0.01868219\n",
      "Epoch 215, Loss: 0.01860801\n",
      "Epoch 216, Loss: 0.01853432\n",
      "Epoch 217, Loss: 0.01846111\n",
      "Epoch 218, Loss: 0.01838839\n",
      "Epoch 219, Loss: 0.01831616\n",
      "Epoch 220, Loss: 0.01824441\n",
      "Epoch 221, Loss: 0.01817313\n",
      "Epoch 222, Loss: 0.01810234\n",
      "Epoch 223, Loss: 0.01803201\n",
      "Epoch 224, Loss: 0.01796217\n",
      "Epoch 225, Loss: 0.01789279\n",
      "Epoch 226, Loss: 0.01782389\n",
      "Epoch 227, Loss: 0.01775546\n",
      "Epoch 228, Loss: 0.01768749\n",
      "Epoch 229, Loss: 0.01762000\n",
      "Epoch 230, Loss: 0.01755296\n",
      "Epoch 231, Loss: 0.01748640\n",
      "Epoch 232, Loss: 0.01742029\n",
      "Epoch 233, Loss: 0.01735465\n",
      "Epoch 234, Loss: 0.01728947\n",
      "Epoch 235, Loss: 0.01722475\n",
      "Epoch 236, Loss: 0.01716049\n",
      "Epoch 237, Loss: 0.01709669\n",
      "Epoch 238, Loss: 0.01703335\n",
      "Epoch 239, Loss: 0.01697046\n",
      "Epoch 240, Loss: 0.01690803\n",
      "Epoch 241, Loss: 0.01684605\n",
      "Epoch 242, Loss: 0.01678453\n",
      "Epoch 243, Loss: 0.01672346\n",
      "Epoch 244, Loss: 0.01666284\n",
      "Epoch 245, Loss: 0.01660267\n",
      "Epoch 246, Loss: 0.01654296\n",
      "Epoch 247, Loss: 0.01648370\n",
      "Epoch 248, Loss: 0.01642488\n",
      "Epoch 249, Loss: 0.01636652\n",
      "Epoch 250, Loss: 0.01630860\n",
      "Epoch 251, Loss: 0.01625113\n",
      "Epoch 252, Loss: 0.01619411\n",
      "Epoch 253, Loss: 0.01613753\n",
      "Epoch 254, Loss: 0.01608140\n",
      "Epoch 255, Loss: 0.01602571\n",
      "Epoch 256, Loss: 0.01597047\n",
      "Epoch 257, Loss: 0.01591567\n",
      "Epoch 258, Loss: 0.01586131\n",
      "Epoch 259, Loss: 0.01580739\n",
      "Epoch 260, Loss: 0.01575392\n",
      "Epoch 261, Loss: 0.01570088\n",
      "Epoch 262, Loss: 0.01564828\n",
      "Epoch 263, Loss: 0.01559611\n",
      "Epoch 264, Loss: 0.01554439\n",
      "Epoch 265, Loss: 0.01549310\n",
      "Epoch 266, Loss: 0.01544224\n",
      "Epoch 267, Loss: 0.01539182\n",
      "Epoch 268, Loss: 0.01534182\n",
      "Epoch 269, Loss: 0.01529226\n",
      "Epoch 270, Loss: 0.01524313\n",
      "Epoch 271, Loss: 0.01519443\n",
      "Epoch 272, Loss: 0.01514615\n",
      "Epoch 273, Loss: 0.01509830\n",
      "Epoch 274, Loss: 0.01505087\n",
      "Epoch 275, Loss: 0.01500387\n",
      "Epoch 276, Loss: 0.01495729\n",
      "Epoch 277, Loss: 0.01491112\n",
      "Epoch 278, Loss: 0.01486538\n",
      "Epoch 279, Loss: 0.01482005\n",
      "Epoch 280, Loss: 0.01477514\n",
      "Epoch 281, Loss: 0.01473064\n",
      "Epoch 282, Loss: 0.01468656\n",
      "Epoch 283, Loss: 0.01464288\n",
      "Epoch 284, Loss: 0.01459962\n",
      "Epoch 285, Loss: 0.01455675\n",
      "Epoch 286, Loss: 0.01451430\n",
      "Epoch 287, Loss: 0.01447225\n",
      "Epoch 288, Loss: 0.01443059\n",
      "Epoch 289, Loss: 0.01438934\n",
      "Epoch 290, Loss: 0.01434848\n",
      "Epoch 291, Loss: 0.01430802\n",
      "Epoch 292, Loss: 0.01426795\n",
      "Epoch 293, Loss: 0.01422827\n",
      "Epoch 294, Loss: 0.01418898\n",
      "Epoch 295, Loss: 0.01415008\n",
      "Epoch 296, Loss: 0.01411155\n"
     ]
    },
    {
     "name": "stdout",
     "output_type": "stream",
     "text": [
      "Epoch 297, Loss: 0.01407342\n",
      "Epoch 298, Loss: 0.01403565\n",
      "Epoch 299, Loss: 0.01399827\n",
      "Epoch 300, Loss: 0.01396126\n",
      "Epoch 301, Loss: 0.01392462\n",
      "Epoch 302, Loss: 0.01388835\n",
      "Epoch 303, Loss: 0.01385245\n",
      "Epoch 304, Loss: 0.01381691\n",
      "Epoch 305, Loss: 0.01378173\n",
      "Epoch 306, Loss: 0.01374691\n",
      "Epoch 307, Loss: 0.01371244\n",
      "Epoch 308, Loss: 0.01367833\n",
      "Epoch 309, Loss: 0.01364457\n",
      "Epoch 310, Loss: 0.01361115\n",
      "Epoch 311, Loss: 0.01357808\n",
      "Epoch 312, Loss: 0.01354535\n",
      "Epoch 313, Loss: 0.01351295\n",
      "Epoch 314, Loss: 0.01348089\n",
      "Epoch 315, Loss: 0.01344917\n",
      "Epoch 316, Loss: 0.01341776\n",
      "Epoch 317, Loss: 0.01338669\n",
      "Epoch 318, Loss: 0.01335593\n",
      "Epoch 319, Loss: 0.01332550\n",
      "Epoch 320, Loss: 0.01329537\n",
      "Epoch 321, Loss: 0.01326556\n",
      "Epoch 322, Loss: 0.01323605\n",
      "Epoch 323, Loss: 0.01320685\n",
      "Epoch 324, Loss: 0.01317795\n",
      "Epoch 325, Loss: 0.01314934\n",
      "Epoch 326, Loss: 0.01312103\n",
      "Epoch 327, Loss: 0.01309300\n",
      "Epoch 328, Loss: 0.01306526\n",
      "Epoch 329, Loss: 0.01303780\n",
      "Epoch 330, Loss: 0.01301062\n",
      "Epoch 331, Loss: 0.01298370\n",
      "Epoch 332, Loss: 0.01295706\n",
      "Epoch 333, Loss: 0.01293068\n",
      "Epoch 334, Loss: 0.01290456\n",
      "Epoch 335, Loss: 0.01287870\n",
      "Epoch 336, Loss: 0.01285309\n",
      "Epoch 337, Loss: 0.01282772\n",
      "Epoch 338, Loss: 0.01280260\n",
      "Epoch 339, Loss: 0.01277772\n",
      "Epoch 340, Loss: 0.01275307\n",
      "Epoch 341, Loss: 0.01272865\n",
      "Epoch 342, Loss: 0.01270446\n",
      "Epoch 343, Loss: 0.01268049\n",
      "Epoch 344, Loss: 0.01265673\n",
      "Epoch 345, Loss: 0.01263319\n",
      "Epoch 346, Loss: 0.01260985\n",
      "Epoch 347, Loss: 0.01258672\n",
      "Epoch 348, Loss: 0.01256379\n",
      "Epoch 349, Loss: 0.01254105\n",
      "Epoch 350, Loss: 0.01251850\n",
      "Epoch 351, Loss: 0.01249614\n",
      "Epoch 352, Loss: 0.01247396\n",
      "Epoch 353, Loss: 0.01245196\n",
      "Epoch 354, Loss: 0.01243013\n",
      "Epoch 355, Loss: 0.01240847\n",
      "Epoch 356, Loss: 0.01238698\n",
      "Epoch 357, Loss: 0.01236564\n",
      "Epoch 358, Loss: 0.01234446\n",
      "Epoch 359, Loss: 0.01232343\n",
      "Epoch 360, Loss: 0.01230255\n",
      "Epoch 361, Loss: 0.01228182\n",
      "Epoch 362, Loss: 0.01226123\n",
      "Epoch 363, Loss: 0.01224077\n",
      "Epoch 364, Loss: 0.01222044\n",
      "Epoch 365, Loss: 0.01220024\n",
      "Epoch 366, Loss: 0.01218017\n",
      "Epoch 367, Loss: 0.01216022\n",
      "Epoch 368, Loss: 0.01214039\n",
      "Epoch 369, Loss: 0.01212067\n",
      "Epoch 370, Loss: 0.01210107\n",
      "Epoch 371, Loss: 0.01208157\n",
      "Epoch 372, Loss: 0.01206218\n",
      "Epoch 373, Loss: 0.01204288\n",
      "Epoch 374, Loss: 0.01202369\n",
      "Epoch 375, Loss: 0.01200459\n",
      "Epoch 376, Loss: 0.01198559\n",
      "Epoch 377, Loss: 0.01196667\n",
      "Epoch 378, Loss: 0.01194785\n",
      "Epoch 379, Loss: 0.01192911\n",
      "Epoch 380, Loss: 0.01191045\n",
      "Epoch 381, Loss: 0.01189186\n",
      "Epoch 382, Loss: 0.01187336\n",
      "Epoch 383, Loss: 0.01185493\n",
      "Epoch 384, Loss: 0.01183658\n",
      "Epoch 385, Loss: 0.01181830\n",
      "Epoch 386, Loss: 0.01180008\n",
      "Epoch 387, Loss: 0.01178193\n",
      "Epoch 388, Loss: 0.01176385\n",
      "Epoch 389, Loss: 0.01174583\n",
      "Epoch 390, Loss: 0.01172787\n",
      "Epoch 391, Loss: 0.01170997\n",
      "Epoch 392, Loss: 0.01169213\n",
      "Epoch 393, Loss: 0.01167435\n",
      "Epoch 394, Loss: 0.01165662\n",
      "Epoch 395, Loss: 0.01163894\n",
      "Epoch 396, Loss: 0.01162132\n",
      "Epoch 397, Loss: 0.01160375\n",
      "Epoch 398, Loss: 0.01158623\n",
      "Epoch 399, Loss: 0.01156876\n",
      "Epoch 400, Loss: 0.01155134\n",
      "Epoch 401, Loss: 0.01153397\n",
      "Epoch 402, Loss: 0.01151664\n",
      "Epoch 403, Loss: 0.01149936\n",
      "Epoch 404, Loss: 0.01148213\n",
      "Epoch 405, Loss: 0.01146494\n",
      "Epoch 406, Loss: 0.01144779\n",
      "Epoch 407, Loss: 0.01143069\n",
      "Epoch 408, Loss: 0.01141363\n",
      "Epoch 409, Loss: 0.01139661\n",
      "Epoch 410, Loss: 0.01137963\n",
      "Epoch 411, Loss: 0.01136269\n",
      "Epoch 412, Loss: 0.01134580\n",
      "Epoch 413, Loss: 0.01132895\n",
      "Epoch 414, Loss: 0.01131213\n",
      "Epoch 415, Loss: 0.01129536\n",
      "Epoch 416, Loss: 0.01127863\n",
      "Epoch 417, Loss: 0.01126193\n",
      "Epoch 418, Loss: 0.01124528\n",
      "Epoch 419, Loss: 0.01122867\n",
      "Epoch 420, Loss: 0.01121209\n",
      "Epoch 421, Loss: 0.01119556\n",
      "Epoch 422, Loss: 0.01117906\n",
      "Epoch 423, Loss: 0.01116261\n",
      "Epoch 424, Loss: 0.01114619\n",
      "Epoch 425, Loss: 0.01112982\n",
      "Epoch 426, Loss: 0.01111348\n",
      "Epoch 427, Loss: 0.01109718\n",
      "Epoch 428, Loss: 0.01108093\n",
      "Epoch 429, Loss: 0.01106471\n",
      "Epoch 430, Loss: 0.01104853\n",
      "Epoch 431, Loss: 0.01103240\n",
      "Epoch 432, Loss: 0.01101630\n",
      "Epoch 433, Loss: 0.01100025\n",
      "Epoch 434, Loss: 0.01098424\n",
      "Epoch 435, Loss: 0.01096826\n",
      "Epoch 436, Loss: 0.01095233\n",
      "Epoch 437, Loss: 0.01093644\n",
      "Epoch 438, Loss: 0.01092060\n",
      "Epoch 439, Loss: 0.01090479\n",
      "Epoch 440, Loss: 0.01088903\n",
      "Epoch 441, Loss: 0.01087331\n",
      "Epoch 442, Loss: 0.01085763\n",
      "Epoch 443, Loss: 0.01084200\n",
      "Epoch 444, Loss: 0.01082641\n",
      "Epoch 445, Loss: 0.01081086\n",
      "Epoch 446, Loss: 0.01079536\n",
      "Epoch 447, Loss: 0.01077990\n",
      "Epoch 448, Loss: 0.01076448\n",
      "Epoch 449, Loss: 0.01074911\n",
      "Epoch 450, Loss: 0.01073379\n",
      "Epoch 451, Loss: 0.01071851\n",
      "Epoch 452, Loss: 0.01070327\n",
      "Epoch 453, Loss: 0.01068808\n",
      "Epoch 454, Loss: 0.01067294\n",
      "Epoch 455, Loss: 0.01065784\n",
      "Epoch 456, Loss: 0.01064279\n",
      "Epoch 457, Loss: 0.01062779\n",
      "Epoch 458, Loss: 0.01061283\n",
      "Epoch 459, Loss: 0.01059792\n",
      "Epoch 460, Loss: 0.01058306\n",
      "Epoch 461, Loss: 0.01056825\n",
      "Epoch 462, Loss: 0.01055348\n",
      "Epoch 463, Loss: 0.01053876\n",
      "Epoch 464, Loss: 0.01052409\n",
      "Epoch 465, Loss: 0.01050947\n",
      "Epoch 466, Loss: 0.01049489\n",
      "Epoch 467, Loss: 0.01048036\n",
      "Epoch 468, Loss: 0.01046589\n",
      "Epoch 469, Loss: 0.01045146\n",
      "Epoch 470, Loss: 0.01043708\n",
      "Epoch 471, Loss: 0.01042275\n",
      "Epoch 472, Loss: 0.01040847\n",
      "Epoch 473, Loss: 0.01039423\n",
      "Epoch 474, Loss: 0.01038005\n",
      "Epoch 475, Loss: 0.01036592\n",
      "Epoch 476, Loss: 0.01035183\n",
      "Epoch 477, Loss: 0.01033780\n",
      "Epoch 478, Loss: 0.01032382\n",
      "Epoch 479, Loss: 0.01030988\n",
      "Epoch 480, Loss: 0.01029600\n",
      "Epoch 481, Loss: 0.01028216\n",
      "Epoch 482, Loss: 0.01026838\n",
      "Epoch 483, Loss: 0.01025464\n",
      "Epoch 484, Loss: 0.01024096\n",
      "Epoch 485, Loss: 0.01022733\n",
      "Epoch 486, Loss: 0.01021374\n",
      "Epoch 487, Loss: 0.01020021\n",
      "Epoch 488, Loss: 0.01018673\n",
      "Epoch 489, Loss: 0.01017329\n",
      "Epoch 490, Loss: 0.01015991\n",
      "Epoch 491, Loss: 0.01014658\n",
      "Epoch 492, Loss: 0.01013329\n",
      "Epoch 493, Loss: 0.01012006\n",
      "Epoch 494, Loss: 0.01010688\n",
      "Epoch 495, Loss: 0.01009375\n",
      "Epoch 496, Loss: 0.01008066\n",
      "Epoch 497, Loss: 0.01006763\n",
      "Epoch 498, Loss: 0.01005465\n",
      "Epoch 499, Loss: 0.01004172\n"
     ]
    }
   ],
   "source": [
    "loss_history, W1, W2, b1, b2 = train(X, Y, W1, W2, b1, b2)"
   ]
  },
  {
   "cell_type": "markdown",
   "metadata": {},
   "source": [
    "### Visualiser la décroissance de l'erreur sur un graphe (optionnel)"
   ]
  },
  {
   "cell_type": "code",
   "execution_count": 22,
   "metadata": {},
   "outputs": [
    {
     "data": {
      "text/plain": [
       "0.010041717564854172"
      ]
     },
     "execution_count": 22,
     "metadata": {},
     "output_type": "execute_result"
    },
    {
     "data": {
      "image/png": "[encoded data removed]",
      "text/plain": [
       "<matplotlib.figure.Figure at 0x1179eeba8>"
      ]
     },
     "metadata": {},
     "output_type": "display_data"
    }
   ],
   "source": [
    "%matplotlib inline  \n",
    "from matplotlib import pyplot as plt\n",
    "\n",
    "plt.plot(loss_history)\n",
    "loss_history[-1]"
   ]
  },
  {
   "cell_type": "markdown",
   "metadata": {},
   "source": [
    "## Évaluation du réseau de neurones"
   ]
  },
  {
   "cell_type": "markdown",
   "metadata": {},
   "source": [
    "Écrivez une petite fonction qui, à partir des activation de la dernière couche du réseau, produit un vecteur de 1 et de 0. Normalement il suffit de copier-coller quelque lignes de code et d'ajouter quelque chose à la fin. Attention, ici, contrairement à ce qu'on avait dans le MOOC, la dernière couche a 10 valeurs de sortie, et non pas une seule."
   ]
  },
  {
   "cell_type": "code",
   "execution_count": 40,
   "metadata": {
    "collapsed": true
   },
   "outputs": [],
   "source": [
    "def predict(X, W1, W2, b1, b2):\n",
    "        Z1 = np.add(np.dot(W1, X), b1)\n",
    "        A1 = np.tanh(Z1)\n",
    "        Z2 = np.add(np.dot(W2, A1), b2)\n",
    "        A2 = sigmoid(Z2)\n",
    "        return (np.array([0 if res < 0.5 else 1 for res in A2]))"
   ]
  },
  {
   "cell_type": "markdown",
   "metadata": {},
   "source": [
    "### Tester la performance sur un seul exemple\n",
    "Ici on génère un seul exemple (une série de 10 chiffres binaires), puis on fait prédire son inversion."
   ]
  },
  {
   "cell_type": "code",
   "execution_count": 65,
   "metadata": {},
   "outputs": [
    {
     "name": "stdout",
     "output_type": "stream",
     "text": [
      "X     = [[0 0 1 1 1 0 0 0 0 1]]\n",
      "Y     = [[1 1 0 0 0 1 1 1 1 0]]\n",
      "Ypred = [1 1 0 0 0 1 1 1 1 0]\n"
     ]
    }
   ],
   "source": [
    "\n",
    "X = np.random.binomial(1, 0.5, (n_in,1))\n",
    "print(\"X     =\", X.T)\n",
    "print(\"Y     =\", (X ^ 1).T)\n",
    "print(\"Ypred =\", predict(X, W1, W2, b1, b2).T)"
   ]
  },
  {
   "cell_type": "markdown",
   "metadata": {},
   "source": [
    "### Tester la performance sur une série d'exemples"
   ]
  },
  {
   "cell_type": "code",
   "execution_count": 66,
   "metadata": {},
   "outputs": [
    {
     "name": "stdout",
     "output_type": "stream",
     "text": [
      "[1.0, 1.0, 1.0, 1.0, 1.0, 1.0, 1.0, 1.0, 1.0, 1.0, 1.0, 1.0, 1.0, 1.0, 1.0, 1.0, 1.0, 1.0, 1.0, 1.0, 1.0, 1.0, 1.0, 1.0, 1.0, 1.0, 1.0, 1.0, 1.0, 1.0, 1.0, 1.0, 1.0, 1.0, 1.0, 1.0, 1.0, 1.0, 1.0, 1.0, 1.0, 1.0, 1.0, 1.0, 1.0, 1.0, 1.0, 1.0, 1.0, 1.0, 1.0, 1.0, 1.0, 1.0, 1.0, 1.0, 1.0, 1.0, 1.0, 1.0, 1.0, 1.0, 1.0, 1.0, 1.0, 1.0, 1.0, 1.0, 1.0, 1.0, 1.0, 1.0, 1.0, 0.91666666666666674, 1.0, 1.0, 1.0, 1.0, 1.0, 1.0, 1.0, 1.0, 1.0, 1.0, 1.0, 1.0, 1.0, 1.0, 1.0, 1.0, 1.0, 1.0, 1.0, 1.0, 1.0, 1.0, 1.0, 1.0, 1.0, 1.0]\n",
      "0.999166666667\n"
     ]
    }
   ],
   "source": [
    "from sklearn.metrics import roc_auc_score\n",
    "\n",
    "val_list = list()\n",
    "for _ in range (100) :\n",
    "    X = np.random.binomial(1, 0.5, (n_in, 1))\n",
    "    Y = (X ^ 1).T\n",
    "    val_list.append(roc_auc_score(Y.T, predict(X, W1, W2, b1, b2)))\n",
    "    \n",
    "print(val_list)\n",
    "print(np.mean(val_list))"
   ]
  },
  {
   "cell_type": "code",
   "execution_count": null,
   "metadata": {
    "collapsed": true
   },
   "outputs": [],
   "source": []
  },
  {
   "cell_type": "code",
   "execution_count": null,
   "metadata": {
    "collapsed": true
   },
   "outputs": [],
   "source": []
  },
  {
   "cell_type": "code",
   "execution_count": null,
   "metadata": {
    "collapsed": true
   },
   "outputs": [],
   "source": []
  }
 ],
 "metadata": {
  "kernelspec": {
   "display_name": "Python 3",
   "language": "python",
   "name": "python3"
  },
  "language_info": {
   "codemirror_mode": {
    "name": "ipython",
    "version": 3
   },
   "file_extension": ".py",
   "mimetype": "text/x-python",
   "name": "python",
   "nbconvert_exporter": "python",
   "pygments_lexer": "ipython3",
   "version": "3.6.3"
  }
 },
 "nbformat": 4,
 "nbformat_minor": 2
}

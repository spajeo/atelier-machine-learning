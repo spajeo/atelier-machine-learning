{
 "cells": [
  {
   "cell_type": "markdown",
   "metadata": {},
   "source": [
    "# Semaine 11 - Réseau de neurones de base"
   ]
  },
  {
   "cell_type": "markdown",
   "metadata": {},
   "source": [
    "Cette semaine nous allons écrire un réseau de neurones de base, que nous allons entraîner afin qu'il inverse des séquences de bits. Si vous réussissez à l'implémenter, vous pourrez ensuite vous amuser à l'utiliser sur d'autres types de données"
   ]
  },
  {
   "cell_type": "markdown",
   "metadata": {},
   "source": [
    "## Importations et initialisations de variables"
   ]
  },
  {
   "cell_type": "markdown",
   "metadata": {},
   "source": [
    "Nous n'allons utiliser que numpy pour cet exercice"
   ]
  },
  {
   "cell_type": "code",
   "execution_count": 1,
   "metadata": {
    "collapsed": true
   },
   "outputs": [],
   "source": [
    "import numpy as np"
   ]
  },
  {
   "cell_type": "markdown",
   "metadata": {},
   "source": [
    "Nous avons un réseau à deux couches (l'input ne comptant pas pour une couche). Nous allons utiliser 300 séquences de bits pour l'entraînement."
   ]
  },
  {
   "cell_type": "code",
   "execution_count": 121,
   "metadata": {
    "collapsed": true
   },
   "outputs": [],
   "source": [
    "# Nb de neurones sur chaque couche\n",
    "n_in = 10\n",
    "n_hidden = 100\n",
    "n_out = 10\n",
    "\n",
    "# Nb de 'training examples'\n",
    "m = 300"
   ]
  },
  {
   "cell_type": "code",
   "execution_count": 132,
   "metadata": {
    "collapsed": true
   },
   "outputs": [],
   "source": [
    "alpha = 0.1  # Learning rate\n",
    "epochs = 500  # nb iterations du gradient descent"
   ]
  },
  {
   "cell_type": "markdown",
   "metadata": {},
   "source": [
    "## Définition des fonctions d'activation"
   ]
  },
  {
   "cell_type": "markdown",
   "metadata": {},
   "source": [
    "Nous utiliserons la fonction tanh pour l'activation de la \"hidden layer\", et la sigmoïde pour la dernière couche. Implémentez-les si elle n'existent pas déjà dans numpy. Implémentez aussi la dérivée de l'une ou l'autre d'entre elles, le cas échéant.\n",
    "Attention! Les fonctions doivent pouvoir traiter des vecteurs ou des matrices en effectuant l'opération sur chaque élément de ces derniers."
   ]
  },
  {
   "cell_type": "code",
   "execution_count": 133,
   "metadata": {
    "collapsed": true
   },
   "outputs": [],
   "source": [
    "def sigmoid(x):\n",
    "    return 1 / (1 + np.exp(-x))"
   ]
  },
  {
   "cell_type": "code",
   "execution_count": 134,
   "metadata": {
    "collapsed": true
   },
   "outputs": [],
   "source": [
    "# Dérivée de tanh\n",
    "def tanh_prime(x):\n",
    "    return 1 - np.tanh(x)"
   ]
  },
  {
   "cell_type": "code",
   "execution_count": null,
   "metadata": {
    "collapsed": true
   },
   "outputs": [],
   "source": []
  },
  {
   "cell_type": "code",
   "execution_count": null,
   "metadata": {
    "collapsed": true
   },
   "outputs": [],
   "source": []
  },
  {
   "cell_type": "markdown",
   "metadata": {},
   "source": [
    "## Entraînement du réseau de neurones"
   ]
  },
  {
   "cell_type": "markdown",
   "metadata": {},
   "source": [
    "Nous allons écrire une fonction qui fait une activation puis une rétropropagation, puis renvoie l'erreur (loss) et le gradient (toutes ces variables qui commencent par d...). L'itération sur les 200 epochs se fera dans un deuxième temps."
   ]
  },
  {
   "cell_type": "code",
   "execution_count": 135,
   "metadata": {},
   "outputs": [],
   "source": [
    "def train(X, Y, W1, W2, b1, b2):\n",
    "    loss_history = []\n",
    "    \n",
    "    for epoch in range(epochs):\n",
    "        # Forward\n",
    "        Z1 = np.add(np.dot(W1, X), b1)\n",
    "        A1 = np.tanh(Z1)\n",
    "        Z2 = np.add(np.dot(W2, A1), b2)\n",
    "        A2 = sigmoid(Z2)\n",
    "        \n",
    "        # Backward\n",
    "        dZ2 = A2 - Y\n",
    "        dW2 = (1 / X.shape[1]) * np.dot(dZ2, A1.T)\n",
    "        db2 = (1 / X.shape[1]) * np.sum(dZ2, axis = 1, keepdims=True)\n",
    "        \n",
    "        dZ1 = np.multiply(np.dot(W2.T, dZ2), tanh_prime(Z1))\n",
    "        dW1 = (1 / X.shape[1]) * np.dot(dZ1, X.T)\n",
    "        db1 = (1 / X.shape[1]) * np.sum(dZ1, axis = 1, keepdims=True)    \n",
    "\n",
    "        # Parameter update (use the learning rate alpha here!)\n",
    "        W1 -= alpha * dW1\n",
    "        W2 -= alpha * dW2\n",
    "        b1 -= alpha * db1\n",
    "        b2 -= alpha * db2\n",
    "       \n",
    "    \n",
    "        # Compute loss\n",
    "        loss = np.mean(\n",
    "            -np.add(np.multiply(Y,np.log(A2)),\n",
    "            np.multiply(np.subtract(1, Y),np.log(np.subtract(1, A2)))))\n",
    "        \n",
    "        \n",
    "        loss_history.append(loss)\n",
    "        print(\"Epoch %d, Loss: %.8f\" % (epoch, loss))\n",
    "    \n",
    "    return loss_history, W1, W2, b1, b2"
   ]
  },
  {
   "cell_type": "markdown",
   "metadata": {},
   "source": [
    "### Initialisation des paramètres du réseau"
   ]
  },
  {
   "cell_type": "markdown",
   "metadata": {},
   "source": [
    "Attention, certains paramètres sont initalisés à zéro, d'autres non..."
   ]
  },
  {
   "cell_type": "code",
   "execution_count": 136,
   "metadata": {},
   "outputs": [],
   "source": [
    "W1 = np.random.randn(n_hidden, n_in) * 1\n",
    "W2 = np.random.randn(n_out, n_hidden) * 1\n",
    "b1 = np.zeros((n_hidden, 1))\n",
    "b2 = np.zeros((n_out, 1))"
   ]
  },
  {
   "cell_type": "markdown",
   "metadata": {},
   "source": [
    "## Génération des données d'entraînement"
   ]
  },
  {
   "cell_type": "markdown",
   "metadata": {},
   "source": [
    "Ici il s'agit créer 300 séries de 10 chiffres binaires (1 et 0) pour les X.\n",
    "Les Y seront ces mêmes séries, inversées."
   ]
  },
  {
   "cell_type": "code",
   "execution_count": 137,
   "metadata": {},
   "outputs": [
    {
     "name": "stdout",
     "output_type": "stream",
     "text": [
      "300\n"
     ]
    }
   ],
   "source": [
    "# Data generation\n",
    "X = np.random.binomial(1, 0.5, (n_in, m))\n",
    "print(X.shape[1])\n",
    "Y = X ^ 1"
   ]
  },
  {
   "cell_type": "markdown",
   "metadata": {},
   "source": [
    "## Lancer l'entraînement du réseau"
   ]
  },
  {
   "cell_type": "code",
   "execution_count": 138,
   "metadata": {},
   "outputs": [
    {
     "name": "stdout",
     "output_type": "stream",
     "text": [
      "Epoch 0, Loss: 3.30605637\n",
      "Epoch 1, Loss: 2.40134993\n",
      "Epoch 2, Loss: 1.81490883\n",
      "Epoch 3, Loss: 1.44235143\n",
      "Epoch 4, Loss: 1.12633563\n",
      "Epoch 5, Loss: 0.93651439\n",
      "Epoch 6, Loss: 0.76517558\n",
      "Epoch 7, Loss: 0.67129419\n",
      "Epoch 8, Loss: 0.55192318\n",
      "Epoch 9, Loss: 0.48520807\n",
      "Epoch 10, Loss: 0.40774756\n",
      "Epoch 11, Loss: 0.35832723\n",
      "Epoch 12, Loss: 0.31792595\n",
      "Epoch 13, Loss: 0.28680075\n",
      "Epoch 14, Loss: 0.26361497\n",
      "Epoch 15, Loss: 0.24354392\n",
      "Epoch 16, Loss: 0.22743355\n",
      "Epoch 17, Loss: 0.21322118\n",
      "Epoch 18, Loss: 0.20108172\n",
      "Epoch 19, Loss: 0.19034529\n",
      "Epoch 20, Loss: 0.18087864\n",
      "Epoch 21, Loss: 0.17242179\n",
      "Epoch 22, Loss: 0.16482784\n",
      "Epoch 23, Loss: 0.15795932\n",
      "Epoch 24, Loss: 0.15171171\n",
      "Epoch 25, Loss: 0.14599816\n",
      "Epoch 26, Loss: 0.14074769\n",
      "Epoch 27, Loss: 0.13590125\n",
      "Epoch 28, Loss: 0.13140941\n",
      "Epoch 29, Loss: 0.12723057\n",
      "Epoch 30, Loss: 0.12332947\n",
      "Epoch 31, Loss: 0.11967620\n",
      "Epoch 32, Loss: 0.11624527\n",
      "Epoch 33, Loss: 0.11301486\n",
      "Epoch 34, Loss: 0.10996629\n",
      "Epoch 35, Loss: 0.10708344\n",
      "Epoch 36, Loss: 0.10435236\n",
      "Epoch 37, Loss: 0.10176089\n",
      "Epoch 38, Loss: 0.09929834\n",
      "Epoch 39, Loss: 0.09695529\n",
      "Epoch 40, Loss: 0.09472333\n",
      "Epoch 41, Loss: 0.09259493\n",
      "Epoch 42, Loss: 0.09056327\n",
      "Epoch 43, Loss: 0.08862214\n",
      "Epoch 44, Loss: 0.08676588\n",
      "Epoch 45, Loss: 0.08498925\n",
      "Epoch 46, Loss: 0.08328742\n",
      "Epoch 47, Loss: 0.08165591\n",
      "Epoch 48, Loss: 0.08009054\n",
      "Epoch 49, Loss: 0.07858742\n",
      "Epoch 50, Loss: 0.07714290\n",
      "Epoch 51, Loss: 0.07575356\n",
      "Epoch 52, Loss: 0.07441620\n",
      "Epoch 53, Loss: 0.07312784\n",
      "Epoch 54, Loss: 0.07188564\n",
      "Epoch 55, Loss: 0.07068698\n",
      "Epoch 56, Loss: 0.06952936\n",
      "Epoch 57, Loss: 0.06841047\n",
      "Epoch 58, Loss: 0.06732814\n",
      "Epoch 59, Loss: 0.06628032\n",
      "Epoch 60, Loss: 0.06526510\n",
      "Epoch 61, Loss: 0.06428071\n",
      "Epoch 62, Loss: 0.06332547\n",
      "Epoch 63, Loss: 0.06239783\n",
      "Epoch 64, Loss: 0.06149635\n",
      "Epoch 65, Loss: 0.06061967\n",
      "Epoch 66, Loss: 0.05976654\n",
      "Epoch 67, Loss: 0.05893579\n",
      "Epoch 68, Loss: 0.05812635\n",
      "Epoch 69, Loss: 0.05733720\n",
      "Epoch 70, Loss: 0.05656742\n",
      "Epoch 71, Loss: 0.05581614\n",
      "Epoch 72, Loss: 0.05508257\n",
      "Epoch 73, Loss: 0.05436597\n",
      "Epoch 74, Loss: 0.05366565\n",
      "Epoch 75, Loss: 0.05298099\n",
      "Epoch 76, Loss: 0.05231139\n",
      "Epoch 77, Loss: 0.05165633\n",
      "Epoch 78, Loss: 0.05101529\n",
      "Epoch 79, Loss: 0.05038781\n",
      "Epoch 80, Loss: 0.04977347\n",
      "Epoch 81, Loss: 0.04917186\n",
      "Epoch 82, Loss: 0.04858261\n",
      "Epoch 83, Loss: 0.04800537\n",
      "Epoch 84, Loss: 0.04743982\n",
      "Epoch 85, Loss: 0.04688566\n",
      "Epoch 86, Loss: 0.04634260\n",
      "Epoch 87, Loss: 0.04581038\n",
      "Epoch 88, Loss: 0.04528874\n",
      "Epoch 89, Loss: 0.04477745\n",
      "Epoch 90, Loss: 0.04427627\n",
      "Epoch 91, Loss: 0.04378498\n",
      "Epoch 92, Loss: 0.04330338\n",
      "Epoch 93, Loss: 0.04283127\n",
      "Epoch 94, Loss: 0.04236844\n",
      "Epoch 95, Loss: 0.04191471\n",
      "Epoch 96, Loss: 0.04146989\n",
      "Epoch 97, Loss: 0.04103380\n",
      "Epoch 98, Loss: 0.04060626\n",
      "Epoch 99, Loss: 0.04018709\n",
      "Epoch 100, Loss: 0.03977613\n",
      "Epoch 101, Loss: 0.03937319\n",
      "Epoch 102, Loss: 0.03897812\n",
      "Epoch 103, Loss: 0.03859074\n",
      "Epoch 104, Loss: 0.03821089\n",
      "Epoch 105, Loss: 0.03783841\n",
      "Epoch 106, Loss: 0.03747312\n",
      "Epoch 107, Loss: 0.03711489\n",
      "Epoch 108, Loss: 0.03676353\n",
      "Epoch 109, Loss: 0.03641891\n",
      "Epoch 110, Loss: 0.03608086\n",
      "Epoch 111, Loss: 0.03574924\n",
      "Epoch 112, Loss: 0.03542389\n",
      "Epoch 113, Loss: 0.03510466\n",
      "Epoch 114, Loss: 0.03479142\n",
      "Epoch 115, Loss: 0.03448401\n",
      "Epoch 116, Loss: 0.03418230\n",
      "Epoch 117, Loss: 0.03388614\n",
      "Epoch 118, Loss: 0.03359542\n",
      "Epoch 119, Loss: 0.03330999\n",
      "Epoch 120, Loss: 0.03302972\n",
      "Epoch 121, Loss: 0.03275449\n",
      "Epoch 122, Loss: 0.03248418\n",
      "Epoch 123, Loss: 0.03221866\n",
      "Epoch 124, Loss: 0.03195782\n",
      "Epoch 125, Loss: 0.03170154\n",
      "Epoch 126, Loss: 0.03144971\n",
      "Epoch 127, Loss: 0.03120223\n",
      "Epoch 128, Loss: 0.03095899\n",
      "Epoch 129, Loss: 0.03071988\n",
      "Epoch 130, Loss: 0.03048480\n",
      "Epoch 131, Loss: 0.03025367\n",
      "Epoch 132, Loss: 0.03002638\n",
      "Epoch 133, Loss: 0.02980284\n",
      "Epoch 134, Loss: 0.02958296\n",
      "Epoch 135, Loss: 0.02936666\n",
      "Epoch 136, Loss: 0.02915385\n",
      "Epoch 137, Loss: 0.02894446\n",
      "Epoch 138, Loss: 0.02873839\n",
      "Epoch 139, Loss: 0.02853558\n",
      "Epoch 140, Loss: 0.02833596\n",
      "Epoch 141, Loss: 0.02813944\n",
      "Epoch 142, Loss: 0.02794595\n",
      "Epoch 143, Loss: 0.02775544\n",
      "Epoch 144, Loss: 0.02756783\n",
      "Epoch 145, Loss: 0.02738306\n",
      "Epoch 146, Loss: 0.02720107\n",
      "Epoch 147, Loss: 0.02702179\n",
      "Epoch 148, Loss: 0.02684518\n",
      "Epoch 149, Loss: 0.02667116\n",
      "Epoch 150, Loss: 0.02649969\n",
      "Epoch 151, Loss: 0.02633071\n",
      "Epoch 152, Loss: 0.02616417\n",
      "Epoch 153, Loss: 0.02600002\n",
      "Epoch 154, Loss: 0.02583821\n",
      "Epoch 155, Loss: 0.02567869\n",
      "Epoch 156, Loss: 0.02552142\n",
      "Epoch 157, Loss: 0.02536634\n",
      "Epoch 158, Loss: 0.02521343\n",
      "Epoch 159, Loss: 0.02506263\n",
      "Epoch 160, Loss: 0.02491390\n",
      "Epoch 161, Loss: 0.02476720\n",
      "Epoch 162, Loss: 0.02462250\n",
      "Epoch 163, Loss: 0.02447975\n",
      "Epoch 164, Loss: 0.02433893\n",
      "Epoch 165, Loss: 0.02419998\n",
      "Epoch 166, Loss: 0.02406288\n",
      "Epoch 167, Loss: 0.02392760\n",
      "Epoch 168, Loss: 0.02379409\n",
      "Epoch 169, Loss: 0.02366234\n",
      "Epoch 170, Loss: 0.02353230\n",
      "Epoch 171, Loss: 0.02340395\n",
      "Epoch 172, Loss: 0.02327725\n",
      "Epoch 173, Loss: 0.02315218\n",
      "Epoch 174, Loss: 0.02302871\n",
      "Epoch 175, Loss: 0.02290682\n",
      "Epoch 176, Loss: 0.02278647\n",
      "Epoch 177, Loss: 0.02266763\n",
      "Epoch 178, Loss: 0.02255029\n",
      "Epoch 179, Loss: 0.02243442\n",
      "Epoch 180, Loss: 0.02232000\n",
      "Epoch 181, Loss: 0.02220700\n",
      "Epoch 182, Loss: 0.02209539\n",
      "Epoch 183, Loss: 0.02198516\n",
      "Epoch 184, Loss: 0.02187629\n",
      "Epoch 185, Loss: 0.02176874\n",
      "Epoch 186, Loss: 0.02166251\n",
      "Epoch 187, Loss: 0.02155758\n",
      "Epoch 188, Loss: 0.02145391\n",
      "Epoch 189, Loss: 0.02135149\n",
      "Epoch 190, Loss: 0.02125031\n",
      "Epoch 191, Loss: 0.02115035\n",
      "Epoch 192, Loss: 0.02105158\n",
      "Epoch 193, Loss: 0.02095399\n",
      "Epoch 194, Loss: 0.02085757\n",
      "Epoch 195, Loss: 0.02076229\n",
      "Epoch 196, Loss: 0.02066814\n",
      "Epoch 197, Loss: 0.02057510\n",
      "Epoch 198, Loss: 0.02048316\n",
      "Epoch 199, Loss: 0.02039230\n",
      "Epoch 200, Loss: 0.02030251\n",
      "Epoch 201, Loss: 0.02021377\n",
      "Epoch 202, Loss: 0.02012607\n",
      "Epoch 203, Loss: 0.02003939\n",
      "Epoch 204, Loss: 0.01995372\n",
      "Epoch 205, Loss: 0.01986905\n",
      "Epoch 206, Loss: 0.01978535\n",
      "Epoch 207, Loss: 0.01970263\n",
      "Epoch 208, Loss: 0.01962087\n",
      "Epoch 209, Loss: 0.01954005\n",
      "Epoch 210, Loss: 0.01946016\n",
      "Epoch 211, Loss: 0.01938119\n",
      "Epoch 212, Loss: 0.01930313\n",
      "Epoch 213, Loss: 0.01922596\n",
      "Epoch 214, Loss: 0.01914968\n",
      "Epoch 215, Loss: 0.01907427\n",
      "Epoch 216, Loss: 0.01899972\n",
      "Epoch 217, Loss: 0.01892603\n",
      "Epoch 218, Loss: 0.01885317\n",
      "Epoch 219, Loss: 0.01878114\n",
      "Epoch 220, Loss: 0.01870994\n",
      "Epoch 221, Loss: 0.01863954\n",
      "Epoch 222, Loss: 0.01856994\n",
      "Epoch 223, Loss: 0.01850113\n",
      "Epoch 224, Loss: 0.01843309\n",
      "Epoch 225, Loss: 0.01836583\n",
      "Epoch 226, Loss: 0.01829932\n",
      "Epoch 227, Loss: 0.01823357\n",
      "Epoch 228, Loss: 0.01816855\n",
      "Epoch 229, Loss: 0.01810427\n",
      "Epoch 230, Loss: 0.01804071\n",
      "Epoch 231, Loss: 0.01797786\n",
      "Epoch 232, Loss: 0.01791571\n",
      "Epoch 233, Loss: 0.01785426\n",
      "Epoch 234, Loss: 0.01779349\n",
      "Epoch 235, Loss: 0.01773341\n",
      "Epoch 236, Loss: 0.01767399\n",
      "Epoch 237, Loss: 0.01761523\n",
      "Epoch 238, Loss: 0.01755712\n",
      "Epoch 239, Loss: 0.01749966\n",
      "Epoch 240, Loss: 0.01744283\n",
      "Epoch 241, Loss: 0.01738663\n",
      "Epoch 242, Loss: 0.01733105\n",
      "Epoch 243, Loss: 0.01727608\n",
      "Epoch 244, Loss: 0.01722171\n",
      "Epoch 245, Loss: 0.01716793\n",
      "Epoch 246, Loss: 0.01711475\n",
      "Epoch 247, Loss: 0.01706214\n",
      "Epoch 248, Loss: 0.01701010\n",
      "Epoch 249, Loss: 0.01695863\n",
      "Epoch 250, Loss: 0.01690772\n",
      "Epoch 251, Loss: 0.01685735\n",
      "Epoch 252, Loss: 0.01680752\n",
      "Epoch 253, Loss: 0.01675823\n",
      "Epoch 254, Loss: 0.01670946\n",
      "Epoch 255, Loss: 0.01666121\n",
      "Epoch 256, Loss: 0.01661348\n",
      "Epoch 257, Loss: 0.01656625\n",
      "Epoch 258, Loss: 0.01651951\n",
      "Epoch 259, Loss: 0.01647327\n",
      "Epoch 260, Loss: 0.01642751\n",
      "Epoch 261, Loss: 0.01638222\n",
      "Epoch 262, Loss: 0.01633741\n",
      "Epoch 263, Loss: 0.01629305\n",
      "Epoch 264, Loss: 0.01624916\n",
      "Epoch 265, Loss: 0.01620571\n",
      "Epoch 266, Loss: 0.01616270\n",
      "Epoch 267, Loss: 0.01612013\n",
      "Epoch 268, Loss: 0.01607799\n",
      "Epoch 269, Loss: 0.01603627\n",
      "Epoch 270, Loss: 0.01599496\n",
      "Epoch 271, Loss: 0.01595407\n",
      "Epoch 272, Loss: 0.01591357\n",
      "Epoch 273, Loss: 0.01587348\n",
      "Epoch 274, Loss: 0.01583377\n",
      "Epoch 275, Loss: 0.01579445\n",
      "Epoch 276, Loss: 0.01575551\n",
      "Epoch 277, Loss: 0.01571694\n",
      "Epoch 278, Loss: 0.01567874\n",
      "Epoch 279, Loss: 0.01564090\n",
      "Epoch 280, Loss: 0.01560341\n",
      "Epoch 281, Loss: 0.01556627\n",
      "Epoch 282, Loss: 0.01552947\n",
      "Epoch 283, Loss: 0.01549302\n",
      "Epoch 284, Loss: 0.01545689\n",
      "Epoch 285, Loss: 0.01542109\n",
      "Epoch 286, Loss: 0.01538561\n",
      "Epoch 287, Loss: 0.01535045\n",
      "Epoch 288, Loss: 0.01531560\n",
      "Epoch 289, Loss: 0.01528105\n",
      "Epoch 290, Loss: 0.01524680\n",
      "Epoch 291, Loss: 0.01521285\n",
      "Epoch 292, Loss: 0.01517919\n",
      "Epoch 293, Loss: 0.01514582\n",
      "Epoch 294, Loss: 0.01511272\n",
      "Epoch 295, Loss: 0.01507990\n",
      "Epoch 296, Loss: 0.01504735\n",
      "Epoch 297, Loss: 0.01501507\n",
      "Epoch 298, Loss: 0.01498306\n",
      "Epoch 299, Loss: 0.01495130\n",
      "Epoch 300, Loss: 0.01491979\n",
      "Epoch 301, Loss: 0.01488853\n",
      "Epoch 302, Loss: 0.01485752\n",
      "Epoch 303, Loss: 0.01482675\n",
      "Epoch 304, Loss: 0.01479621\n",
      "Epoch 305, Loss: 0.01476591\n",
      "Epoch 306, Loss: 0.01473584\n"
     ]
    },
    {
     "name": "stdout",
     "output_type": "stream",
     "text": [
      "Epoch 307, Loss: 0.01470599\n",
      "Epoch 308, Loss: 0.01467637\n",
      "Epoch 309, Loss: 0.01464696\n",
      "Epoch 310, Loss: 0.01461777\n",
      "Epoch 311, Loss: 0.01458879\n",
      "Epoch 312, Loss: 0.01456001\n",
      "Epoch 313, Loss: 0.01453145\n",
      "Epoch 314, Loss: 0.01450308\n",
      "Epoch 315, Loss: 0.01447491\n",
      "Epoch 316, Loss: 0.01444693\n",
      "Epoch 317, Loss: 0.01441915\n",
      "Epoch 318, Loss: 0.01439155\n",
      "Epoch 319, Loss: 0.01436414\n",
      "Epoch 320, Loss: 0.01433691\n",
      "Epoch 321, Loss: 0.01430987\n",
      "Epoch 322, Loss: 0.01428300\n",
      "Epoch 323, Loss: 0.01425630\n",
      "Epoch 324, Loss: 0.01422978\n",
      "Epoch 325, Loss: 0.01420343\n",
      "Epoch 326, Loss: 0.01417724\n",
      "Epoch 327, Loss: 0.01415122\n",
      "Epoch 328, Loss: 0.01412536\n",
      "Epoch 329, Loss: 0.01409967\n",
      "Epoch 330, Loss: 0.01407412\n",
      "Epoch 331, Loss: 0.01404874\n",
      "Epoch 332, Loss: 0.01402351\n",
      "Epoch 333, Loss: 0.01399843\n",
      "Epoch 334, Loss: 0.01397350\n",
      "Epoch 335, Loss: 0.01394871\n",
      "Epoch 336, Loss: 0.01392407\n",
      "Epoch 337, Loss: 0.01389958\n",
      "Epoch 338, Loss: 0.01387523\n",
      "Epoch 339, Loss: 0.01385101\n",
      "Epoch 340, Loss: 0.01382694\n",
      "Epoch 341, Loss: 0.01380300\n",
      "Epoch 342, Loss: 0.01377919\n",
      "Epoch 343, Loss: 0.01375552\n",
      "Epoch 344, Loss: 0.01373198\n",
      "Epoch 345, Loss: 0.01370857\n",
      "Epoch 346, Loss: 0.01368529\n",
      "Epoch 347, Loss: 0.01366213\n",
      "Epoch 348, Loss: 0.01363910\n",
      "Epoch 349, Loss: 0.01361620\n",
      "Epoch 350, Loss: 0.01359341\n",
      "Epoch 351, Loss: 0.01357075\n",
      "Epoch 352, Loss: 0.01354821\n",
      "Epoch 353, Loss: 0.01352578\n",
      "Epoch 354, Loss: 0.01350347\n",
      "Epoch 355, Loss: 0.01348128\n",
      "Epoch 356, Loss: 0.01345920\n",
      "Epoch 357, Loss: 0.01343723\n",
      "Epoch 358, Loss: 0.01341538\n",
      "Epoch 359, Loss: 0.01339363\n",
      "Epoch 360, Loss: 0.01337200\n",
      "Epoch 361, Loss: 0.01335047\n",
      "Epoch 362, Loss: 0.01332906\n",
      "Epoch 363, Loss: 0.01330774\n",
      "Epoch 364, Loss: 0.01328654\n",
      "Epoch 365, Loss: 0.01326543\n",
      "Epoch 366, Loss: 0.01324443\n",
      "Epoch 367, Loss: 0.01322353\n",
      "Epoch 368, Loss: 0.01320273\n",
      "Epoch 369, Loss: 0.01318203\n",
      "Epoch 370, Loss: 0.01316143\n",
      "Epoch 371, Loss: 0.01314093\n",
      "Epoch 372, Loss: 0.01312052\n",
      "Epoch 373, Loss: 0.01310021\n",
      "Epoch 374, Loss: 0.01308000\n",
      "Epoch 375, Loss: 0.01305987\n",
      "Epoch 376, Loss: 0.01303984\n",
      "Epoch 377, Loss: 0.01301990\n",
      "Epoch 378, Loss: 0.01300006\n",
      "Epoch 379, Loss: 0.01298030\n",
      "Epoch 380, Loss: 0.01296063\n",
      "Epoch 381, Loss: 0.01294105\n",
      "Epoch 382, Loss: 0.01292156\n",
      "Epoch 383, Loss: 0.01290215\n",
      "Epoch 384, Loss: 0.01288283\n",
      "Epoch 385, Loss: 0.01286359\n",
      "Epoch 386, Loss: 0.01284444\n",
      "Epoch 387, Loss: 0.01282537\n",
      "Epoch 388, Loss: 0.01280638\n",
      "Epoch 389, Loss: 0.01278747\n",
      "Epoch 390, Loss: 0.01276864\n",
      "Epoch 391, Loss: 0.01274989\n",
      "Epoch 392, Loss: 0.01273122\n",
      "Epoch 393, Loss: 0.01271263\n",
      "Epoch 394, Loss: 0.01269411\n",
      "Epoch 395, Loss: 0.01267567\n",
      "Epoch 396, Loss: 0.01265731\n",
      "Epoch 397, Loss: 0.01263902\n",
      "Epoch 398, Loss: 0.01262080\n",
      "Epoch 399, Loss: 0.01260266\n",
      "Epoch 400, Loss: 0.01258459\n",
      "Epoch 401, Loss: 0.01256659\n",
      "Epoch 402, Loss: 0.01254866\n",
      "Epoch 403, Loss: 0.01253080\n",
      "Epoch 404, Loss: 0.01251300\n",
      "Epoch 405, Loss: 0.01249528\n",
      "Epoch 406, Loss: 0.01247762\n",
      "Epoch 407, Loss: 0.01246003\n",
      "Epoch 408, Loss: 0.01244251\n",
      "Epoch 409, Loss: 0.01242505\n",
      "Epoch 410, Loss: 0.01240765\n",
      "Epoch 411, Loss: 0.01239032\n",
      "Epoch 412, Loss: 0.01237305\n",
      "Epoch 413, Loss: 0.01235584\n",
      "Epoch 414, Loss: 0.01233869\n",
      "Epoch 415, Loss: 0.01232160\n",
      "Epoch 416, Loss: 0.01230457\n",
      "Epoch 417, Loss: 0.01228761\n",
      "Epoch 418, Loss: 0.01227069\n",
      "Epoch 419, Loss: 0.01225384\n",
      "Epoch 420, Loss: 0.01223704\n",
      "Epoch 421, Loss: 0.01222030\n",
      "Epoch 422, Loss: 0.01220361\n",
      "Epoch 423, Loss: 0.01218698\n",
      "Epoch 424, Loss: 0.01217040\n",
      "Epoch 425, Loss: 0.01215388\n",
      "Epoch 426, Loss: 0.01213740\n",
      "Epoch 427, Loss: 0.01212098\n",
      "Epoch 428, Loss: 0.01210461\n",
      "Epoch 429, Loss: 0.01208829\n",
      "Epoch 430, Loss: 0.01207202\n",
      "Epoch 431, Loss: 0.01205579\n",
      "Epoch 432, Loss: 0.01203962\n",
      "Epoch 433, Loss: 0.01202349\n",
      "Epoch 434, Loss: 0.01200741\n",
      "Epoch 435, Loss: 0.01199137\n",
      "Epoch 436, Loss: 0.01197538\n",
      "Epoch 437, Loss: 0.01195943\n",
      "Epoch 438, Loss: 0.01194353\n",
      "Epoch 439, Loss: 0.01192767\n",
      "Epoch 440, Loss: 0.01191185\n",
      "Epoch 441, Loss: 0.01189608\n",
      "Epoch 442, Loss: 0.01188035\n",
      "Epoch 443, Loss: 0.01186465\n",
      "Epoch 444, Loss: 0.01184900\n",
      "Epoch 445, Loss: 0.01183339\n",
      "Epoch 446, Loss: 0.01181781\n",
      "Epoch 447, Loss: 0.01180227\n",
      "Epoch 448, Loss: 0.01178677\n",
      "Epoch 449, Loss: 0.01177131\n",
      "Epoch 450, Loss: 0.01175588\n",
      "Epoch 451, Loss: 0.01174049\n",
      "Epoch 452, Loss: 0.01172514\n",
      "Epoch 453, Loss: 0.01170981\n",
      "Epoch 454, Loss: 0.01169452\n",
      "Epoch 455, Loss: 0.01167927\n",
      "Epoch 456, Loss: 0.01166405\n",
      "Epoch 457, Loss: 0.01164886\n",
      "Epoch 458, Loss: 0.01163370\n",
      "Epoch 459, Loss: 0.01161857\n",
      "Epoch 460, Loss: 0.01160347\n",
      "Epoch 461, Loss: 0.01158841\n",
      "Epoch 462, Loss: 0.01157337\n",
      "Epoch 463, Loss: 0.01155836\n",
      "Epoch 464, Loss: 0.01154338\n",
      "Epoch 465, Loss: 0.01152842\n",
      "Epoch 466, Loss: 0.01151350\n",
      "Epoch 467, Loss: 0.01149860\n",
      "Epoch 468, Loss: 0.01148373\n",
      "Epoch 469, Loss: 0.01146888\n",
      "Epoch 470, Loss: 0.01145406\n",
      "Epoch 471, Loss: 0.01143926\n",
      "Epoch 472, Loss: 0.01142449\n",
      "Epoch 473, Loss: 0.01140974\n",
      "Epoch 474, Loss: 0.01139501\n",
      "Epoch 475, Loss: 0.01138031\n",
      "Epoch 476, Loss: 0.01136563\n",
      "Epoch 477, Loss: 0.01135097\n",
      "Epoch 478, Loss: 0.01133634\n",
      "Epoch 479, Loss: 0.01132172\n",
      "Epoch 480, Loss: 0.01130713\n",
      "Epoch 481, Loss: 0.01129255\n",
      "Epoch 482, Loss: 0.01127800\n",
      "Epoch 483, Loss: 0.01126346\n",
      "Epoch 484, Loss: 0.01124895\n",
      "Epoch 485, Loss: 0.01123445\n",
      "Epoch 486, Loss: 0.01121997\n",
      "Epoch 487, Loss: 0.01120551\n",
      "Epoch 488, Loss: 0.01119107\n",
      "Epoch 489, Loss: 0.01117665\n",
      "Epoch 490, Loss: 0.01116224\n",
      "Epoch 491, Loss: 0.01114785\n",
      "Epoch 492, Loss: 0.01113347\n",
      "Epoch 493, Loss: 0.01111912\n",
      "Epoch 494, Loss: 0.01110477\n",
      "Epoch 495, Loss: 0.01109045\n",
      "Epoch 496, Loss: 0.01107613\n",
      "Epoch 497, Loss: 0.01106184\n",
      "Epoch 498, Loss: 0.01104755\n",
      "Epoch 499, Loss: 0.01103328\n"
     ]
    }
   ],
   "source": [
    "loss_history, W1, W2, b1, b2 = train(X, Y, W1, W2, b1, b2)"
   ]
  },
  {
   "cell_type": "markdown",
   "metadata": {},
   "source": [
    "### Visualiser la décroissance de l'erreur sur un graphe (optionnel)"
   ]
  },
  {
   "cell_type": "code",
   "execution_count": 139,
   "metadata": {},
   "outputs": [
    {
     "data": {
      "text/plain": [
       "0.011033283577594113"
      ]
     },
     "execution_count": 139,
     "metadata": {},
     "output_type": "execute_result"
    },
    {
     "data": {
      "image/png": "[encoded data removed]",
      "text/plain": [
       "<matplotlib.figure.Figure at 0x11af02ac8>"
      ]
     },
     "metadata": {},
     "output_type": "display_data"
    }
   ],
   "source": [
    "%matplotlib inline  \n",
    "from matplotlib import pyplot as plt\n",
    "\n",
    "plt.plot(loss_history)\n",
    "loss_history[-1]"
   ]
  },
  {
   "cell_type": "markdown",
   "metadata": {},
   "source": [
    "## Évaluation du réseau de neurones"
   ]
  },
  {
   "cell_type": "markdown",
   "metadata": {},
   "source": [
    "Écrivez une petite fonction qui, à partir des activation de la dernière couche du réseau, produit un vecteur de 1 et de 0. Normalement il suffit de copier-coller quelque lignes de code et d'ajouter quelque chose à la fin. Attention, ici, contrairement à ce qu'on avait dans le MOOC, la dernière couche a 10 valeurs de sortie, et non pas une seule."
   ]
  },
  {
   "cell_type": "code",
   "execution_count": 140,
   "metadata": {},
   "outputs": [],
   "source": [
    "def predict(X, W1, W2, b1, b2):\n",
    "        Z1 = np.add(np.dot(W1, X), b1)\n",
    "        A1 = np.tanh(Z1)\n",
    "        Z2 = np.add(np.dot(W2, A1), b2)\n",
    "        A2 = sigmoid(Z2)\n",
    "        return (np.array([0 if res < 0.5 else 1 for res in A2]))\n",
    "    \n",
    "# ret = predict(X, W1, W2, b1, b2)\n",
    "# print()\n",
    "\n",
    "# ret\n",
    "    \n"
   ]
  },
  {
   "cell_type": "markdown",
   "metadata": {},
   "source": [
    "### Tester la performance sur un seul exemple\n",
    "Ici on génère un seul exemple (une série de 10 chiffres binaires), puis on fait prédire son inversion."
   ]
  },
  {
   "cell_type": "code",
   "execution_count": 131,
   "metadata": {},
   "outputs": [
    {
     "name": "stdout",
     "output_type": "stream",
     "text": [
      "[[0 1 0 0 1 0 0 1 1 1]]\n",
      "[1 0 1 1 0 1 1 0 0 0]\n"
     ]
    }
   ],
   "source": [
    "X = np.random.binomial(1, 0.5, (n_in,1))\n",
    "print(X.T)\n",
    "print(predict(X, W1, W2, b1, b2).T)"
   ]
  },
  {
   "cell_type": "markdown",
   "metadata": {},
   "source": [
    "### Tester la performance sur une série d'exemples"
   ]
  },
  {
   "cell_type": "code",
   "execution_count": null,
   "metadata": {
    "collapsed": true
   },
   "outputs": [],
   "source": []
  },
  {
   "cell_type": "code",
   "execution_count": null,
   "metadata": {
    "collapsed": true
   },
   "outputs": [],
   "source": []
  },
  {
   "cell_type": "code",
   "execution_count": null,
   "metadata": {
    "collapsed": true
   },
   "outputs": [],
   "source": []
  },
  {
   "cell_type": "code",
   "execution_count": null,
   "metadata": {
    "collapsed": true
   },
   "outputs": [],
   "source": []
  },
  {
   "cell_type": "code",
   "execution_count": null,
   "metadata": {
    "collapsed": true
   },
   "outputs": [],
   "source": []
  },
  {
   "cell_type": "code",
   "execution_count": null,
   "metadata": {
    "collapsed": true
   },
   "outputs": [],
   "source": []
  },
  {
   "cell_type": "code",
   "execution_count": null,
   "metadata": {
    "collapsed": true
   },
   "outputs": [],
   "source": []
  },
  {
   "cell_type": "code",
   "execution_count": null,
   "metadata": {
    "collapsed": true
   },
   "outputs": [],
   "source": []
  },
  {
   "cell_type": "code",
   "execution_count": null,
   "metadata": {
    "collapsed": true
   },
   "outputs": [],
   "source": []
  },
  {
   "cell_type": "code",
   "execution_count": null,
   "metadata": {
    "collapsed": true
   },
   "outputs": [],
   "source": []
  },
  {
   "cell_type": "code",
   "execution_count": null,
   "metadata": {
    "collapsed": true
   },
   "outputs": [],
   "source": []
  },
  {
   "cell_type": "code",
   "execution_count": null,
   "metadata": {
    "collapsed": true
   },
   "outputs": [],
   "source": []
  },
  {
   "cell_type": "code",
   "execution_count": null,
   "metadata": {
    "collapsed": true
   },
   "outputs": [],
   "source": []
  }
 ],
 "metadata": {
  "kernelspec": {
   "display_name": "Python 3",
   "language": "python",
   "name": "python3"
  },
  "language_info": {
   "codemirror_mode": {
    "name": "ipython",
    "version": 3
   },
   "file_extension": ".py",
   "mimetype": "text/x-python",
   "name": "python",
   "nbconvert_exporter": "python",
   "pygments_lexer": "ipython3",
   "version": "3.6.3"
  }
 },
 "nbformat": 4,
 "nbformat_minor": 2
}

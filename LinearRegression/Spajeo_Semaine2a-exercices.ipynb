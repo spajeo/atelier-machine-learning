{
 "cells": [
  {
   "cell_type": "markdown",
   "metadata": {},
   "source": [
    "# Régression linéaire à une variable - Exercices tirés du MOOC d'Andrew Ng"
   ]
  },
  {
   "cell_type": "markdown",
   "metadata": {},
   "source": [
    "## Chargement des données"
   ]
  },
  {
   "cell_type": "markdown",
   "metadata": {},
   "source": [
    "### Charger les données du fichier ex1data1.csv"
   ]
  },
  {
   "cell_type": "code",
   "execution_count": 1,
   "metadata": {
    "collapsed": true
   },
   "outputs": [],
   "source": [
    "import numpy as np\n",
    "import pandas as pd"
   ]
  },
  {
   "cell_type": "code",
   "execution_count": 2,
   "metadata": {
    "collapsed": true
   },
   "outputs": [],
   "source": [
    "data = pd.read_csv(\"ex1data1.csv\")"
   ]
  },
  {
   "cell_type": "markdown",
   "metadata": {},
   "source": [
    "### Visualiser les données"
   ]
  },
  {
   "cell_type": "code",
   "execution_count": 4,
   "metadata": {},
   "outputs": [
    {
     "data": {
      "text/plain": [
       "<matplotlib.axes._subplots.AxesSubplot at 0x118797b70>"
      ]
     },
     "execution_count": 4,
     "metadata": {},
     "output_type": "execute_result"
    },
    {
     "data": {
      "image/png": "[encoded data removed]",
      "text/plain": [
       "<matplotlib.figure.Figure at 0x1187974e0>"
      ]
     },
     "metadata": {},
     "output_type": "display_data"
    }
   ],
   "source": [
    "data.plot.scatter('population', 'profit')"
   ]
  },
  {
   "cell_type": "markdown",
   "metadata": {},
   "source": [
    "### Découpez vos données en deux vecteurs X et y et transformerz-les en array numpy"
   ]
  },
  {
   "cell_type": "markdown",
   "metadata": {},
   "source": [
    "Note: Les colonnes d'un Dataframe peuvent être sélectionnées par leur nom, de la même manière que dans un dictionnaire"
   ]
  },
  {
   "cell_type": "code",
   "execution_count": 25,
   "metadata": {},
   "outputs": [
    {
     "name": "stdout",
     "output_type": "stream",
     "text": [
      "[ 6.1101  5.5277  8.5186  7.0032  5.8598  8.3829  7.4764  8.5781  6.4862\n",
      "  5.0546  5.7107 14.164   5.734   8.4084  5.6407  5.3794  6.3654  5.1301\n",
      "  6.4296  7.0708  6.1891 20.27    5.4901  6.3261  5.5649 18.945  12.828\n",
      " 10.957  13.176  22.203   5.2524  6.5894  9.2482  5.8918  8.2111  7.9334\n",
      "  8.0959  5.6063 12.836   6.3534  5.4069  6.8825 11.708   5.7737  7.8247\n",
      "  7.0931  5.0702  5.8014 11.7     5.5416  7.5402  5.3077  7.4239  7.6031\n",
      "  6.3328  6.3589  6.2742  5.6397  9.3102  9.4536  8.8254  5.1793 21.279\n",
      " 14.908  18.959   7.2182  8.2951 10.236   5.4994 20.341  10.136   7.3345\n",
      "  6.0062  7.2259  5.0269  6.5479  7.5386  5.0365 10.274   5.1077  5.7292\n",
      "  5.1884  6.3557  9.7687  6.5159  8.5172  9.1802  6.002   5.5204  5.0594\n",
      "  5.7077  7.6366  5.8707  5.3054  8.2934 13.394   5.4369]\n",
      "[17.592    9.1302  13.662   11.854    6.8233  11.886    4.3483  12.\n",
      "  6.5987   3.8166   3.2522  15.505    3.1551   7.2258   0.71618  3.5129\n",
      "  5.3048   0.56077  3.6518   5.3893   3.1386  21.767    4.263    5.1875\n",
      "  3.0825  22.638   13.501    7.0467  14.692   24.147   -1.22     5.9966\n",
      " 12.134    1.8495   6.5426   4.5623   4.1164   3.3928  10.117    5.4974\n",
      "  0.55657  3.9115   5.3854   2.4406   6.7318   1.0463   5.1337   1.844\n",
      "  8.0043   1.0179   6.7504   1.8396   4.2885   4.9981   1.4233  -1.4211\n",
      "  2.4756   4.6042   3.9624   5.4141   5.1694  -0.74279 17.929   12.054\n",
      " 17.054    4.8852   5.7442   7.7754   1.0173  20.992    6.6799   4.0259\n",
      "  1.2784   3.3411  -2.6807   0.29678  3.8845   5.7014   6.7526   2.0576\n",
      "  0.47953  0.20421  0.67861  7.5435   5.3436   4.2415   6.7981   0.92695\n",
      "  0.152    2.8214   1.8451   4.2959   7.2029   1.9869   0.14454  9.0551\n",
      "  0.61705]\n"
     ]
    }
   ],
   "source": [
    "X = np.array(data['population'])\n",
    "y = np.array(data['profit'])\n",
    "print (X)\n",
    "print (y)"
   ]
  },
  {
   "cell_type": "markdown",
   "metadata": {},
   "source": [
    "## Calcul d'une première prédiction"
   ]
  },
  {
   "cell_type": "markdown",
   "metadata": {},
   "source": [
    "### Initialisez theta en un vecteur de deux valeurs à zéro"
   ]
  },
  {
   "cell_type": "code",
   "execution_count": 50,
   "metadata": {
    "collapsed": true
   },
   "outputs": [],
   "source": [
    "theta = np.array([0,0], dtype=float)"
   ]
  },
  {
   "cell_type": "markdown",
   "metadata": {},
   "source": [
    "### Écrivez une fonction _predict_ qui prend en argument une population (x) ainsi que les parametres theta et prédit le profit (y) associé"
   ]
  },
  {
   "cell_type": "code",
   "execution_count": 51,
   "metadata": {
    "collapsed": true
   },
   "outputs": [],
   "source": [
    "def predict(X, theta):\n",
    "    return(theta[1]*X + theta[0])   "
   ]
  },
  {
   "cell_type": "markdown",
   "metadata": {},
   "source": [
    "### Écrivez une fonction _fit_ qui prend en arguments le vecteur X et le vecteur y des données d'entraînement et renvoie le vecteur de paramètres _theta_ qui a été appris"
   ]
  },
  {
   "cell_type": "code",
   "execution_count": 52,
   "metadata": {
    "collapsed": true
   },
   "outputs": [],
   "source": [
    "theta = np.array([0,0], dtype=float)\n",
    "\n",
    "def fit(X, y, theta, alpha, num_iters):\n",
    "    # Initialiser certaines variable utiles\n",
    "    m = X.shape[0]\n",
    "    \n",
    "    # Boucler sur le nombre d'itérations\n",
    "    for _ in range(num_iters):\n",
    "        # Effectuer une itération de descente du gradient (i.e. on update theta une fois)\n",
    "        tmp_0 = theta[0] - (alpha/m) * (np.sum(predict(X, theta) - y))\n",
    "        theta[1] = theta[1] - (alpha/m) * (np.sum((predict(X, theta) - y) * X))\n",
    "        theta[0] = tmp_0\n",
    "\n",
    "    return theta"
   ]
  },
  {
   "cell_type": "markdown",
   "metadata": {},
   "source": [
    "### Lancez l'apprentissage en appelant la fonction _fit_ et en prenant bien soin de récupérer le résultat de *theta* à la fin!! Vous devriez obtenir des valeurs autour de [-3.6303, 1.1664]"
   ]
  },
  {
   "cell_type": "markdown",
   "metadata": {},
   "source": [
    "Pour commencer, on fixera alpha à 0.01 et num_iters à 1500"
   ]
  },
  {
   "cell_type": "code",
   "execution_count": 53,
   "metadata": {},
   "outputs": [
    {
     "name": "stdout",
     "output_type": "stream",
     "text": [
      "[-3.63029144  1.16636235]\n"
     ]
    }
   ],
   "source": [
    "res = fit(X, y, theta, 0.01, 1500)\n",
    "print(res)"
   ]
  },
  {
   "cell_type": "markdown",
   "metadata": {},
   "source": [
    "## Visualiser la droite de régression"
   ]
  },
  {
   "cell_type": "markdown",
   "metadata": {},
   "source": [
    "### Voici une fonction pour visualiser votre droite de régression (cadeau!) Vous pourrez l'appeler plus loin dans l'exercice"
   ]
  },
  {
   "cell_type": "code",
   "execution_count": 54,
   "metadata": {
    "collapsed": true
   },
   "outputs": [],
   "source": [
    "import matplotlib.pyplot as plt\n",
    "\n",
    "def visualize(theta):\n",
    "    fig = plt.figure()\n",
    "    ax = plt.axes()\n",
    "    ax.set_xlim([4.5,22.5])\n",
    "    ax.set_ylim([-5, 25])\n",
    "    ax.scatter(X, y)\n",
    "    line_x = np.linspace(0,22.5, 20)\n",
    "    line_y = theta[0] + line_x * theta[1]\n",
    "    ax.plot(line_x, line_y)\n",
    "    plt.show()"
   ]
  },
  {
   "cell_type": "markdown",
   "metadata": {},
   "source": [
    "### Appelez la fonction pour visualiser la droite avec différentes valeurs de theta"
   ]
  },
  {
   "cell_type": "code",
   "execution_count": 55,
   "metadata": {},
   "outputs": [
    {
     "data": {
      "image/png": "[encoded data removed]",
      "text/plain": [
       "<matplotlib.figure.Figure at 0x118bc29e8>"
      ]
     },
     "metadata": {},
     "output_type": "display_data"
    }
   ],
   "source": [
    "visualize(theta)"
   ]
  },
  {
   "cell_type": "markdown",
   "metadata": {},
   "source": [
    "## Fonction de coût"
   ]
  },
  {
   "cell_type": "markdown",
   "metadata": {},
   "source": [
    "Maintenant voyons comment resserrer notre analyse de l'algorithme et calculons le coût (ou la perte, ou l'erreur) à chaque itération."
   ]
  },
  {
   "cell_type": "markdown",
   "metadata": {},
   "source": [
    "### Définissez la fonction de coût de votre modèle"
   ]
  },
  {
   "cell_type": "code",
   "execution_count": 61,
   "metadata": {
    "collapsed": true
   },
   "outputs": [],
   "source": [
    "def cost(X, y, theta):\n",
    "    return ((1/(2 * X.shape[0])) * (np.sum((predict(X, theta) - y)**2)))"
   ]
  },
  {
   "cell_type": "markdown",
   "metadata": {},
   "source": [
    "### Testez-la avec theta = [0,0]   Vous devriez obtenir environ 32.07"
   ]
  },
  {
   "cell_type": "code",
   "execution_count": 63,
   "metadata": {},
   "outputs": [
    {
     "data": {
      "text/plain": [
       "32.072733877455676"
      ]
     },
     "execution_count": 63,
     "metadata": {},
     "output_type": "execute_result"
    }
   ],
   "source": [
    "cost(X, y, [0,0])"
   ]
  },
  {
   "cell_type": "markdown",
   "metadata": {},
   "source": [
    "### Maintenant avec theta = [-1,2]. Vous devriez obtenir environ 54.24"
   ]
  },
  {
   "cell_type": "code",
   "execution_count": 64,
   "metadata": {},
   "outputs": [
    {
     "data": {
      "text/plain": [
       "54.24245508201238"
      ]
     },
     "execution_count": 64,
     "metadata": {},
     "output_type": "execute_result"
    }
   ],
   "source": [
    "cost(X, y, [-1,2])"
   ]
  },
  {
   "cell_type": "markdown",
   "metadata": {},
   "source": [
    "### Copiez le code de votre fonction _fit_ et ajoutez-y un appel à la fonction _cost_, à chaque itération. Vous stockerez vos résultats dans une liste nommée J_history, que vous retournerez avec *theta* à la fin de la fonction"
   ]
  },
  {
   "cell_type": "markdown",
   "metadata": {},
   "source": [
    "Et oui, en Python, une fonction peut retourner plus qu'une variable!!"
   ]
  },
  {
   "cell_type": "code",
   "execution_count": 65,
   "metadata": {
    "collapsed": true
   },
   "outputs": [],
   "source": [
    "def fit_with_cost(X, y, theta, alpha, num_iters):\n",
    "    J_history = []\n",
    "    m = X.shape[0]\n",
    "    \n",
    "    # Boucler sur le nombre d'itérations\n",
    "    for _ in range(num_iters):\n",
    "        # Effectuer une itération de descente du gradient (i.e. on update theta une fois)\n",
    "        tmp_0 = theta[0] - (alpha/m) * (np.sum(predict(X, theta) - y))\n",
    "        theta[1] = theta[1] - (alpha/m) * (np.sum((predict(X, theta) - y) * X))\n",
    "        theta[0] = tmp_0\n",
    "        J_history.append(cost(X,y,theta))\n",
    "\n",
    "    return theta, J_history"
   ]
  },
  {
   "cell_type": "markdown",
   "metadata": {},
   "source": [
    "### Appelez la fonction en récupérant les valeurs de theta et J_history"
   ]
  },
  {
   "cell_type": "code",
   "execution_count": 66,
   "metadata": {
    "collapsed": true
   },
   "outputs": [],
   "source": [
    "# D'abord on réinitialise theta à zéro\n",
    "theta = np.zeros(2)"
   ]
  },
  {
   "cell_type": "code",
   "execution_count": 69,
   "metadata": {},
   "outputs": [
    {
     "data": {
      "text/plain": [
       "[4.477005528408465,\n",
       " 4.4770054053933706,\n",
       " 4.477005282821371,\n",
       " 4.477005160690867,\n",
       " 4.47700503900027,\n",
       " 4.477004917747997,\n",
       " 4.477004796932467,\n",
       " 4.477004676552108,\n",
       " 4.477004556605352,\n",
       " 4.477004437090637,\n",
       " 4.477004318006406,\n",
       " 4.477004199351111,\n",
       " 4.477004081123205,\n",
       " 4.477003963321149,\n",
       " 4.477003845943409,\n",
       " 4.477003728988458,\n",
       " 4.47700361245477,\n",
       " 4.477003496340831,\n",
       " 4.477003380645129,\n",
       " 4.477003265366154,\n",
       " 4.477003150502409,\n",
       " 4.477003036052395,\n",
       " 4.4770029220146235,\n",
       " 4.477002808387611,\n",
       " 4.477002695169875,\n",
       " 4.477002582359943,\n",
       " 4.4770024699563455,\n",
       " 4.47700235795762,\n",
       " 4.477002246362306,\n",
       " 4.477002135168955,\n",
       " 4.477002024376113,\n",
       " 4.477001913982343,\n",
       " 4.4770018039862025,\n",
       " 4.477001694386264,\n",
       " 4.477001585181094,\n",
       " 4.47700147636928,\n",
       " 4.477001367949397,\n",
       " 4.477001259920036,\n",
       " 4.477001152279792,\n",
       " 4.477001045027261,\n",
       " 4.477000938161047,\n",
       " 4.477000831679759,\n",
       " 4.477000725582012,\n",
       " 4.477000619866422,\n",
       " 4.477000514531612,\n",
       " 4.477000409576214,\n",
       " 4.4770003049988585,\n",
       " 4.477000200798185,\n",
       " 4.477000096972836,\n",
       " 4.476999993521461]"
      ]
     },
     "execution_count": 69,
     "metadata": {},
     "output_type": "execute_result"
    }
   ],
   "source": [
    "# Lancez l'entraînement avec votre nouvelle fonction\n",
    "theta_fin, J_history_fin = fit_with_cost(X, y, theta, 0.01, 1500)\n",
    "J_history_fin[1450:]\n"
   ]
  },
  {
   "cell_type": "markdown",
   "metadata": {},
   "source": [
    "### On visualise maintenant l'évolution du coût en fonction du nombre d'itérations"
   ]
  },
  {
   "cell_type": "markdown",
   "metadata": {},
   "source": [
    "Vous pouvez voir si en modifiant les valeurs d'alpha et de num_iters, le graphique change d'allure"
   ]
  },
  {
   "cell_type": "code",
   "execution_count": 71,
   "metadata": {},
   "outputs": [
    {
     "data": {
      "text/plain": [
       "[<matplotlib.lines.Line2D at 0x118dbff60>]"
      ]
     },
     "execution_count": 71,
     "metadata": {},
     "output_type": "execute_result"
    },
    {
     "data": {
      "image/png": "[encoded data removed]",
      "text/plain": [
       "<matplotlib.figure.Figure at 0x118c06550>"
      ]
     },
     "metadata": {},
     "output_type": "display_data"
    }
   ],
   "source": [
    "fit = plt.figure()\n",
    "ax = plt.axes()\n",
    "ax.plot(J_history_fin)"
   ]
  },
  {
   "cell_type": "code",
   "execution_count": null,
   "metadata": {
    "collapsed": true
   },
   "outputs": [],
   "source": []
  }
 ],
 "metadata": {
  "kernelspec": {
   "display_name": "Python 3",
   "language": "python",
   "name": "python3"
  },
  "language_info": {
   "codemirror_mode": {
    "name": "ipython",
    "version": 3
   },
   "file_extension": ".py",
   "mimetype": "text/x-python",
   "name": "python",
   "nbconvert_exporter": "python",
   "pygments_lexer": "ipython3",
   "version": "3.6.3"
  }
 },
 "nbformat": 4,
 "nbformat_minor": 2
}

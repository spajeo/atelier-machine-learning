{
 "cells": [
  {
   "cell_type": "markdown",
   "metadata": {
    "colab_type": "text",
    "id": "rUi500CJa8EC"
   },
   "source": [
    "# Upper Confidence Bound Algorithm"
   ]
  },
  {
   "cell_type": "markdown",
   "metadata": {
    "colab_type": "text",
    "id": "w1AY6tnMa8EE"
   },
   "source": [
    "Importer les librairies numpy, matplotlib.pyplot, pandas, math"
   ]
  },
  {
   "cell_type": "code",
   "execution_count": 12,
   "metadata": {
    "colab": {
     "base_uri": "https://localhost:8080/",
     "height": 309
    },
    "colab_type": "code",
    "id": "gXatyKmxa8EE",
    "outputId": "eb28f624-d710-45fe-8ed0-40a348c093fd"
   },
   "outputs": [],
   "source": [
    "import numpy as np\n",
    "import pandas as pd\n",
    "import math\n",
    "import matplotlib.pyplot as plt\n",
    "# !wget 'https://www.dropbox.com/s/gpz2ekchbzb9wlb/Ads_CTR_Optimisation.csv?dl=0' -O Ads_CTR_Optimisation.csv"
   ]
  },
  {
   "cell_type": "markdown",
   "metadata": {
    "colab_type": "text",
    "id": "4QnRUCyya8EI"
   },
   "source": [
    "Importer le fichier 'Ads_CTR_Optimisation.csv'\n",
    "Afficher les 10 premieres lignes pour voir les donnees"
   ]
  },
  {
   "cell_type": "code",
   "execution_count": 13,
   "metadata": {
    "colab": {
     "base_uri": "https://localhost:8080/",
     "height": 514
    },
    "colab_type": "code",
    "id": "hyTK-pXoa8EI",
    "outputId": "c78fe326-c661-421b-982b-c1700c9b6f80"
   },
   "outputs": [
    {
     "data": {
      "text/html": [
       "<div>\n",
       "<style scoped>\n",
       "    .dataframe tbody tr th:only-of-type {\n",
       "        vertical-align: middle;\n",
       "    }\n",
       "\n",
       "    .dataframe tbody tr th {\n",
       "        vertical-align: top;\n",
       "    }\n",
       "\n",
       "    .dataframe thead th {\n",
       "        text-align: right;\n",
       "    }\n",
       "</style>\n",
       "<table border=\"1\" class=\"dataframe\">\n",
       "  <thead>\n",
       "    <tr style=\"text-align: right;\">\n",
       "      <th></th>\n",
       "      <th>Ad 1</th>\n",
       "      <th>Ad 2</th>\n",
       "      <th>Ad 3</th>\n",
       "      <th>Ad 4</th>\n",
       "      <th>Ad 5</th>\n",
       "      <th>Ad 6</th>\n",
       "      <th>Ad 7</th>\n",
       "      <th>Ad 8</th>\n",
       "      <th>Ad 9</th>\n",
       "      <th>Ad 10</th>\n",
       "    </tr>\n",
       "  </thead>\n",
       "  <tbody>\n",
       "    <tr>\n",
       "      <th>0</th>\n",
       "      <td>1</td>\n",
       "      <td>0</td>\n",
       "      <td>0</td>\n",
       "      <td>0</td>\n",
       "      <td>1</td>\n",
       "      <td>0</td>\n",
       "      <td>0</td>\n",
       "      <td>0</td>\n",
       "      <td>1</td>\n",
       "      <td>0</td>\n",
       "    </tr>\n",
       "    <tr>\n",
       "      <th>1</th>\n",
       "      <td>0</td>\n",
       "      <td>0</td>\n",
       "      <td>0</td>\n",
       "      <td>0</td>\n",
       "      <td>0</td>\n",
       "      <td>0</td>\n",
       "      <td>0</td>\n",
       "      <td>0</td>\n",
       "      <td>1</td>\n",
       "      <td>0</td>\n",
       "    </tr>\n",
       "    <tr>\n",
       "      <th>2</th>\n",
       "      <td>0</td>\n",
       "      <td>0</td>\n",
       "      <td>0</td>\n",
       "      <td>0</td>\n",
       "      <td>0</td>\n",
       "      <td>0</td>\n",
       "      <td>0</td>\n",
       "      <td>0</td>\n",
       "      <td>0</td>\n",
       "      <td>0</td>\n",
       "    </tr>\n",
       "    <tr>\n",
       "      <th>3</th>\n",
       "      <td>0</td>\n",
       "      <td>1</td>\n",
       "      <td>0</td>\n",
       "      <td>0</td>\n",
       "      <td>0</td>\n",
       "      <td>0</td>\n",
       "      <td>0</td>\n",
       "      <td>1</td>\n",
       "      <td>0</td>\n",
       "      <td>0</td>\n",
       "    </tr>\n",
       "    <tr>\n",
       "      <th>4</th>\n",
       "      <td>0</td>\n",
       "      <td>0</td>\n",
       "      <td>0</td>\n",
       "      <td>0</td>\n",
       "      <td>0</td>\n",
       "      <td>0</td>\n",
       "      <td>0</td>\n",
       "      <td>0</td>\n",
       "      <td>0</td>\n",
       "      <td>0</td>\n",
       "    </tr>\n",
       "    <tr>\n",
       "      <th>5</th>\n",
       "      <td>1</td>\n",
       "      <td>1</td>\n",
       "      <td>0</td>\n",
       "      <td>0</td>\n",
       "      <td>0</td>\n",
       "      <td>0</td>\n",
       "      <td>0</td>\n",
       "      <td>0</td>\n",
       "      <td>0</td>\n",
       "      <td>0</td>\n",
       "    </tr>\n",
       "    <tr>\n",
       "      <th>6</th>\n",
       "      <td>0</td>\n",
       "      <td>0</td>\n",
       "      <td>0</td>\n",
       "      <td>1</td>\n",
       "      <td>0</td>\n",
       "      <td>0</td>\n",
       "      <td>0</td>\n",
       "      <td>0</td>\n",
       "      <td>0</td>\n",
       "      <td>0</td>\n",
       "    </tr>\n",
       "    <tr>\n",
       "      <th>7</th>\n",
       "      <td>1</td>\n",
       "      <td>1</td>\n",
       "      <td>0</td>\n",
       "      <td>0</td>\n",
       "      <td>1</td>\n",
       "      <td>0</td>\n",
       "      <td>0</td>\n",
       "      <td>0</td>\n",
       "      <td>0</td>\n",
       "      <td>0</td>\n",
       "    </tr>\n",
       "    <tr>\n",
       "      <th>8</th>\n",
       "      <td>0</td>\n",
       "      <td>0</td>\n",
       "      <td>0</td>\n",
       "      <td>0</td>\n",
       "      <td>0</td>\n",
       "      <td>0</td>\n",
       "      <td>0</td>\n",
       "      <td>0</td>\n",
       "      <td>0</td>\n",
       "      <td>0</td>\n",
       "    </tr>\n",
       "    <tr>\n",
       "      <th>9</th>\n",
       "      <td>0</td>\n",
       "      <td>0</td>\n",
       "      <td>1</td>\n",
       "      <td>0</td>\n",
       "      <td>0</td>\n",
       "      <td>0</td>\n",
       "      <td>0</td>\n",
       "      <td>0</td>\n",
       "      <td>0</td>\n",
       "      <td>0</td>\n",
       "    </tr>\n",
       "    <tr>\n",
       "      <th>10</th>\n",
       "      <td>0</td>\n",
       "      <td>0</td>\n",
       "      <td>0</td>\n",
       "      <td>0</td>\n",
       "      <td>0</td>\n",
       "      <td>0</td>\n",
       "      <td>0</td>\n",
       "      <td>0</td>\n",
       "      <td>0</td>\n",
       "      <td>0</td>\n",
       "    </tr>\n",
       "    <tr>\n",
       "      <th>11</th>\n",
       "      <td>0</td>\n",
       "      <td>0</td>\n",
       "      <td>0</td>\n",
       "      <td>0</td>\n",
       "      <td>0</td>\n",
       "      <td>0</td>\n",
       "      <td>0</td>\n",
       "      <td>0</td>\n",
       "      <td>0</td>\n",
       "      <td>0</td>\n",
       "    </tr>\n",
       "    <tr>\n",
       "      <th>12</th>\n",
       "      <td>0</td>\n",
       "      <td>0</td>\n",
       "      <td>0</td>\n",
       "      <td>1</td>\n",
       "      <td>0</td>\n",
       "      <td>0</td>\n",
       "      <td>0</td>\n",
       "      <td>0</td>\n",
       "      <td>0</td>\n",
       "      <td>0</td>\n",
       "    </tr>\n",
       "    <tr>\n",
       "      <th>13</th>\n",
       "      <td>0</td>\n",
       "      <td>0</td>\n",
       "      <td>0</td>\n",
       "      <td>0</td>\n",
       "      <td>0</td>\n",
       "      <td>0</td>\n",
       "      <td>0</td>\n",
       "      <td>0</td>\n",
       "      <td>1</td>\n",
       "      <td>0</td>\n",
       "    </tr>\n",
       "    <tr>\n",
       "      <th>14</th>\n",
       "      <td>0</td>\n",
       "      <td>0</td>\n",
       "      <td>0</td>\n",
       "      <td>0</td>\n",
       "      <td>0</td>\n",
       "      <td>0</td>\n",
       "      <td>0</td>\n",
       "      <td>1</td>\n",
       "      <td>0</td>\n",
       "      <td>0</td>\n",
       "    </tr>\n",
       "  </tbody>\n",
       "</table>\n",
       "</div>"
      ],
      "text/plain": [
       "    Ad 1  Ad 2  Ad 3  Ad 4  Ad 5  Ad 6  Ad 7  Ad 8  Ad 9  Ad 10\n",
       "0      1     0     0     0     1     0     0     0     1      0\n",
       "1      0     0     0     0     0     0     0     0     1      0\n",
       "2      0     0     0     0     0     0     0     0     0      0\n",
       "3      0     1     0     0     0     0     0     1     0      0\n",
       "4      0     0     0     0     0     0     0     0     0      0\n",
       "5      1     1     0     0     0     0     0     0     0      0\n",
       "6      0     0     0     1     0     0     0     0     0      0\n",
       "7      1     1     0     0     1     0     0     0     0      0\n",
       "8      0     0     0     0     0     0     0     0     0      0\n",
       "9      0     0     1     0     0     0     0     0     0      0\n",
       "10     0     0     0     0     0     0     0     0     0      0\n",
       "11     0     0     0     0     0     0     0     0     0      0\n",
       "12     0     0     0     1     0     0     0     0     0      0\n",
       "13     0     0     0     0     0     0     0     0     1      0\n",
       "14     0     0     0     0     0     0     0     1     0      0"
      ]
     },
     "execution_count": 13,
     "metadata": {},
     "output_type": "execute_result"
    }
   ],
   "source": [
    "df = pd.read_csv('Ads_CTR_Optimisation.csv')\n",
    "df.head(15)\n",
    "\n",
    "# Simulateur de comportement utilisateur.\n",
    "# Ce tableau indique si oui ou non un client cliquerait sur un site\n"
   ]
  },
  {
   "cell_type": "markdown",
   "metadata": {
    "colab_type": "text",
    "id": "_dddgujla8EO"
   },
   "source": [
    " Initialisez les variables necessaires : \n",
    " N (nombre d'iterations egale le nombre de lignes dans le dataset), \n",
    " number_ads (nombre de publicites a afficher = nombre de colonnes)"
   ]
  },
  {
   "cell_type": "code",
   "execution_count": 14,
   "metadata": {
    "colab": {
     "base_uri": "https://localhost:8080/",
     "height": 34
    },
    "colab_type": "code",
    "id": "LthZszaSa8EP",
    "outputId": "347d8b2c-d5f6-48d9-eb60-c5ab648fb10d"
   },
   "outputs": [
    {
     "data": {
      "text/plain": [
       "(10000, 10)"
      ]
     },
     "execution_count": 14,
     "metadata": {},
     "output_type": "execute_result"
    }
   ],
   "source": [
    "N = df.shape[0]\n",
    "number_ads = df.shape[1]\n",
    "N, number_ads"
   ]
  },
  {
   "cell_type": "markdown",
   "metadata": {
    "colab_type": "text",
    "id": "qq6hHnd5a8ER"
   },
   "source": [
    "Initialisez les 4 tableaux d'entiers pour stocker les resultats d'affichage (nombre d'affichage pour chaque publicite, nombre de clicks pour chaque publicite, le taux de clicks pour chaque publicite, le ucb pour chaque publicite)\n",
    "Toutes les valeurs initialisez a zero, sauf delta qui devrait etre initialisee a 1e400 ."
   ]
  },
  {
   "cell_type": "code",
   "execution_count": 15,
   "metadata": {
    "colab": {},
    "colab_type": "code",
    "id": "LeTLA6f_a8ES"
   },
   "outputs": [],
   "source": [
    "# col = df.columns.values\n",
    "# number_of_display = np.full((number_ads), 1e400)\n",
    "# number_of_clicks = np.full((number_ads), 1e400)\n",
    "# taux_de_click = np.full((number_ads), 1e400)\n",
    "# ucb = np.full((number_ads), 1e400)\n",
    "\n",
    "number_of_display = [0.1] * number_ads\n",
    "number_of_clicks = [0.1] * number_ads\n",
    "taux_de_click = [0.1] * number_ads\n",
    "ucb = [1e400] * number_ads\n",
    "\n",
    "# number_of_display,number_of_clicks,taux_de_click, ucb"
   ]
  },
  {
   "cell_type": "markdown",
   "metadata": {
    "colab_type": "text",
    "id": "TFdf7ujHa8EU"
   },
   "source": [
    "On initialise une liste pour sauvegarder l'historique des actions "
   ]
  },
  {
   "cell_type": "code",
   "execution_count": 16,
   "metadata": {
    "colab": {},
    "colab_type": "code",
    "id": "kmE9CDWxa8EV"
   },
   "outputs": [],
   "source": [
    "display_history = []"
   ]
  },
  {
   "cell_type": "markdown",
   "metadata": {
    "colab_type": "text",
    "id": "3CWhKe1fa8EY"
   },
   "source": [
    "Definissez une fonction qui calcule le taux de click pour chaque publicite. \n",
    "Il faut diviser le nombre de fois ou publicite a ete clickee par le nombre de fois qu'elle a ete affichee. Attention a la division par zero !!!"
   ]
  },
  {
   "cell_type": "code",
   "execution_count": 17,
   "metadata": {
    "colab": {},
    "colab_type": "code",
    "id": "s8OM27QKa8EY"
   },
   "outputs": [],
   "source": [
    "# def calcul_taux_de_click (n):\n",
    "#   return np.divide(number_of_clicks, number_of_display)\n",
    "def calcul_taux_de_click(ad_index):\n",
    "    if number_of_display[ad_index] > 0:\n",
    "        return (number_of_clicks[ad_index] / number_of_display[ad_index])"
   ]
  },
  {
   "cell_type": "markdown",
   "metadata": {
    "colab_type": "text",
    "id": "CEQJ_VbOa8Eb"
   },
   "source": [
    "Definissez une fonction qui verifie si la publicite affichee a ete clike ou pas. Elle va  chercher dans le dataset la valeur 0 ou 1 suivant le numero d'internaute et le numero de la publicite affichee. Vous pouvez utiliser une methode values(raw. column) de l'objet dataset."
   ]
  },
  {
   "cell_type": "code",
   "execution_count": 18,
   "metadata": {
    "colab": {},
    "colab_type": "code",
    "id": "yWPcdK3Da8Ec"
   },
   "outputs": [],
   "source": [
    "def get_result_from_file(row, column):\n",
    "    return (df.values[row, column])"
   ]
  },
  {
   "cell_type": "markdown",
   "metadata": {
    "colab_type": "text",
    "id": "d98zX_FEa8Ee"
   },
   "source": [
    "Definissez une fonction qui calcule l'intervalle de confiance (DELTA). La formule magique est dans le cours, mais c'est aussi une racine carree du :\n",
    "    logarithme de N divise par le nombre de fois que la publicite a ete affichee. \n",
    "    coeficient 3/2\n",
    "Attention a la division par zero et au log de zero !!!\n",
    "Vous pouvez ajouter + 1 par exemple\n"
   ]
  },
  {
   "cell_type": "code",
   "execution_count": 19,
   "metadata": {
    "colab": {},
    "colab_type": "code",
    "id": "ohyiEIFda8Eg"
   },
   "outputs": [],
   "source": [
    "def calcul_delta (n, ad_index):\n",
    "    delta = math.sqrt(3/2 * math.log(n + 1) / number_of_display[ad_index])\n",
    "    return delta"
   ]
  },
  {
   "cell_type": "markdown",
   "metadata": {
    "colab_type": "text",
    "id": "aKKgipwsa8Ei"
   },
   "source": [
    "La derniere fonction : calculer le UCB pour une publicite donnee. Ceci est vraiment simple. C'est la valeur maximale de taux de clicks qu'on peut avoir, tenant compte de l'interval de confiance. (somme de taux de clics plus delta)"
   ]
  },
  {
   "cell_type": "code",
   "execution_count": 20,
   "metadata": {
    "colab": {},
    "colab_type": "code",
    "id": "ttDIcAW6a8Ei"
   },
   "outputs": [],
   "source": [
    "def calcul_UCB (n, ad_index):\n",
    "    if number_of_display[ad_index] > 0 :\n",
    "        return (taux_de_click[ad_index] + calcul_delta (n, ad_index))\n",
    "    else:\n",
    "        return 1e400"
   ]
  },
  {
   "cell_type": "markdown",
   "metadata": {
    "colab_type": "text",
    "id": "635EQYi_a8El"
   },
   "source": [
    "Ecrivez le corps de l'algorithme, tel que vu en atelier.\n",
    "A la fin de chaque iteration ajoutez le code suivant\n",
    "    if iteration % 1000 == 0 :\n",
    "        display_history.append(number_of_display.copy())\n",
    "Ceci va permettre d'enregistrer l'historique de modification de comportement de l'algorithme tous les 1000 iterations."
   ]
  },
  {
   "cell_type": "code",
   "execution_count": 21,
   "metadata": {
    "colab": {
     "base_uri": "https://localhost:8080/",
     "height": 207
    },
    "colab_type": "code",
    "id": "okCOoZj2a8El",
    "outputId": "9b607839-8c76-4a7c-ce30-64ffd1b59d1c"
   },
   "outputs": [
    {
     "name": "stdout",
     "output_type": "stream",
     "text": [
      "appending  [97.1, 87.1, 68.1, 76.1, 233.1, 52.1, 76.1, 168.1, 83.1, 60.1]\n",
      "appending  [160.1, 164.1, 111.1, 119.1, 728.1, 77.1, 136.1, 285.1, 128.1, 92.1]\n",
      "appending  [237.1, 237.1, 127.1, 176.1, 1266.1, 91.1, 167.1, 437.1, 150.1, 112.1]\n",
      "appending  [315.1, 287.1, 139.1, 190.1, 1893.1, 102.1, 246.1, 527.1, 167.1, 134.1]\n",
      "appending  [330.1, 310.1, 155.1, 203.1, 2732.1, 108.1, 276.1, 553.1, 193.1, 140.1]\n",
      "appending  [482.1, 338.1, 178.1, 218.1, 3254.1, 119.1, 308.1, 729.1, 222.1, 152.1]\n",
      "appending  [562.1, 395.1, 214.1, 230.1, 3869.1, 128.1, 338.1, 818.1, 283.1, 163.1]\n",
      "appending  [633.1, 410.1, 238.1, 248.1, 4548.1, 134.1, 357.1, 965.1, 292.1, 175.1]\n",
      "appending  [652.1, 448.1, 254.1, 269.1, 5370.1, 138.1, 368.1, 1018.1, 298.1, 185.1]\n",
      "appending  [682.1, 460.1, 259.1, 313.1, 6214.1, 142.1, 375.1, 1056.1, 309.1, 190.1]\n"
     ]
    }
   ],
   "source": [
    "col = df.columns.values\n",
    "\n",
    "# pour chaque iteration je cherche la meilleure publicite a afficher\n",
    "\n",
    "\n",
    "for n in range(0, N):\n",
    "    best_ucb = 0\n",
    "    best_ad = 0\n",
    "    # pour chaque publicite (action possible) je compare le ucb, et je garde index du meilleur ucb\n",
    "    for ad_index in range(0, number_ads):\n",
    "        \n",
    "        # mettre a jour le tableau avec les taux de clicks\n",
    "        taux_de_click[ad_index] = calcul_taux_de_click(ad_index)\n",
    "        \n",
    "        # mettre a jour le UCB pour chaque publicite\n",
    "        ucb[ad_index] = calcul_UCB(n, ad_index)\n",
    "        \n",
    "        # trouver le meilleur ucb et la publicite a afficher\n",
    "        if best_ucb < ucb[ad_index]:\n",
    "            best_ucb = ucb[ad_index]\n",
    "            best_ad = ad_index\n",
    "\n",
    "    \n",
    "    # verifier le resultat d'affichage de la publicite dans le fichier de simulation\n",
    "    result = get_result_from_file(n, best_ad)\n",
    "    \n",
    "    # mettre a jour le tableau d'affichages\n",
    "    number_of_display[best_ad] = number_of_display[best_ad] + 1 \n",
    "\n",
    "    # mettre a jour le tableau de clicks\n",
    "    number_of_clicks[best_ad] = number_of_clicks[best_ad] + result\n",
    "    \n",
    "    # ici memoriser historique des choix de l'algorithme apres chaque 1000 iterations\n",
    "    if (n + 1) % 1000 == 0 :\n",
    "        print(\"appending \", number_of_display)\n",
    "        display_history.append(number_of_display.copy())"
   ]
  },
  {
   "cell_type": "markdown",
   "metadata": {
    "colab_type": "text",
    "id": "39Eut4i_a8Ep"
   },
   "source": [
    "# Visualisations"
   ]
  },
  {
   "cell_type": "markdown",
   "metadata": {
    "colab_type": "text",
    "id": "JgBV12dra8Ep"
   },
   "source": [
    "Felicitations ! Maintenant vous pouvez visualiser les resultats"
   ]
  },
  {
   "cell_type": "code",
   "execution_count": 22,
   "metadata": {
    "colab": {
     "base_uri": "https://localhost:8080/",
     "height": 34
    },
    "colab_type": "code",
    "id": "5jLY9v3Ra8Er",
    "outputId": "aceb7cfa-8379-4404-8a47-8e4d021c94eb"
   },
   "outputs": [
    {
     "data": {
      "text/plain": [
       "[682.1, 460.1, 259.1, 313.1, 6214.1, 142.1, 375.1, 1056.1, 309.1, 190.1]"
      ]
     },
     "execution_count": 22,
     "metadata": {},
     "output_type": "execute_result"
    }
   ],
   "source": [
    "number_of_display"
   ]
  },
  {
   "cell_type": "code",
   "execution_count": 23,
   "metadata": {
    "colab": {
     "base_uri": "https://localhost:8080/",
     "height": 376
    },
    "colab_type": "code",
    "id": "dUmYCksHa8Eu",
    "outputId": "367d1568-4a6b-4875-a070-2c0d2773f8cc"
   },
   "outputs": [
    {
     "data": {
      "image/png": "[encoded data removed]",
      "text/plain": [
       "<Figure size 432x288 with 1 Axes>"
      ]
     },
     "metadata": {},
     "output_type": "display_data"
    }
   ],
   "source": [
    "plt.bar(range(10), number_of_display)\n",
    "plt.title('Visualisation des affichages')\n",
    "plt.xlabel('Ads Index')\n",
    "plt.ylabel('Number of times each ad was displayed')\n",
    "plt.show()"
   ]
  },
  {
   "cell_type": "code",
   "execution_count": 53,
   "metadata": {
    "colab": {
     "base_uri": "https://localhost:8080/",
     "height": 34
    },
    "colab_type": "code",
    "id": "900Zd6Gva8Ey",
    "outputId": "8701ffab-902d-47c7-dfa8-3c2963de6637"
   },
   "outputs": [
    {
     "data": {
      "text/plain": [
       "[116.1, 64.1, 21.1, 32.1, 1662.1, 0.1, 45.1, 209.1, 31.1, 8.1]"
      ]
     },
     "execution_count": 53,
     "metadata": {
      "tags": []
     },
     "output_type": "execute_result"
    }
   ],
   "source": [
    "number_of_clicks"
   ]
  },
  {
   "cell_type": "code",
   "execution_count": 54,
   "metadata": {
    "colab": {
     "base_uri": "https://localhost:8080/",
     "height": 34
    },
    "colab_type": "code",
    "id": "0OHtZHL2a8E1",
    "outputId": "f2f5bf4f-05a2-4f21-b40c-b191ec896eed"
   },
   "outputs": [
    {
     "data": {
      "text/plain": [
       "2188.9999999999995"
      ]
     },
     "execution_count": 54,
     "metadata": {
      "tags": []
     },
     "output_type": "execute_result"
    }
   ],
   "source": [
    "total_clicks = sum(number_of_clicks)\n",
    "total_clicks"
   ]
  },
  {
   "cell_type": "code",
   "execution_count": 55,
   "metadata": {
    "colab": {
     "base_uri": "https://localhost:8080/",
     "height": 376
    },
    "colab_type": "code",
    "id": "_qAKBJJma8E4",
    "outputId": "25500a5c-2a4d-47a3-d4f6-899221db286f"
   },
   "outputs": [
    {
     "data": {
      "image/png": "[encoded data removed]",
      "text/plain": [
       "<matplotlib.figure.Figure at 0x7ff85b2f7a90>"
      ]
     },
     "metadata": {
      "tags": []
     },
     "output_type": "display_data"
    }
   ],
   "source": [
    "plt.bar(range(10), number_of_clicks)\n",
    "plt.title('Visualisation des  clicks')\n",
    "plt.xlabel('Ads Index')\n",
    "plt.ylabel('Number of times each ad was clicked')\n",
    "plt.show()"
   ]
  },
  {
   "cell_type": "code",
   "execution_count": 56,
   "metadata": {
    "colab": {
     "base_uri": "https://localhost:8080/",
     "height": 376
    },
    "colab_type": "code",
    "id": "PNsykT2ta8E7",
    "outputId": "8053f007-2f36-42af-89a0-e372d70b3421"
   },
   "outputs": [
    {
     "data": {
      "image/png": "[encoded data removed]",
      "text/plain": [
       "<matplotlib.figure.Figure at 0x7ff85b308cf8>"
      ]
     },
     "metadata": {
      "tags": []
     },
     "output_type": "display_data"
    }
   ],
   "source": [
    "plt.plot(number_of_display, color=\"blue\")\n",
    "plt.plot(number_of_clicks, color=\"red\")\n",
    "plt.title('Visualisation des affichages et de clicks')\n",
    "plt.xlabel('Ads Index')\n",
    "plt.ylabel('Number of times each ad was displayed or clicked')\n",
    "plt.show()"
   ]
  },
  {
   "cell_type": "code",
   "execution_count": 57,
   "metadata": {
    "colab": {
     "base_uri": "https://localhost:8080/",
     "height": 34
    },
    "colab_type": "code",
    "id": "or9_KHNJa8FA",
    "outputId": "525b5b1d-9a05-4d87-f23a-c3d75759b950"
   },
   "outputs": [
    {
     "data": {
      "text/plain": [
       "2188.9999999999995"
      ]
     },
     "execution_count": 57,
     "metadata": {
      "tags": []
     },
     "output_type": "execute_result"
    }
   ],
   "source": [
    "total_clicks"
   ]
  },
  {
   "cell_type": "code",
   "execution_count": 58,
   "metadata": {
    "colab": {
     "base_uri": "https://localhost:8080/",
     "height": 187
    },
    "colab_type": "code",
    "id": "GKaI4-HUa8FE",
    "outputId": "ee6ca16c-97c3-4008-e3ab-e93c1f217504"
   },
   "outputs": [
    {
     "data": {
      "text/plain": [
       "[[97.1, 87.1, 68.1, 76.1, 233.1, 52.1, 76.1, 168.1, 83.1, 60.1],\n",
       " [160.1, 164.1, 111.1, 119.1, 728.1, 77.1, 136.1, 285.1, 128.1, 92.1],\n",
       " [237.1, 237.1, 127.1, 176.1, 1266.1, 91.1, 167.1, 437.1, 150.1, 112.1],\n",
       " [315.1, 287.1, 139.1, 190.1, 1893.1, 102.1, 246.1, 527.1, 167.1, 134.1],\n",
       " [330.1, 310.1, 155.1, 203.1, 2732.1, 108.1, 276.1, 553.1, 193.1, 140.1],\n",
       " [482.1, 338.1, 178.1, 218.1, 3254.1, 119.1, 308.1, 729.1, 222.1, 152.1],\n",
       " [562.1, 395.1, 214.1, 230.1, 3869.1, 128.1, 338.1, 818.1, 283.1, 163.1],\n",
       " [633.1, 410.1, 238.1, 248.1, 4548.1, 134.1, 357.1, 965.1, 292.1, 175.1],\n",
       " [652.1, 448.1, 254.1, 269.1, 5370.1, 138.1, 368.1, 1018.1, 298.1, 185.1],\n",
       " [682.1, 460.1, 259.1, 313.1, 6214.1, 142.1, 375.1, 1056.1, 309.1, 190.1]]"
      ]
     },
     "execution_count": 58,
     "metadata": {
      "tags": []
     },
     "output_type": "execute_result"
    }
   ],
   "source": [
    "display_history"
   ]
  },
  {
   "cell_type": "code",
   "execution_count": 59,
   "metadata": {
    "colab": {
     "base_uri": "https://localhost:8080/",
     "height": 347
    },
    "colab_type": "code",
    "id": "k7icfR_Ka8FG",
    "outputId": "5bd8517b-9fb2-4466-c41c-1864cefe4909"
   },
   "outputs": [
    {
     "data": {
      "image/png": "[encoded data removed]",
      "text/plain": [
       "<matplotlib.figure.Figure at 0x7ff85b283908>"
      ]
     },
     "metadata": {
      "tags": []
     },
     "output_type": "display_data"
    }
   ],
   "source": [
    "for i in range (0,10):\n",
    "    plt.plot(display_history[i])"
   ]
  },
  {
   "cell_type": "code",
   "execution_count": 0,
   "metadata": {
    "colab": {},
    "colab_type": "code",
    "id": "rRGjpYiIqMOW"
   },
   "outputs": [],
   "source": []
  }
 ],
 "metadata": {
  "colab": {
   "name": "exerciceUCB_Sujet.ipynb",
   "provenance": [],
   "version": "0.3.2"
  },
  "kernelspec": {
   "display_name": "Python 3",
   "language": "python",
   "name": "python3"
  },
  "language_info": {
   "codemirror_mode": {
    "name": "ipython",
    "version": 3
   },
   "file_extension": ".py",
   "mimetype": "text/x-python",
   "name": "python",
   "nbconvert_exporter": "python",
   "pygments_lexer": "ipython3",
   "version": "3.6.5"
  }
 },
 "nbformat": 4,
 "nbformat_minor": 1
}

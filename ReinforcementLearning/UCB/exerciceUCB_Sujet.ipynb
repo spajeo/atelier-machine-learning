{
  "nbformat": 4,
  "nbformat_minor": 0,
  "metadata": {
    "colab": {
      "name": "exerciceUCB-Sujet.ipynb",
      "version": "0.3.2",
      "views": {},
      "default_view": {},
      "provenance": []
    },
    "kernelspec": {
      "display_name": "Python 3",
      "language": "python",
      "name": "python3"
    }
  },
  "cells": [
    {
      "metadata": {
        "id": "rUi500CJa8EC",
        "colab_type": "text"
      },
      "cell_type": "markdown",
      "source": [
        "# Upper Confidence Bound Algorithm"
      ]
    },
    {
      "metadata": {
        "id": "w1AY6tnMa8EE",
        "colab_type": "text"
      },
      "cell_type": "markdown",
      "source": [
        "Importer les librairies numpy, matplotlib.pyplot, pandas, math"
      ]
    },
    {
      "metadata": {
        "id": "gXatyKmxa8EE",
        "colab_type": "code",
        "colab": {
          "autoexec": {
            "startup": false,
            "wait_interval": 0
          },
          "base_uri": "https://localhost:8080/",
          "height": 309
        },
        "outputId": "8e323727-81d4-4485-d999-b51389148e61",
        "executionInfo": {
          "status": "ok",
          "timestamp": 1526468337867,
          "user_tz": -120,
          "elapsed": 2296,
          "user": {
            "displayName": "Pierre Choffé",
            "photoUrl": "//lh6.googleusercontent.com/-en_0UMRtlcA/AAAAAAAAAAI/AAAAAAAAAt4/Muo-RJpwCmM/s50-c-k-no/photo.jpg",
            "userId": "114976289963220170204"
          }
        }
      },
      "cell_type": "code",
      "source": [
        "import numpy as np\n",
        "import pandas as pd\n",
        "import math\n",
        "import matplotlib.pyplot as plt\n",
        "!wget 'https://www.dropbox.com/s/gpz2ekchbzb9wlb/Ads_CTR_Optimisation.csv?dl=0' -O data.csv"
      ],
      "execution_count": 33,
      "outputs": [
        {
          "output_type": "stream",
          "text": [
            "--2018-05-16 10:58:56--  https://www.dropbox.com/s/gpz2ekchbzb9wlb/Ads_CTR_Optimisation.csv?dl=0\r\n",
            "Resolving www.dropbox.com (www.dropbox.com)... 162.125.1.1, 2620:100:601a:1::a27d:701\r\n",
            "Connecting to www.dropbox.com (www.dropbox.com)|162.125.1.1|:443... connected.\n",
            "HTTP request sent, awaiting response... 302 Found\n",
            "Location: https://dl.dropboxusercontent.com/content_link/QcFvneWKfcGSrFdbkWt2RR8hwTLw9VY1NRcvLIGBHDDkuAUPmf04l9cW6bhkhkpZ/file [following]\n",
            "--2018-05-16 10:58:57--  https://dl.dropboxusercontent.com/content_link/QcFvneWKfcGSrFdbkWt2RR8hwTLw9VY1NRcvLIGBHDDkuAUPmf04l9cW6bhkhkpZ/file\n",
            "Resolving dl.dropboxusercontent.com (dl.dropboxusercontent.com)... 162.125.1.6, 2620:100:6016:6::a27d:106\n",
            "Connecting to dl.dropboxusercontent.com (dl.dropboxusercontent.com)|162.125.1.6|:443... connected.\n",
            "HTTP request sent, awaiting response... 200 OK\n",
            "Length: 210050 (205K) [text/csv]\n",
            "Saving to: ‘data.csv’\n",
            "\n",
            "data.csv            100%[===================>] 205.13K  --.-KB/s    in 0.02s   \n",
            "\n",
            "2018-05-16 10:58:57 (8.48 MB/s) - ‘data.csv’ saved [210050/210050]\n",
            "\n"
          ],
          "name": "stdout"
        }
      ]
    },
    {
      "metadata": {
        "id": "4QnRUCyya8EI",
        "colab_type": "text"
      },
      "cell_type": "markdown",
      "source": [
        "Importer le fichier 'Ads_CTR_Optimisation.csv'\n",
        "Afficher les 10 premieres lignes pour voir les donnees"
      ]
    },
    {
      "metadata": {
        "id": "hyTK-pXoa8EI",
        "colab_type": "code",
        "colab": {
          "autoexec": {
            "startup": false,
            "wait_interval": 0
          },
          "base_uri": "https://localhost:8080/",
          "height": 204
        },
        "outputId": "34de52ba-8f62-4d3c-c033-fa2890202654",
        "executionInfo": {
          "status": "ok",
          "timestamp": 1526468528761,
          "user_tz": -120,
          "elapsed": 423,
          "user": {
            "displayName": "Pierre Choffé",
            "photoUrl": "//lh6.googleusercontent.com/-en_0UMRtlcA/AAAAAAAAAAI/AAAAAAAAAt4/Muo-RJpwCmM/s50-c-k-no/photo.jpg",
            "userId": "114976289963220170204"
          }
        }
      },
      "cell_type": "code",
      "source": [
        "df = pd.read_csv('data.csv')\n",
        "df.head()"
      ],
      "execution_count": 35,
      "outputs": [
        {
          "output_type": "execute_result",
          "data": {
            "text/html": [
              "<div>\n",
              "<style scoped>\n",
              "    .dataframe tbody tr th:only-of-type {\n",
              "        vertical-align: middle;\n",
              "    }\n",
              "\n",
              "    .dataframe tbody tr th {\n",
              "        vertical-align: top;\n",
              "    }\n",
              "\n",
              "    .dataframe thead th {\n",
              "        text-align: right;\n",
              "    }\n",
              "</style>\n",
              "<table border=\"1\" class=\"dataframe\">\n",
              "  <thead>\n",
              "    <tr style=\"text-align: right;\">\n",
              "      <th></th>\n",
              "      <th>Ad 1</th>\n",
              "      <th>Ad 2</th>\n",
              "      <th>Ad 3</th>\n",
              "      <th>Ad 4</th>\n",
              "      <th>Ad 5</th>\n",
              "      <th>Ad 6</th>\n",
              "      <th>Ad 7</th>\n",
              "      <th>Ad 8</th>\n",
              "      <th>Ad 9</th>\n",
              "      <th>Ad 10</th>\n",
              "    </tr>\n",
              "  </thead>\n",
              "  <tbody>\n",
              "    <tr>\n",
              "      <th>0</th>\n",
              "      <td>1</td>\n",
              "      <td>0</td>\n",
              "      <td>0</td>\n",
              "      <td>0</td>\n",
              "      <td>1</td>\n",
              "      <td>0</td>\n",
              "      <td>0</td>\n",
              "      <td>0</td>\n",
              "      <td>1</td>\n",
              "      <td>0</td>\n",
              "    </tr>\n",
              "    <tr>\n",
              "      <th>1</th>\n",
              "      <td>0</td>\n",
              "      <td>0</td>\n",
              "      <td>0</td>\n",
              "      <td>0</td>\n",
              "      <td>0</td>\n",
              "      <td>0</td>\n",
              "      <td>0</td>\n",
              "      <td>0</td>\n",
              "      <td>1</td>\n",
              "      <td>0</td>\n",
              "    </tr>\n",
              "    <tr>\n",
              "      <th>2</th>\n",
              "      <td>0</td>\n",
              "      <td>0</td>\n",
              "      <td>0</td>\n",
              "      <td>0</td>\n",
              "      <td>0</td>\n",
              "      <td>0</td>\n",
              "      <td>0</td>\n",
              "      <td>0</td>\n",
              "      <td>0</td>\n",
              "      <td>0</td>\n",
              "    </tr>\n",
              "    <tr>\n",
              "      <th>3</th>\n",
              "      <td>0</td>\n",
              "      <td>1</td>\n",
              "      <td>0</td>\n",
              "      <td>0</td>\n",
              "      <td>0</td>\n",
              "      <td>0</td>\n",
              "      <td>0</td>\n",
              "      <td>1</td>\n",
              "      <td>0</td>\n",
              "      <td>0</td>\n",
              "    </tr>\n",
              "    <tr>\n",
              "      <th>4</th>\n",
              "      <td>0</td>\n",
              "      <td>0</td>\n",
              "      <td>0</td>\n",
              "      <td>0</td>\n",
              "      <td>0</td>\n",
              "      <td>0</td>\n",
              "      <td>0</td>\n",
              "      <td>0</td>\n",
              "      <td>0</td>\n",
              "      <td>0</td>\n",
              "    </tr>\n",
              "  </tbody>\n",
              "</table>\n",
              "</div>"
            ],
            "text/plain": [
              "   Ad 1  Ad 2  Ad 3  Ad 4  Ad 5  Ad 6  Ad 7  Ad 8  Ad 9  Ad 10\n",
              "0     1     0     0     0     1     0     0     0     1      0\n",
              "1     0     0     0     0     0     0     0     0     1      0\n",
              "2     0     0     0     0     0     0     0     0     0      0\n",
              "3     0     1     0     0     0     0     0     1     0      0\n",
              "4     0     0     0     0     0     0     0     0     0      0"
            ]
          },
          "metadata": {
            "tags": []
          },
          "execution_count": 35
        }
      ]
    },
    {
      "metadata": {
        "id": "_dddgujla8EO",
        "colab_type": "text"
      },
      "cell_type": "markdown",
      "source": [
        " Initialisez les variables necessaires : \n",
        " N (nombre d'iterations egale le nombre de lignes dans le dataset), \n",
        " number_ads (nombre de publicites a afficher = nombre de colonnes)"
      ]
    },
    {
      "metadata": {
        "id": "6fOZOLjXl5Ht",
        "colab_type": "code",
        "colab": {
          "autoexec": {
            "startup": false,
            "wait_interval": 0
          },
          "base_uri": "https://localhost:8080/",
          "height": 136
        },
        "outputId": "51658533-70be-441c-e3e1-3dabba0d4aed",
        "executionInfo": {
          "status": "ok",
          "timestamp": 1526468167076,
          "user_tz": -120,
          "elapsed": 1532,
          "user": {
            "displayName": "Pierre Choffé",
            "photoUrl": "//lh6.googleusercontent.com/-en_0UMRtlcA/AAAAAAAAAAI/AAAAAAAAAt4/Muo-RJpwCmM/s50-c-k-no/photo.jpg",
            "userId": "114976289963220170204"
          }
        }
      },
      "cell_type": "code",
      "source": [
        "!ls\n"
      ],
      "execution_count": 30,
      "outputs": [
        {
          "output_type": "stream",
          "text": [
            "data\r\n",
            "data.csv\r\n",
            "datalab\r\n",
            "open?id=1ifCgjGB2s2CI184DKxp9aV8wiG5bBCyU\r\n",
            "open?id=1ifCgjGB2s2CI184DKxp9aV8wiG5bBCyU.1\r\n",
            "open?id=1ifCgjGB2s2CI184DKxp9aV8wiG5bBCyU.2\r\n",
            "open?id=1ifCgjGB2s2CI184DKxp9aV8wiG5bBCyU.3\r\n"
          ],
          "name": "stdout"
        }
      ]
    },
    {
      "metadata": {
        "id": "LthZszaSa8EP",
        "colab_type": "code",
        "colab": {
          "autoexec": {
            "startup": false,
            "wait_interval": 0
          }
        }
      },
      "cell_type": "code",
      "source": [
        "N = \n",
        "number_ads = "
      ],
      "execution_count": 0,
      "outputs": []
    },
    {
      "metadata": {
        "id": "qq6hHnd5a8ER",
        "colab_type": "text"
      },
      "cell_type": "markdown",
      "source": [
        "Initialisez les 4 tableaux d'entiers pour stocker les resultats d'affichage (nombre d'affichage pour chaque publicite, nombre de clicks pour chaque publicite, le taux de clicks pour chaque publicite, le ucb pour chaque publicite)\n",
        "Toutes les valeurs initialisez a zero, sauf delta qui devrait etre initialisee a 1e400 ."
      ]
    },
    {
      "metadata": {
        "id": "LeTLA6f_a8ES",
        "colab_type": "code",
        "colab": {
          "autoexec": {
            "startup": false,
            "wait_interval": 0
          }
        }
      },
      "cell_type": "code",
      "source": [
        "number_of_display = \n",
        "number_of_clicks = \n",
        "taux_de_click = \n",
        "ucb = "
      ],
      "execution_count": 0,
      "outputs": []
    },
    {
      "metadata": {
        "id": "TFdf7ujHa8EU",
        "colab_type": "text"
      },
      "cell_type": "markdown",
      "source": [
        "On initialise une liste pour sauvegarder l'historique des actions "
      ]
    },
    {
      "metadata": {
        "id": "kmE9CDWxa8EV",
        "colab_type": "code",
        "colab": {
          "autoexec": {
            "startup": false,
            "wait_interval": 0
          }
        }
      },
      "cell_type": "code",
      "source": [
        "display_history = []"
      ],
      "execution_count": 0,
      "outputs": []
    },
    {
      "metadata": {
        "id": "3CWhKe1fa8EY",
        "colab_type": "text"
      },
      "cell_type": "markdown",
      "source": [
        "Definissez une fonction qui calcule le taux de click pour chaque publicite. \n",
        "Il faut diviser le nombre de fois ou publicite a ete clickee par le nombre de fois qu'elle a ete affichee. Attention a la division par zero !!!"
      ]
    },
    {
      "metadata": {
        "id": "s8OM27QKa8EY",
        "colab_type": "code",
        "colab": {
          "autoexec": {
            "startup": false,
            "wait_interval": 0
          }
        }
      },
      "cell_type": "code",
      "source": [
        "def calcul_taux_de_click (ad_index):\n",
        "  \n"
      ],
      "execution_count": 0,
      "outputs": []
    },
    {
      "metadata": {
        "id": "CEQJ_VbOa8Eb",
        "colab_type": "text"
      },
      "cell_type": "markdown",
      "source": [
        "Definissez une fonction qui verifie si la publicite affichee a ete clike ou pas. Elle va  chercher dans le dataset la valeur 0 ou 1 suivant le numero d'internaute et le numero de la publicite affichee. Vous pouvez utiliser une methode values(raw. column) de l'objet dataset."
      ]
    },
    {
      "metadata": {
        "id": "yWPcdK3Da8Ec",
        "colab_type": "code",
        "colab": {
          "autoexec": {
            "startup": false,
            "wait_interval": 0
          }
        }
      },
      "cell_type": "code",
      "source": [
        "def get_result_from_file(raw, column):\n",
        "    \n",
        "    "
      ],
      "execution_count": 0,
      "outputs": []
    },
    {
      "metadata": {
        "id": "d98zX_FEa8Ee",
        "colab_type": "text"
      },
      "cell_type": "markdown",
      "source": [
        "Definissez une fonction qui calcule l'intervalle de confiance (DELTA). La formule magique est dans le cours, mais c'est aussi une racine carree du :\n",
        "    logarithme de N divise par le nombre de fois que la publicite a ete affichee. \n",
        "    coeficient 3/2\n",
        "Attention a la division par zero et au log de zero !!!\n",
        "Vous pouvez ajouter + 1 par exemple\n"
      ]
    },
    {
      "metadata": {
        "id": "ohyiEIFda8Eg",
        "colab_type": "code",
        "colab": {
          "autoexec": {
            "startup": false,
            "wait_interval": 0
          }
        }
      },
      "cell_type": "code",
      "source": [
        "def calcul_delta (n, ad_index): \n",
        "        \n",
        "        "
      ],
      "execution_count": 0,
      "outputs": []
    },
    {
      "metadata": {
        "id": "aKKgipwsa8Ei",
        "colab_type": "text"
      },
      "cell_type": "markdown",
      "source": [
        "La derniere fonction : calculer le UCB pour une publicite donnee. Ceci est vraiment simple. C'est la valeur maximale de taux de clicks qu'on peut avoir, tenant compte de l'interval de confiance."
      ]
    },
    {
      "metadata": {
        "id": "ttDIcAW6a8Ei",
        "colab_type": "code",
        "colab": {
          "autoexec": {
            "startup": false,
            "wait_interval": 0
          }
        }
      },
      "cell_type": "code",
      "source": [
        "def calcul_UCB (n, ad_index): \n",
        "    \n",
        "        "
      ],
      "execution_count": 0,
      "outputs": []
    },
    {
      "metadata": {
        "id": "635EQYi_a8El",
        "colab_type": "text"
      },
      "cell_type": "markdown",
      "source": [
        "Ecrivez le corps de l'algorithme, tel que vu en cours.\n",
        "A la fin de chaque iteration ajoutez le code suivant\n",
        "    if iteration % 1000 == 0 :\n",
        "        display_history.append(number_of_display.copy())\n",
        "Ceci va permettre d'enregistrer l'historique de modification de comportement de l'algorithme tous les 1000 iterations."
      ]
    },
    {
      "metadata": {
        "id": "okCOoZj2a8El",
        "colab_type": "code",
        "colab": {
          "autoexec": {
            "startup": false,
            "wait_interval": 0
          }
        },
        "outputId": "893709f9-123d-49b2-fe8a-ca1bfe266f48"
      },
      "cell_type": "code",
      "source": [
        "# pour chaque iteration je cherche la meilleure publicite a afficher\n",
        "for n in range(0, N):\n",
        "    \n",
        "\n",
        "    # pour chaque publicite (action possible) je compare le ucb, et je garde index du meilleur ucb\n",
        "    for i in range(0, number_ads):\n",
        "        \n",
        "        # mettre a jour le tableau avec les taux de clicks\n",
        "        \n",
        "        \n",
        "        # mettre a jour ile UCB pour chaque publicite \n",
        "           \n",
        "        \n",
        "        # trouver le meuilleur ucb\n",
        "        \n",
        "        \n",
        "        # trouver la publicite a afficher\n",
        "    \n",
        "    \n",
        "    \n",
        "    # verifier le resultat d'affichage de la publicite dans le fichier de simulation\n",
        "    \n",
        "    \n",
        "    # mettre a jour le tableau d'affichages\n",
        "    \n",
        "    \n",
        "    # mettre a jour le tableau de clicks\n",
        "    \n",
        "    \n",
        "    # ici memoriser historique des choix de l'algorithme apres chaque 1000 iterations\n",
        "    if n % 1000 == 0 :\n",
        "        print(\"appending \", number_of_display)\n",
        "        display_history.append(number_of_display.copy())"
      ],
      "execution_count": 0,
      "outputs": [
        {
          "output_type": "stream",
          "text": [
            "appending  [10001, 0, 0, 0, 0, 0, 0, 0, 0, 0]\n",
            "appending  [10001, 103, 85, 103, 259, 52, 81, 153, 99, 65]\n",
            "appending  [10001, 159, 115, 151, 914, 71, 111, 254, 135, 90]\n",
            "appending  [10001, 197, 163, 197, 1496, 88, 146, 438, 167, 108]\n",
            "appending  [10001, 288, 179, 248, 2129, 99, 222, 526, 188, 121]\n",
            "appending  [10001, 308, 197, 263, 2999, 106, 232, 566, 201, 128]\n",
            "appending  [10001, 363, 212, 286, 3627, 117, 268, 745, 241, 141]\n",
            "appending  [10001, 403, 232, 333, 4340, 125, 298, 841, 279, 149]\n",
            "appending  [10001, 428, 250, 366, 5095, 131, 321, 966, 288, 155]\n",
            "appending  [10001, 455, 262, 375, 5980, 136, 334, 996, 301, 161]\n"
          ],
          "name": "stdout"
        }
      ]
    },
    {
      "metadata": {
        "id": "39Eut4i_a8Ep",
        "colab_type": "text"
      },
      "cell_type": "markdown",
      "source": [
        "# Visualisations"
      ]
    },
    {
      "metadata": {
        "id": "JgBV12dra8Ep",
        "colab_type": "text"
      },
      "cell_type": "markdown",
      "source": [
        "Felicitations ! Maintenant vous pouvez visualiser les resultats"
      ]
    },
    {
      "metadata": {
        "id": "5jLY9v3Ra8Er",
        "colab_type": "code",
        "colab": {
          "autoexec": {
            "startup": false,
            "wait_interval": 0
          }
        },
        "outputId": "f6413946-13c3-4468-f829-0d0ba26db6af"
      },
      "cell_type": "code",
      "source": [
        "number_of_display"
      ],
      "execution_count": 0,
      "outputs": [
        {
          "output_type": "execute_result",
          "data": {
            "text/plain": [
              "[695, 353, 204, 339, 6527, 140, 381, 937, 231, 193]"
            ]
          },
          "metadata": {
            "tags": []
          },
          "execution_count": 100
        }
      ]
    },
    {
      "metadata": {
        "id": "dUmYCksHa8Eu",
        "colab_type": "code",
        "colab": {
          "autoexec": {
            "startup": false,
            "wait_interval": 0
          }
        },
        "outputId": "c2bdbe83-33b7-4204-b475-7248f2e1c07d"
      },
      "cell_type": "code",
      "source": [
        "plt.bar(range(10), number_of_display)\n",
        "plt.title('Visualisation des affichages')\n",
        "plt.xlabel('Ads Index')\n",
        "plt.ylabel('Number of times each ad was displayed')\n",
        "plt.show()"
      ],
      "execution_count": 0,
      "outputs": [
        {
          "output_type": "display_data",
          "data": {
            "image/png": "[encoded data removed]",
            "text/plain": [
              "<matplotlib.figure.Figure at 0x10aac6dd8>"
            ]
          },
          "metadata": {
            "tags": []
          }
        }
      ]
    },
    {
      "metadata": {
        "id": "900Zd6Gva8Ey",
        "colab_type": "code",
        "colab": {
          "autoexec": {
            "startup": false,
            "wait_interval": 0
          }
        },
        "outputId": "ac85677e-91aa-4b7f-d207-3146c193f164"
      },
      "cell_type": "code",
      "source": [
        "number_of_clicks"
      ],
      "execution_count": 0,
      "outputs": [
        {
          "output_type": "execute_result",
          "data": {
            "text/plain": [
              "[120, 41, 11, 38, 1758, 0, 47, 180, 16, 9]"
            ]
          },
          "metadata": {
            "tags": []
          },
          "execution_count": 102
        }
      ]
    },
    {
      "metadata": {
        "id": "0OHtZHL2a8E1",
        "colab_type": "code",
        "colab": {
          "autoexec": {
            "startup": false,
            "wait_interval": 0
          }
        },
        "outputId": "f250ad90-5a10-4005-82a9-7a70a923d83d"
      },
      "cell_type": "code",
      "source": [
        "total_clicks = sum(number_of_clicks)\n",
        "total_clicks"
      ],
      "execution_count": 0,
      "outputs": [
        {
          "output_type": "execute_result",
          "data": {
            "text/plain": [
              "2220"
            ]
          },
          "metadata": {
            "tags": []
          },
          "execution_count": 103
        }
      ]
    },
    {
      "metadata": {
        "id": "_qAKBJJma8E4",
        "colab_type": "code",
        "colab": {
          "autoexec": {
            "startup": false,
            "wait_interval": 0
          }
        },
        "outputId": "bc61de1e-f9e0-4228-a62d-7be06abdf496"
      },
      "cell_type": "code",
      "source": [
        "plt.bar(range(10), number_of_clicks)\n",
        "plt.title('Visualisation des  clicks')\n",
        "plt.xlabel('Ads Index')\n",
        "plt.ylabel('Number of times each ad was clicked')\n",
        "plt.show()"
      ],
      "execution_count": 0,
      "outputs": [
        {
          "output_type": "display_data",
          "data": {
            "image/png": "[encoded data removed]",
            "text/plain": [
              "<matplotlib.figure.Figure at 0x10aa64390>"
            ]
          },
          "metadata": {
            "tags": []
          }
        }
      ]
    },
    {
      "metadata": {
        "id": "PNsykT2ta8E7",
        "colab_type": "code",
        "colab": {
          "autoexec": {
            "startup": false,
            "wait_interval": 0
          }
        },
        "outputId": "b1f95946-138e-4c09-9b31-7595337eb4df"
      },
      "cell_type": "code",
      "source": [
        "plt.plot(number_of_display, color=\"blue\")\n",
        "plt.plot(number_of_clicks, color=\"red\")\n",
        "plt.title('Visualisation des affichages et de clicks')\n",
        "plt.xlabel('Ads Index')\n",
        "plt.ylabel('Number of times each ad was displayed or clicked')\n",
        "plt.show()"
      ],
      "execution_count": 0,
      "outputs": [
        {
          "output_type": "display_data",
          "data": {
            "image/png": "[encoded data removed]",
            "text/plain": [
              "<matplotlib.figure.Figure at 0x10ac256a0>"
            ]
          },
          "metadata": {
            "tags": []
          }
        }
      ]
    },
    {
      "metadata": {
        "id": "or9_KHNJa8FA",
        "colab_type": "code",
        "colab": {
          "autoexec": {
            "startup": false,
            "wait_interval": 0
          }
        },
        "outputId": "cef75124-0ac9-4f41-8e31-307f77361693"
      },
      "cell_type": "code",
      "source": [
        "total_clicks"
      ],
      "execution_count": 0,
      "outputs": [
        {
          "output_type": "execute_result",
          "data": {
            "text/plain": [
              "2220"
            ]
          },
          "metadata": {
            "tags": []
          },
          "execution_count": 106
        }
      ]
    },
    {
      "metadata": {
        "id": "GKaI4-HUa8FE",
        "colab_type": "code",
        "colab": {
          "autoexec": {
            "startup": false,
            "wait_interval": 0
          }
        },
        "outputId": "ee7cca2d-b15d-4d67-f0e6-7845c8e71380"
      },
      "cell_type": "code",
      "source": [
        "display_history"
      ],
      "execution_count": 0,
      "outputs": [
        {
          "output_type": "execute_result",
          "data": {
            "text/plain": [
              "[[1, 0, 0, 0, 0, 0, 0, 0, 0, 0],\n",
              " [96, 87, 66, 93, 236, 46, 69, 181, 69, 58],\n",
              " [207, 130, 99, 152, 693, 71, 128, 310, 112, 99],\n",
              " [327, 206, 126, 193, 1084, 91, 180, 532, 136, 126],\n",
              " [395, 237, 140, 241, 1704, 103, 237, 634, 165, 145],\n",
              " [420, 248, 161, 248, 2513, 108, 265, 711, 171, 156],\n",
              " [478, 275, 174, 266, 3269, 119, 293, 773, 185, 169],\n",
              " [565, 287, 189, 319, 3977, 127, 309, 836, 214, 178],\n",
              " [669, 300, 196, 328, 4773, 133, 319, 876, 222, 185],\n",
              " [680, 307, 201, 335, 5668, 137, 340, 916, 227, 190]]"
            ]
          },
          "metadata": {
            "tags": []
          },
          "execution_count": 107
        }
      ]
    },
    {
      "metadata": {
        "id": "k7icfR_Ka8FG",
        "colab_type": "code",
        "colab": {
          "autoexec": {
            "startup": false,
            "wait_interval": 0
          }
        },
        "outputId": "3e2a5060-1334-426b-bca5-aa706d6a1461"
      },
      "cell_type": "code",
      "source": [
        "for i in range (0,10):\n",
        "    plt.plot(display_history[i])"
      ],
      "execution_count": 0,
      "outputs": [
        {
          "output_type": "display_data",
          "data": {
            "image/png": "[encoded data removed]",
            "text/plain": [
              "<matplotlib.figure.Figure at 0x1059186d8>"
            ]
          },
          "metadata": {
            "tags": []
          }
        }
      ]
    },
    {
      "metadata": {
        "id": "lHF9j1Lea8FJ",
        "colab_type": "text"
      },
      "cell_type": "markdown",
      "source": [
        "# Random sampling"
      ]
    },
    {
      "metadata": {
        "id": "Q2V_IqCXa8FK",
        "colab_type": "text"
      },
      "cell_type": "markdown",
      "source": [
        "Maintenant vous pouvez faire la meme chose en choisissant une publicite au hasard random(0,9) \n",
        "et comparer les resultats.\n",
        "Ce qui'il faut surtout comparer c'est le nombre total de clicks dans les deux cas."
      ]
    }
  ]
}
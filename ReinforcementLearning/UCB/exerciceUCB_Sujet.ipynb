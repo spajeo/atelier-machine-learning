{
  "nbformat": 4,
  "nbformat_minor": 0,
  "metadata": {
    "colab": {
      "name": "exerciceUCB_Sujet.ipynb",
      "version": "0.3.2",
      "provenance": []
    },
    "kernelspec": {
      "display_name": "Python 3",
      "language": "python",
      "name": "python3"
    }
  },
  "cells": [
    {
      "cell_type": "markdown",
      "metadata": {
        "id": "view-in-github",
        "colab_type": "text"
      },
      "source": [
        "[View in Colaboratory](https://colab.research.google.com/github/spajeo/atelier-machine-learning/blob/master/ReinforcementLearning/UCB/exerciceUCB_Sujet.ipynb)"
      ]
    },
    {
      "metadata": {
        "id": "rUi500CJa8EC",
        "colab_type": "text"
      },
      "cell_type": "markdown",
      "source": [
        "# Upper Confidence Bound Algorithm"
      ]
    },
    {
      "metadata": {
        "id": "w1AY6tnMa8EE",
        "colab_type": "text"
      },
      "cell_type": "markdown",
      "source": [
        "Importer les librairies numpy, matplotlib.pyplot, pandas, math"
      ]
    },
    {
      "metadata": {
        "id": "gXatyKmxa8EE",
        "colab_type": "code",
        "colab": {
          "base_uri": "https://localhost:8080/",
          "height": 309
        },
        "outputId": "eb28f624-d710-45fe-8ed0-40a348c093fd"
      },
      "cell_type": "code",
      "source": [
        "import numpy as np\n",
        "import pandas as pd\n",
        "import math\n",
        "import matplotlib.pyplot as plt\n",
        "!wget 'https://www.dropbox.com/s/gpz2ekchbzb9wlb/Ads_CTR_Optimisation.csv?dl=0' -O data.csv"
      ],
      "execution_count": 2,
      "outputs": [
        {
          "output_type": "stream",
          "text": [
            "--2018-05-16 22:48:00--  https://www.dropbox.com/s/gpz2ekchbzb9wlb/Ads_CTR_Optimisation.csv?dl=0\n",
            "Resolving www.dropbox.com (www.dropbox.com)... 162.125.9.1, 2620:100:601f:1::a27d:901\n",
            "Connecting to www.dropbox.com (www.dropbox.com)|162.125.9.1|:443... connected.\n",
            "HTTP request sent, awaiting response... 302 Found\n",
            "Location: https://dl.dropboxusercontent.com/content_link/h0AoBCeS0RHCaa9kV8FENE4lgq6QnkR0gfZQEkggBgpQsyhegNjPo5BiKSoOskpJ/file [following]\n",
            "--2018-05-16 22:48:02--  https://dl.dropboxusercontent.com/content_link/h0AoBCeS0RHCaa9kV8FENE4lgq6QnkR0gfZQEkggBgpQsyhegNjPo5BiKSoOskpJ/file\n",
            "Resolving dl.dropboxusercontent.com (dl.dropboxusercontent.com)... 162.125.66.6, 2620:100:601f:6::a27d:906\n",
            "Connecting to dl.dropboxusercontent.com (dl.dropboxusercontent.com)|162.125.66.6|:443... connected.\n",
            "HTTP request sent, awaiting response... 200 OK\n",
            "Length: 210050 (205K) [text/csv]\n",
            "Saving to: ‘data.csv’\n",
            "\n",
            "data.csv            100%[===================>] 205.13K   567KB/s    in 0.4s    \n",
            "\n",
            "2018-05-16 22:48:03 (567 KB/s) - ‘data.csv’ saved [210050/210050]\n",
            "\n"
          ],
          "name": "stdout"
        }
      ]
    },
    {
      "metadata": {
        "id": "4QnRUCyya8EI",
        "colab_type": "text"
      },
      "cell_type": "markdown",
      "source": [
        "Importer le fichier 'Ads_CTR_Optimisation.csv'\n",
        "Afficher les 10 premieres lignes pour voir les donnees"
      ]
    },
    {
      "metadata": {
        "id": "hyTK-pXoa8EI",
        "colab_type": "code",
        "colab": {
          "base_uri": "https://localhost:8080/",
          "height": 514
        },
        "outputId": "c78fe326-c661-421b-982b-c1700c9b6f80"
      },
      "cell_type": "code",
      "source": [
        "df = pd.read_csv('data.csv')\n",
        "df.head(15)\n",
        "\n",
        "# Simulateur de comportement utilisateur.\n"
      ],
      "execution_count": 3,
      "outputs": [
        {
          "output_type": "execute_result",
          "data": {
            "text/html": [
              "<div>\n",
              "<style scoped>\n",
              "    .dataframe tbody tr th:only-of-type {\n",
              "        vertical-align: middle;\n",
              "    }\n",
              "\n",
              "    .dataframe tbody tr th {\n",
              "        vertical-align: top;\n",
              "    }\n",
              "\n",
              "    .dataframe thead th {\n",
              "        text-align: right;\n",
              "    }\n",
              "</style>\n",
              "<table border=\"1\" class=\"dataframe\">\n",
              "  <thead>\n",
              "    <tr style=\"text-align: right;\">\n",
              "      <th></th>\n",
              "      <th>Ad 1</th>\n",
              "      <th>Ad 2</th>\n",
              "      <th>Ad 3</th>\n",
              "      <th>Ad 4</th>\n",
              "      <th>Ad 5</th>\n",
              "      <th>Ad 6</th>\n",
              "      <th>Ad 7</th>\n",
              "      <th>Ad 8</th>\n",
              "      <th>Ad 9</th>\n",
              "      <th>Ad 10</th>\n",
              "    </tr>\n",
              "  </thead>\n",
              "  <tbody>\n",
              "    <tr>\n",
              "      <th>0</th>\n",
              "      <td>1</td>\n",
              "      <td>0</td>\n",
              "      <td>0</td>\n",
              "      <td>0</td>\n",
              "      <td>1</td>\n",
              "      <td>0</td>\n",
              "      <td>0</td>\n",
              "      <td>0</td>\n",
              "      <td>1</td>\n",
              "      <td>0</td>\n",
              "    </tr>\n",
              "    <tr>\n",
              "      <th>1</th>\n",
              "      <td>0</td>\n",
              "      <td>0</td>\n",
              "      <td>0</td>\n",
              "      <td>0</td>\n",
              "      <td>0</td>\n",
              "      <td>0</td>\n",
              "      <td>0</td>\n",
              "      <td>0</td>\n",
              "      <td>1</td>\n",
              "      <td>0</td>\n",
              "    </tr>\n",
              "    <tr>\n",
              "      <th>2</th>\n",
              "      <td>0</td>\n",
              "      <td>0</td>\n",
              "      <td>0</td>\n",
              "      <td>0</td>\n",
              "      <td>0</td>\n",
              "      <td>0</td>\n",
              "      <td>0</td>\n",
              "      <td>0</td>\n",
              "      <td>0</td>\n",
              "      <td>0</td>\n",
              "    </tr>\n",
              "    <tr>\n",
              "      <th>3</th>\n",
              "      <td>0</td>\n",
              "      <td>1</td>\n",
              "      <td>0</td>\n",
              "      <td>0</td>\n",
              "      <td>0</td>\n",
              "      <td>0</td>\n",
              "      <td>0</td>\n",
              "      <td>1</td>\n",
              "      <td>0</td>\n",
              "      <td>0</td>\n",
              "    </tr>\n",
              "    <tr>\n",
              "      <th>4</th>\n",
              "      <td>0</td>\n",
              "      <td>0</td>\n",
              "      <td>0</td>\n",
              "      <td>0</td>\n",
              "      <td>0</td>\n",
              "      <td>0</td>\n",
              "      <td>0</td>\n",
              "      <td>0</td>\n",
              "      <td>0</td>\n",
              "      <td>0</td>\n",
              "    </tr>\n",
              "    <tr>\n",
              "      <th>5</th>\n",
              "      <td>1</td>\n",
              "      <td>1</td>\n",
              "      <td>0</td>\n",
              "      <td>0</td>\n",
              "      <td>0</td>\n",
              "      <td>0</td>\n",
              "      <td>0</td>\n",
              "      <td>0</td>\n",
              "      <td>0</td>\n",
              "      <td>0</td>\n",
              "    </tr>\n",
              "    <tr>\n",
              "      <th>6</th>\n",
              "      <td>0</td>\n",
              "      <td>0</td>\n",
              "      <td>0</td>\n",
              "      <td>1</td>\n",
              "      <td>0</td>\n",
              "      <td>0</td>\n",
              "      <td>0</td>\n",
              "      <td>0</td>\n",
              "      <td>0</td>\n",
              "      <td>0</td>\n",
              "    </tr>\n",
              "    <tr>\n",
              "      <th>7</th>\n",
              "      <td>1</td>\n",
              "      <td>1</td>\n",
              "      <td>0</td>\n",
              "      <td>0</td>\n",
              "      <td>1</td>\n",
              "      <td>0</td>\n",
              "      <td>0</td>\n",
              "      <td>0</td>\n",
              "      <td>0</td>\n",
              "      <td>0</td>\n",
              "    </tr>\n",
              "    <tr>\n",
              "      <th>8</th>\n",
              "      <td>0</td>\n",
              "      <td>0</td>\n",
              "      <td>0</td>\n",
              "      <td>0</td>\n",
              "      <td>0</td>\n",
              "      <td>0</td>\n",
              "      <td>0</td>\n",
              "      <td>0</td>\n",
              "      <td>0</td>\n",
              "      <td>0</td>\n",
              "    </tr>\n",
              "    <tr>\n",
              "      <th>9</th>\n",
              "      <td>0</td>\n",
              "      <td>0</td>\n",
              "      <td>1</td>\n",
              "      <td>0</td>\n",
              "      <td>0</td>\n",
              "      <td>0</td>\n",
              "      <td>0</td>\n",
              "      <td>0</td>\n",
              "      <td>0</td>\n",
              "      <td>0</td>\n",
              "    </tr>\n",
              "    <tr>\n",
              "      <th>10</th>\n",
              "      <td>0</td>\n",
              "      <td>0</td>\n",
              "      <td>0</td>\n",
              "      <td>0</td>\n",
              "      <td>0</td>\n",
              "      <td>0</td>\n",
              "      <td>0</td>\n",
              "      <td>0</td>\n",
              "      <td>0</td>\n",
              "      <td>0</td>\n",
              "    </tr>\n",
              "    <tr>\n",
              "      <th>11</th>\n",
              "      <td>0</td>\n",
              "      <td>0</td>\n",
              "      <td>0</td>\n",
              "      <td>0</td>\n",
              "      <td>0</td>\n",
              "      <td>0</td>\n",
              "      <td>0</td>\n",
              "      <td>0</td>\n",
              "      <td>0</td>\n",
              "      <td>0</td>\n",
              "    </tr>\n",
              "    <tr>\n",
              "      <th>12</th>\n",
              "      <td>0</td>\n",
              "      <td>0</td>\n",
              "      <td>0</td>\n",
              "      <td>1</td>\n",
              "      <td>0</td>\n",
              "      <td>0</td>\n",
              "      <td>0</td>\n",
              "      <td>0</td>\n",
              "      <td>0</td>\n",
              "      <td>0</td>\n",
              "    </tr>\n",
              "    <tr>\n",
              "      <th>13</th>\n",
              "      <td>0</td>\n",
              "      <td>0</td>\n",
              "      <td>0</td>\n",
              "      <td>0</td>\n",
              "      <td>0</td>\n",
              "      <td>0</td>\n",
              "      <td>0</td>\n",
              "      <td>0</td>\n",
              "      <td>1</td>\n",
              "      <td>0</td>\n",
              "    </tr>\n",
              "    <tr>\n",
              "      <th>14</th>\n",
              "      <td>0</td>\n",
              "      <td>0</td>\n",
              "      <td>0</td>\n",
              "      <td>0</td>\n",
              "      <td>0</td>\n",
              "      <td>0</td>\n",
              "      <td>0</td>\n",
              "      <td>1</td>\n",
              "      <td>0</td>\n",
              "      <td>0</td>\n",
              "    </tr>\n",
              "  </tbody>\n",
              "</table>\n",
              "</div>"
            ],
            "text/plain": [
              "    Ad 1  Ad 2  Ad 3  Ad 4  Ad 5  Ad 6  Ad 7  Ad 8  Ad 9  Ad 10\n",
              "0      1     0     0     0     1     0     0     0     1      0\n",
              "1      0     0     0     0     0     0     0     0     1      0\n",
              "2      0     0     0     0     0     0     0     0     0      0\n",
              "3      0     1     0     0     0     0     0     1     0      0\n",
              "4      0     0     0     0     0     0     0     0     0      0\n",
              "5      1     1     0     0     0     0     0     0     0      0\n",
              "6      0     0     0     1     0     0     0     0     0      0\n",
              "7      1     1     0     0     1     0     0     0     0      0\n",
              "8      0     0     0     0     0     0     0     0     0      0\n",
              "9      0     0     1     0     0     0     0     0     0      0\n",
              "10     0     0     0     0     0     0     0     0     0      0\n",
              "11     0     0     0     0     0     0     0     0     0      0\n",
              "12     0     0     0     1     0     0     0     0     0      0\n",
              "13     0     0     0     0     0     0     0     0     1      0\n",
              "14     0     0     0     0     0     0     0     1     0      0"
            ]
          },
          "metadata": {
            "tags": []
          },
          "execution_count": 3
        }
      ]
    },
    {
      "metadata": {
        "id": "_dddgujla8EO",
        "colab_type": "text"
      },
      "cell_type": "markdown",
      "source": [
        " Initialisez les variables necessaires : \n",
        " N (nombre d'iterations egale le nombre de lignes dans le dataset), \n",
        " number_ads (nombre de publicites a afficher = nombre de colonnes)"
      ]
    },
    {
      "metadata": {
        "id": "6fOZOLjXl5Ht",
        "colab_type": "code",
        "colab": {
          "base_uri": "https://localhost:8080/",
          "height": 34
        },
        "outputId": "998a20d9-8cca-4894-8bdb-db67585bfd2c"
      },
      "cell_type": "code",
      "source": [
        "!ls\n"
      ],
      "execution_count": 4,
      "outputs": [
        {
          "output_type": "stream",
          "text": [
            "data.csv  datalab\r\n"
          ],
          "name": "stdout"
        }
      ]
    },
    {
      "metadata": {
        "id": "LthZszaSa8EP",
        "colab_type": "code",
        "colab": {
          "base_uri": "https://localhost:8080/",
          "height": 34
        },
        "outputId": "347d8b2c-d5f6-48d9-eb60-c5ab648fb10d"
      },
      "cell_type": "code",
      "source": [
        "N = df.shape[0]\n",
        "number_ads = df.shape[1]\n",
        "N, number_ads"
      ],
      "execution_count": 5,
      "outputs": [
        {
          "output_type": "execute_result",
          "data": {
            "text/plain": [
              "(10000, 10)"
            ]
          },
          "metadata": {
            "tags": []
          },
          "execution_count": 5
        }
      ]
    },
    {
      "metadata": {
        "id": "qq6hHnd5a8ER",
        "colab_type": "text"
      },
      "cell_type": "markdown",
      "source": [
        "Initialisez les 4 tableaux d'entiers pour stocker les resultats d'affichage (nombre d'affichage pour chaque publicite, nombre de clicks pour chaque publicite, le taux de clicks pour chaque publicite, le ucb pour chaque publicite)\n",
        "Toutes les valeurs initialisez a zero, sauf delta qui devrait etre initialisee a 1e400 ."
      ]
    },
    {
      "metadata": {
        "id": "LeTLA6f_a8ES",
        "colab_type": "code",
        "colab": {}
      },
      "cell_type": "code",
      "source": [
        "# col = df.columns.values\n",
        "# number_of_display = np.full((number_ads), 1e400)\n",
        "# number_of_clicks = np.full((number_ads), 1e400)\n",
        "# taux_de_click = np.full((number_ads), 1e400)\n",
        "# ucb = np.full((number_ads), 1e400)\n",
        "\n",
        "number_of_display = [0] * number_ads\n",
        "number_of_clicks = [0] * number_ads\n",
        "taux_de_click = [0] * number_ads\n",
        "ucb = [1e400] * number_ads\n",
        "\n",
        "# number_of_display,number_of_clicks,taux_de_click, ucb"
      ],
      "execution_count": 0,
      "outputs": []
    },
    {
      "metadata": {
        "id": "TFdf7ujHa8EU",
        "colab_type": "text"
      },
      "cell_type": "markdown",
      "source": [
        "On initialise une liste pour sauvegarder l'historique des actions "
      ]
    },
    {
      "metadata": {
        "id": "kmE9CDWxa8EV",
        "colab_type": "code",
        "colab": {}
      },
      "cell_type": "code",
      "source": [
        "display_history = []"
      ],
      "execution_count": 0,
      "outputs": []
    },
    {
      "metadata": {
        "id": "3CWhKe1fa8EY",
        "colab_type": "text"
      },
      "cell_type": "markdown",
      "source": [
        "Definissez une fonction qui calcule le taux de click pour chaque publicite. \n",
        "Il faut diviser le nombre de fois ou publicite a ete clickee par le nombre de fois qu'elle a ete affichee. Attention a la division par zero !!!"
      ]
    },
    {
      "metadata": {
        "id": "s8OM27QKa8EY",
        "colab_type": "code",
        "colab": {}
      },
      "cell_type": "code",
      "source": [
        "# def calcul_taux_de_click (n):\n",
        "#   return np.divide(number_of_clicks, number_of_display)\n",
        "def calcul_taux_de_click(ad_index):\n",
        "    if number_of_display[ad_index] > 0:\n",
        "        return (number_of_clicks[ad_index] / number_of_display[ad_index])"
      ],
      "execution_count": 0,
      "outputs": []
    },
    {
      "metadata": {
        "id": "CEQJ_VbOa8Eb",
        "colab_type": "text"
      },
      "cell_type": "markdown",
      "source": [
        "Definissez une fonction qui verifie si la publicite affichee a ete clike ou pas. Elle va  chercher dans le dataset la valeur 0 ou 1 suivant le numero d'internaute et le numero de la publicite affichee. Vous pouvez utiliser une methode values(raw. column) de l'objet dataset."
      ]
    },
    {
      "metadata": {
        "id": "yWPcdK3Da8Ec",
        "colab_type": "code",
        "colab": {}
      },
      "cell_type": "code",
      "source": [
        "def get_result_from_file(row, column):\n",
        "    return (df.values[row, column])"
      ],
      "execution_count": 0,
      "outputs": []
    },
    {
      "metadata": {
        "id": "d98zX_FEa8Ee",
        "colab_type": "text"
      },
      "cell_type": "markdown",
      "source": [
        "Definissez une fonction qui calcule l'intervalle de confiance (DELTA). La formule magique est dans le cours, mais c'est aussi une racine carree du :\n",
        "    logarithme de N divise par le nombre de fois que la publicite a ete affichee. \n",
        "    coeficient 3/2\n",
        "Attention a la division par zero et au log de zero !!!\n",
        "Vous pouvez ajouter + 1 par exemple\n"
      ]
    },
    {
      "metadata": {
        "id": "ohyiEIFda8Eg",
        "colab_type": "code",
        "colab": {}
      },
      "cell_type": "code",
      "source": [
        "def calcul_delta (n, ad_index):\n",
        "    delta = math.sqrt(3/2 * math.log(n + 1) / number_of_display[ad_index])\n",
        "    return delta"
      ],
      "execution_count": 0,
      "outputs": []
    },
    {
      "metadata": {
        "id": "aKKgipwsa8Ei",
        "colab_type": "text"
      },
      "cell_type": "markdown",
      "source": [
        "La derniere fonction : calculer le UCB pour une publicite donnee. Ceci est vraiment simple. C'est la valeur maximale de taux de clicks qu'on peut avoir, tenant compte de l'interval de confiance. (somme de taux de clics plus delta)"
      ]
    },
    {
      "metadata": {
        "id": "ttDIcAW6a8Ei",
        "colab_type": "code",
        "colab": {}
      },
      "cell_type": "code",
      "source": [
        "def calcul_UCB (n, ad_index):\n",
        "    if number_of_display[ad_index] > 0 :\n",
        "        return (taux_de_click[ad_index] + calcul_delta (n, ad_index))\n",
        "    else:\n",
        "        return 1e400"
      ],
      "execution_count": 0,
      "outputs": []
    },
    {
      "metadata": {
        "id": "635EQYi_a8El",
        "colab_type": "text"
      },
      "cell_type": "markdown",
      "source": [
        "Ecrivez le corps de l'algorithme, tel que vu en atelier.\n",
        "A la fin de chaque iteration ajoutez le code suivant\n",
        "    if iteration % 1000 == 0 :\n",
        "        display_history.append(number_of_display.copy())\n",
        "Ceci va permettre d'enregistrer l'historique de modification de comportement de l'algorithme tous les 1000 iterations."
      ]
    },
    {
      "metadata": {
        "id": "okCOoZj2a8El",
        "colab_type": "code",
        "colab": {
          "base_uri": "https://localhost:8080/",
          "height": 187
        },
        "outputId": "642beb17-ba33-43e0-9b56-89f435c2066a"
      },
      "cell_type": "code",
      "source": [
        "col = df.columns.values\n",
        "\n",
        "# pour chaque iteration je cherche la meilleure publicite a afficher\n",
        "\n",
        "\n",
        "for n in range(0, N):\n",
        "    best_ucb = 0\n",
        "    best_ad = 0\n",
        "    # pour chaque publicite (action possible) je compare le ucb, et je garde index du meilleur ucb\n",
        "    for ad_index in range(0, number_ads):\n",
        "        \n",
        "        # mettre a jour le tableau avec les taux de clicks\n",
        "        taux_de_click[ad_index] = calcul_taux_de_click(ad_index)\n",
        "        \n",
        "        # mettre a jour le UCB pour chaque publicite\n",
        "        ucb[ad_index] = calcul_UCB(n, ad_index)\n",
        "        \n",
        "        # trouver le meilleur ucb et la publicite a afficher\n",
        "        if best_ucb < ucb[ad_index]:\n",
        "            best_ucb = ucb[ad_index]\n",
        "            best_ad = ad_index\n",
        "\n",
        "    \n",
        "    # verifier le resultat d'affichage de la publicite dans le fichier de simulation\n",
        "    result = get_result_from_file(n, best_ad)\n",
        "    \n",
        "    # mettre a jour le tableau d'affichages\n",
        "    number_of_display[best_ad] = number_of_display[best_ad] + 1 \n",
        "\n",
        "    # mettre a jour le tableau de clicks\n",
        "    number_of_clicks[best_ad] = number_of_clicks[best_ad] + result\n",
        "    \n",
        "    # ici memoriser historique des choix de l'algorithme apres chaque 1000 iterations\n",
        "    if (n + 1) % 1000 == 0 :\n",
        "        print(\"appending \", number_of_display)\n",
        "        display_history.append(number_of_display.copy())"
      ],
      "execution_count": 24,
      "outputs": [
        {
          "output_type": "stream",
          "text": [
            "appending  [109, 79, 53, 68, 287, 53, 86, 140, 64, 61]\n",
            "appending  [200, 126, 86, 126, 685, 81, 142, 337, 117, 100]\n",
            "appending  [281, 213, 109, 188, 1226, 99, 184, 424, 157, 119]\n",
            "appending  [357, 245, 123, 254, 1780, 111, 215, 586, 196, 133]\n",
            "appending  [395, 273, 135, 265, 2587, 119, 229, 650, 206, 141]\n",
            "appending  [436, 315, 154, 297, 3230, 130, 255, 803, 221, 159]\n",
            "appending  [595, 325, 172, 306, 3731, 137, 269, 1060, 239, 166]\n",
            "appending  [645, 354, 179, 317, 4545, 143, 278, 1118, 248, 173]\n",
            "appending  [653, 365, 183, 327, 5452, 147, 283, 1154, 253, 183]\n",
            "appending  [705, 387, 186, 345, 6323, 150, 292, 1170, 256, 186]\n"
          ],
          "name": "stdout"
        }
      ]
    },
    {
      "metadata": {
        "id": "39Eut4i_a8Ep",
        "colab_type": "text"
      },
      "cell_type": "markdown",
      "source": [
        "# Visualisations"
      ]
    },
    {
      "metadata": {
        "id": "JgBV12dra8Ep",
        "colab_type": "text"
      },
      "cell_type": "markdown",
      "source": [
        "Felicitations ! Maintenant vous pouvez visualiser les resultats"
      ]
    },
    {
      "metadata": {
        "id": "5jLY9v3Ra8Er",
        "colab_type": "code",
        "colab": {
          "base_uri": "https://localhost:8080/",
          "height": 34
        },
        "outputId": "a2d8da01-5aab-4867-a35f-c585ef3d67fb"
      },
      "cell_type": "code",
      "source": [
        "number_of_display"
      ],
      "execution_count": 26,
      "outputs": [
        {
          "output_type": "execute_result",
          "data": {
            "text/plain": [
              "[705, 387, 186, 345, 6323, 150, 292, 1170, 256, 186]"
            ]
          },
          "metadata": {
            "tags": []
          },
          "execution_count": 26
        }
      ]
    },
    {
      "metadata": {
        "id": "dUmYCksHa8Eu",
        "colab_type": "code",
        "colab": {
          "base_uri": "https://localhost:8080/",
          "height": 376
        },
        "outputId": "b2436c11-4a47-41ea-df1d-038bae76d9e4"
      },
      "cell_type": "code",
      "source": [
        "plt.bar(range(10), number_of_display)\n",
        "plt.title('Visualisation des affichages')\n",
        "plt.xlabel('Ads Index')\n",
        "plt.ylabel('Number of times each ad was displayed')\n",
        "plt.show()"
      ],
      "execution_count": 27,
      "outputs": [
        {
          "output_type": "display_data",
          "data": {
            "image/png": "[encoded data removed]",
            "text/plain": [
              "<matplotlib.figure.Figure at 0x7ff85d49ccc0>"
            ]
          },
          "metadata": {
            "tags": []
          }
        }
      ]
    },
    {
      "metadata": {
        "id": "900Zd6Gva8Ey",
        "colab_type": "code",
        "colab": {
          "base_uri": "https://localhost:8080/",
          "height": 34
        },
        "outputId": "afb9ab81-abd6-422d-f80c-d4fea12c07af"
      },
      "cell_type": "code",
      "source": [
        "number_of_clicks"
      ],
      "execution_count": 28,
      "outputs": [
        {
          "output_type": "execute_result",
          "data": {
            "text/plain": [
              "[120, 47, 7, 38, 1675, 1, 27, 236, 20, 7]"
            ]
          },
          "metadata": {
            "tags": []
          },
          "execution_count": 28
        }
      ]
    },
    {
      "metadata": {
        "id": "0OHtZHL2a8E1",
        "colab_type": "code",
        "colab": {
          "base_uri": "https://localhost:8080/",
          "height": 34
        },
        "outputId": "f02b9a20-a2b9-4f09-ed8f-d44245606b52"
      },
      "cell_type": "code",
      "source": [
        "total_clicks = sum(number_of_clicks)\n",
        "total_clicks"
      ],
      "execution_count": 29,
      "outputs": [
        {
          "output_type": "execute_result",
          "data": {
            "text/plain": [
              "2178"
            ]
          },
          "metadata": {
            "tags": []
          },
          "execution_count": 29
        }
      ]
    },
    {
      "metadata": {
        "id": "_qAKBJJma8E4",
        "colab_type": "code",
        "colab": {
          "base_uri": "https://localhost:8080/",
          "height": 376
        },
        "outputId": "597814f7-73c5-4345-c72b-7e03f4bb4fee"
      },
      "cell_type": "code",
      "source": [
        "plt.bar(range(10), number_of_clicks)\n",
        "plt.title('Visualisation des  clicks')\n",
        "plt.xlabel('Ads Index')\n",
        "plt.ylabel('Number of times each ad was clicked')\n",
        "plt.show()"
      ],
      "execution_count": 30,
      "outputs": [
        {
          "output_type": "display_data",
          "data": {
            "image/png": "[encoded data removed]",
            "text/plain": [
              "<matplotlib.figure.Figure at 0x7ff85d49cef0>"
            ]
          },
          "metadata": {
            "tags": []
          }
        }
      ]
    },
    {
      "metadata": {
        "id": "PNsykT2ta8E7",
        "colab_type": "code",
        "colab": {
          "base_uri": "https://localhost:8080/",
          "height": 376
        },
        "outputId": "8c6c5ac0-1b25-4cb9-bcdc-f8d6e34c71bd"
      },
      "cell_type": "code",
      "source": [
        "plt.plot(number_of_display, color=\"blue\")\n",
        "plt.plot(number_of_clicks, color=\"red\")\n",
        "plt.title('Visualisation des affichages et de clicks')\n",
        "plt.xlabel('Ads Index')\n",
        "plt.ylabel('Number of times each ad was displayed or clicked')\n",
        "plt.show()"
      ],
      "execution_count": 31,
      "outputs": [
        {
          "output_type": "display_data",
          "data": {
            "image/png": "[encoded data removed]",
            "text/plain": [
              "<matplotlib.figure.Figure at 0x7ff85b3a82b0>"
            ]
          },
          "metadata": {
            "tags": []
          }
        }
      ]
    },
    {
      "metadata": {
        "id": "or9_KHNJa8FA",
        "colab_type": "code",
        "colab": {
          "base_uri": "https://localhost:8080/",
          "height": 34
        },
        "outputId": "4c5ef90b-c99c-490e-9faf-4fd01e655941"
      },
      "cell_type": "code",
      "source": [
        "total_clicks"
      ],
      "execution_count": 32,
      "outputs": [
        {
          "output_type": "execute_result",
          "data": {
            "text/plain": [
              "2178"
            ]
          },
          "metadata": {
            "tags": []
          },
          "execution_count": 32
        }
      ]
    },
    {
      "metadata": {
        "id": "GKaI4-HUa8FE",
        "colab_type": "code",
        "colab": {
          "base_uri": "https://localhost:8080/",
          "height": 187
        },
        "outputId": "59d5b57d-d7d1-48df-cbe9-1310264d26ec"
      },
      "cell_type": "code",
      "source": [
        "display_history"
      ],
      "execution_count": 33,
      "outputs": [
        {
          "output_type": "execute_result",
          "data": {
            "text/plain": [
              "[[109, 79, 53, 68, 287, 53, 86, 140, 64, 61],\n",
              " [200, 126, 86, 126, 685, 81, 142, 337, 117, 100],\n",
              " [281, 213, 109, 188, 1226, 99, 184, 424, 157, 119],\n",
              " [357, 245, 123, 254, 1780, 111, 215, 586, 196, 133],\n",
              " [395, 273, 135, 265, 2587, 119, 229, 650, 206, 141],\n",
              " [436, 315, 154, 297, 3230, 130, 255, 803, 221, 159],\n",
              " [595, 325, 172, 306, 3731, 137, 269, 1060, 239, 166],\n",
              " [645, 354, 179, 317, 4545, 143, 278, 1118, 248, 173],\n",
              " [653, 365, 183, 327, 5452, 147, 283, 1154, 253, 183],\n",
              " [705, 387, 186, 345, 6323, 150, 292, 1170, 256, 186]]"
            ]
          },
          "metadata": {
            "tags": []
          },
          "execution_count": 33
        }
      ]
    },
    {
      "metadata": {
        "id": "k7icfR_Ka8FG",
        "colab_type": "code",
        "colab": {
          "base_uri": "https://localhost:8080/",
          "height": 347
        },
        "outputId": "24868a7e-2ec1-4143-dd5a-cf45a6c32b45"
      },
      "cell_type": "code",
      "source": [
        "for i in range (0,10):\n",
        "    plt.plot(display_history[i])"
      ],
      "execution_count": 34,
      "outputs": [
        {
          "output_type": "display_data",
          "data": {
            "image/png": "[encoded data removed]",
            "text/plain": [
              "<matplotlib.figure.Figure at 0x7ff85b314208>"
            ]
          },
          "metadata": {
            "tags": []
          }
        }
      ]
    }
  ]
}
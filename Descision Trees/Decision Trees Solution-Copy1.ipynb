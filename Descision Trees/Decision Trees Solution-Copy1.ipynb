{
 "cells": [
  {
   "cell_type": "markdown",
   "metadata": {},
   "source": [
    "!!!!!!!!!!!!!!!!!!!!# Decision Tree\n",
    "\n",
    "\n",
    "\n"
   ]
  },
  {
   "cell_type": "markdown",
   "metadata": {},
   "source": [
    "Afin de créer un arbre de décision, nous allons étudier un CSV sur les revenus d'individus aux USA.\n",
    "Cela contient les informations sur le status marital, l'âge, le type d'emploi etc.\n",
    "Les datas sont de 1994. Nous voulons predire si le salaire sera inferieur voire égal à 50k ou supérieur à 50k\n",
    "\n",
    "Voilà la source : [University of California, Irvine's website](http://archive.ics.uci.edu/ml/datasets/Adult)\n",
    "Le CSV est inclus."
   ]
  },
  {
   "cell_type": "markdown",
   "metadata": {},
   "source": [
    " <span style=\"color:purple\">Importe le fichier income.csv fourni</span>"
   ]
  },
  {
   "cell_type": "code",
   "execution_count": 11,
   "metadata": {},
   "outputs": [
    {
     "ename": "NameError",
     "evalue": "name 'income' is not defined",
     "output_type": "error",
     "traceback": [
      "\u001b[0;31m---------------------------------------------------------------------------\u001b[0m",
      "\u001b[0;31mNameError\u001b[0m                                 Traceback (most recent call last)",
      "\u001b[0;32m<ipython-input-11-3d8b57121b13>\u001b[0m in \u001b[0;36m<module>\u001b[0;34m()\u001b[0m\n\u001b[1;32m      4\u001b[0m \u001b[0;34m\u001b[0m\u001b[0m\n\u001b[1;32m      5\u001b[0m \u001b[0;34m\u001b[0m\u001b[0m\n\u001b[0;32m----> 6\u001b[0;31m \u001b[0mincome\u001b[0m\u001b[0;34m.\u001b[0m\u001b[0mhead\u001b[0m\u001b[0;34m(\u001b[0m\u001b[0;36m10\u001b[0m\u001b[0;34m)\u001b[0m\u001b[0;34m\u001b[0m\u001b[0m\n\u001b[0m",
      "\u001b[0;31mNameError\u001b[0m: name 'income' is not defined"
     ]
    }
   ],
   "source": [
    "import pandas\n",
    "\n",
    "# Set index_col to False to avoid pandas thinking that the first column is row indexes (it's age)\n",
    "\n",
    "\n",
    "income.head(10)"
   ]
  },
  {
   "cell_type": "markdown",
   "metadata": {},
   "source": [
    "## Catégories"
   ]
  },
  {
   "cell_type": "markdown",
   "metadata": {},
   "source": [
    " <span style=\"color:purple\">Prends le temps d'interpreter les datas. Quels sont les differents facteurs, les\tΘ. Sous quelle forme sont elles classifiées. Sex donne \"Male\" ou \"Female\". \"workclass\" contient plusieurs sortes de réponses.   Afin de pouvoir les analyser nous allons les convertirs en valeures numériques en fonction des categories.   Pour cela utilise la class [pandas.Categorical()](http://pandas.pydata.org/pandas-édocs/stable/generated/pandas.Categorical.html#pandas.Categorical)</span>"
   ]
  },
  {
   "cell_type": "code",
   "execution_count": null,
   "metadata": {},
   "outputs": [],
   "source": [
    "\n",
    "income.head()"
   ]
  },
  {
   "cell_type": "markdown",
   "metadata": {},
   "source": [
    " <span style=\"color:purple\">Convertis le reste des catgorical columns dans `income` (education, marital_status, occupation, relationship, race, sex, native_country, and high_income) en categories numerique.</span>\n"
   ]
  },
  {
   "cell_type": "code",
   "execution_count": null,
   "metadata": {},
   "outputs": [],
   "source": [
    "to_convert = [\"education\",\"marital_status\",\"occupation\",\"relationship\",\"race\",\"sex\",\"native_country\",\"high_income\"]\n",
    "\n",
    "income.head()"
   ]
  },
  {
   "cell_type": "markdown",
   "metadata": {},
   "source": [
    " <span style=\"color:purple\">A present divise income en deux `DataFrames` afin de diviser ceux travaillant dans le secteur privé ou non. </span>\n",
    "\n",
    "*python hint : You can use Booleans to split a dataframe.*"
   ]
  },
  {
   "cell_type": "code",
   "execution_count": null,
   "metadata": {},
   "outputs": [],
   "source": [
    "private_incomes = income[income[\"workclass\"] == 4]\n",
    "public_incomes  = income[income[\"workclass\"] != 4]\n",
    "print(public_incomes.head())\n",
    "print(private_incomes.head())"
   ]
  },
  {
   "cell_type": "markdown",
   "metadata": {},
   "source": [
    "## Entropy"
   ]
  },
  {
   "cell_type": "markdown",
   "metadata": {},
   "source": [
    "Calcule l'entropie de `high_income`. On utilisera le log2 pour cet exercice.\n",
    "\n",
    "$$-\\sum _{ i=1 }^{ c }{ P({ x }_{ i })\\log _{ b }{ P({ x }_{ i }) }  } $$"
   ]
  },
  {
   "cell_type": "code",
   "execution_count": null,
   "metadata": {},
   "outputs": [],
   "source": [
    "import math\n",
    "\n",
    "entropy = - (2/5 * math.log(2/5, 2) + 3/5 * math.log(3/5, 2))\n",
    "print(entropy)"
   ]
  },
  {
   "cell_type": "markdown",
   "metadata": {},
   "source": [
    " <span style=\"color:green\">Attendu : 0.9709505944546686</span>"
   ]
  },
  {
   "cell_type": "code",
   "execution_count": null,
   "metadata": {},
   "outputs": [],
   "source": [
    "prob_0 = income[income[\"high_income\"] == 0].shape[0] / income.shape[0]\n",
    "prob_1 = income[income[\"high_income\"] == 1].shape[0] / income.shape[0]\n",
    "income_entropy = -(prob_0 * math.log(prob_0, 2) + prob_1 * math.log(prob_1, 2))"
   ]
  },
  {
   "cell_type": "code",
   "execution_count": null,
   "metadata": {},
   "outputs": [],
   "source": [
    "!!!@@@@@@@"
   ]
  },
  {
   "cell_type": "markdown",
   "metadata": {},
   "source": [
    " <span style=\"color:purple\">Code une fonction généraliste pour l'Entropie et vérfie que tu obtiens le même résultat. Puis vérifie que la réponse coïncide</span>\n",
    " \n",
    " *hint : numpy.bincount*"
   ]
  },
  {
   "cell_type": "code",
   "execution_count": null,
   "metadata": {},
   "outputs": [],
   "source": [
    "import numpy\n",
    "\n",
    "def calc_entropy(column):\n",
    "\n",
    "    # Détermine le nombre d'occurence de chacune des valeurs dans la colonne\n",
    "    counts = numpy.bincount(column)\n",
    "    # détermine la probabilité d'occurence de chacune des catégories\n",
    "    probabilities = counts / len(column)\n",
    "    \n",
    "    entropy = 0\n",
    "    # fais une boucle par probabilités et additionne les résultats\n",
    "    for prob in probabilities:\n",
    "        if prob > 0:\n",
    "            entropy += prob * math.log(prob, 2)\n",
    "    entropy = -entropy\n",
    "    return entropy\n",
    "\n",
    "entropy = calc_entropy([1,1,0,0,1]) #preciser\n",
    "print(entropy)"
   ]
  },
  {
   "cell_type": "markdown",
   "metadata": {},
   "source": [
    "## Information Gain"
   ]
  },
  {
   "cell_type": "markdown",
   "metadata": {},
   "source": [
    " <span style=\"color:purple\">Calcule le `Information Gain` de `age` afin de savoir sur quelle variable effectuer la division de catégories.</span>\n",
    " \n",
    "$$Entropy(T)\\quad =\\sum _{ i=1 }^{ c }{ P({ x }_{ i })\\log _{ b }{ P({ x }_{ i }) }  } \\\\ \\\\ IG(T,\\quad A)\\quad =\\quad Entropy(T)-\\sum _{ v\\epsilon A }^{  }{ \\frac { |{ T }_{ v }| }{ |T| }  } .Entropy({ T }_{ v })$$\n"
   ]
  },
  {
   "cell_type": "code",
   "execution_count": null,
   "metadata": {},
   "outputs": [],
   "source": [
    "#example income\n",
    "information_gain = entropy - ((.8 * calc_entropy([1,1,0,0])) + (.2 * calc_entropy([1])))\n",
    "print(information_gain)\n",
    "income_entropy = calc_entropy(income[\"high_income\"])\n",
    "\n",
    "#trouve le médian de age.\n",
    "median_age = income[\"age\"].median()\n",
    "\n",
    "# crée deux subset en fonction du médian\n",
    "left_split = income[income[\"age\"] <= median_age]\n",
    "right_split = income[income[\"age\"] > median_age]\n",
    "\n",
    "#calculez le le age_information_gain\n",
    "age_information_gain = \\\n",
    "        income_entropy - ((left_split.shape[0] / income.shape[0]) * calc_entropy(left_split[\"high_income\"])\n",
    "        + ((right_split.shape[0] / income.shape[0]) * calc_entropy(right_split[\"high_income\"])))#detailler"
   ]
  },
  {
   "cell_type": "markdown",
   "metadata": {},
   "source": [
    " <span style=\"color:green\">Attendu: 0.170950594455</span>"
   ]
  },
  {
   "cell_type": "markdown",
   "metadata": {},
   "source": [
    " <span style=\"color:purple\">Créer une fonction `calc_information_gain`, puis une liste information_gains de toutes les colonnes</span>"
   ]
  },
  {
   "cell_type": "code",
   "execution_count": null,
   "metadata": {},
   "outputs": [],
   "source": [
    "def calc_information_gain(data, split_name, target_name):\n",
    "\n",
    "    # calcule l'entropy d'origine\n",
    "    original_entropy = calc_entropy(data[target_name])\n",
    "    \n",
    "    # trouve le médiant de la colonne\n",
    "    column = data[split_name]\n",
    "    median = column.median()\n",
    "    \n",
    "    # crée deux subset en fonction du médian\n",
    "    left_split = data[column <= median]\n",
    "    right_split = data[column > median]\n",
    "    \n",
    "    # calcule le subset entropy de chacun des set\n",
    "    to_subtract = 0\n",
    "    print(subset)\n",
    "    for subset in [left_split, right_split]:\n",
    "        print(subset)\n",
    "        prob = (subset.shape[0] / data.shape[0]) \n",
    "        to_subtract += prob * calc_entropy(subset[target_name])\n",
    "    \n",
    "    # Retourne information gain\n",
    "    return original_entropy - to_subtract\n",
    "\n",
    "# Vérifie que la valeur coïncide\n",
    "# print(calc_information_gain(income, \"age\", \"high_income\"))\n",
    "\n",
    "columns = [\"age\", \"workclass\", \"education_num\", \"marital_status\", \"occupation\", \"relationship\", \"race\", \"sex\", \"hours_per_week\", \"native_country\"]\n",
    "information_gains = []\n",
    "# #faire une boucle\n",
    "# for col in columns:\n",
    "#     information_gain = calc_information_gain(income, col, \"high_income\")\n",
    "#     information_gains.append(information_gain)\n",
    "\n",
    "# selectionne le nom de colonne avec la valeur la plus élevée\n",
    "# highest_gain_index = information_gains.index(max(information_gains))\n",
    "# highest_gain = columns[highest_gain_index]"
   ]
  },
  {
   "cell_type": "markdown",
   "metadata": {},
   "source": [
    " <span style=\"color:green\">Attendu: 0.0470286613047</span>"
   ]
  },
  {
   "cell_type": "code",
   "execution_count": null,
   "metadata": {
    "collapsed": true
   },
   "outputs": [],
   "source": []
  },
  {
   "cell_type": "code",
   "execution_count": null,
   "metadata": {
    "collapsed": true
   },
   "outputs": [],
   "source": []
  },
  {
   "cell_type": "code",
   "execution_count": null,
   "metadata": {
    "collapsed": true
   },
   "outputs": [],
   "source": []
  },
  {
   "cell_type": "code",
   "execution_count": null,
   "metadata": {
    "collapsed": true
   },
   "outputs": [],
   "source": []
  },
  {
   "cell_type": "code",
   "execution_count": null,
   "metadata": {
    "collapsed": true
   },
   "outputs": [],
   "source": []
  },
  {
   "cell_type": "code",
   "execution_count": null,
   "metadata": {
    "collapsed": true
   },
   "outputs": [],
   "source": []
  },
  {
   "cell_type": "code",
   "execution_count": null,
   "metadata": {
    "collapsed": true
   },
   "outputs": [],
   "source": []
  },
  {
   "cell_type": "code",
   "execution_count": null,
   "metadata": {
    "collapsed": true
   },
   "outputs": [],
   "source": []
  },
  {
   "cell_type": "code",
   "execution_count": null,
   "metadata": {
    "collapsed": true
   },
   "outputs": [],
   "source": []
  },
  {
   "cell_type": "code",
   "execution_count": null,
   "metadata": {
    "collapsed": true
   },
   "outputs": [],
   "source": []
  },
  {
   "cell_type": "code",
   "execution_count": null,
   "metadata": {
    "collapsed": true
   },
   "outputs": [],
   "source": []
  },
  {
   "cell_type": "code",
   "execution_count": null,
   "metadata": {
    "collapsed": true
   },
   "outputs": [],
   "source": []
  },
  {
   "cell_type": "code",
   "execution_count": null,
   "metadata": {
    "collapsed": true
   },
   "outputs": [],
   "source": []
  },
  {
   "cell_type": "code",
   "execution_count": null,
   "metadata": {
    "collapsed": true
   },
   "outputs": [],
   "source": []
  },
  {
   "cell_type": "code",
   "execution_count": null,
   "metadata": {
    "collapsed": true
   },
   "outputs": [],
   "source": []
  },
  {
   "cell_type": "code",
   "execution_count": null,
   "metadata": {
    "collapsed": true
   },
   "outputs": [],
   "source": []
  },
  {
   "cell_type": "code",
   "execution_count": null,
   "metadata": {
    "collapsed": true
   },
   "outputs": [],
   "source": []
  },
  {
   "cell_type": "code",
   "execution_count": null,
   "metadata": {
    "collapsed": true
   },
   "outputs": [],
   "source": []
  },
  {
   "cell_type": "code",
   "execution_count": null,
   "metadata": {
    "collapsed": true
   },
   "outputs": [],
   "source": []
  },
  {
   "cell_type": "code",
   "execution_count": null,
   "metadata": {
    "collapsed": true
   },
   "outputs": [],
   "source": []
  },
  {
   "cell_type": "code",
   "execution_count": null,
   "metadata": {
    "collapsed": true
   },
   "outputs": [],
   "source": []
  }
 ],
 "metadata": {
  "kernelspec": {
   "display_name": "Python 3",
   "language": "python",
   "name": "python3"
  },
  "language_info": {
   "codemirror_mode": {
    "name": "ipython",
    "version": 3
   },
   "file_extension": ".py",
   "mimetype": "text/x-python",
   "name": "python",
   "nbconvert_exporter": "python",
   "pygments_lexer": "ipython3",
   "version": "3.6.3"
  }
 },
 "nbformat": 4,
 "nbformat_minor": 2
}
